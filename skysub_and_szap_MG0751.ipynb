{
 "cells": [
  {
   "cell_type": "code",
   "execution_count": 1,
   "metadata": {},
   "outputs": [],
   "source": [
    "import numpy as np\n",
    "import matplotlib.pyplot as plt\n",
    "import glob\n",
    "from specim_test.specim.specfuncs import spec2d\n",
    "from astropy.io import fits as pf"
   ]
  },
  {
   "cell_type": "code",
   "execution_count": 2,
   "metadata": {},
   "outputs": [],
   "source": [
    "file_loc = '../galaxy_spectra/LRIS_red_data_201213/keck_lris_red_D/Science/*'"
   ]
  },
  {
   "cell_type": "code",
   "execution_count": 3,
   "metadata": {},
   "outputs": [],
   "source": [
    "file_list = []\n",
    "out_file = []\n",
    "for i,p in enumerate(glob.glob(file_loc)):\n",
    "    if 'spec2d' in p and 'MG0751' in p:\n",
    "\n",
    "        file_list.append(p)\n",
    "        frame = p.split('_')[-3][:4]\n",
    "        out_file.append('MG0751_r'+ frame + '_mask_new.fits')"
   ]
  },
  {
   "cell_type": "code",
   "execution_count": null,
   "metadata": {},
   "outputs": [],
   "source": [
    "for i, p in enumerate(file_list):\n",
    "    spec = spec2d.Spec2d(p, hext=12, xtrim=[30, 200])\n",
    "    spec.set_dispaxis('y')\n",
    "    spec.subtract_sky_2d(use_skymod=True)# outfile=out_file[i])\n",
    "    #spec.szap(outfile=out_file[i], use_skymod=True)\n",
    "    filled_data, mask = szap(spec.data)"
   ]
  },
  {
   "cell_type": "code",
   "execution_count": 4,
   "metadata": {},
   "outputs": [
    {
     "name": "stdout",
     "output_type": "stream",
     "text": [
      "\n",
      "Loading file ../galaxy_spectra/LRIS_red_data_201213/keck_lris_red_D/Science/spec2d_r201213_0034-MG0751+2716_LRISr_2020Dec13T120424.557.fits\n",
      "-----------------------------------------------\n",
      "Read in 2-dimensional spectrum from ../galaxy_spectra/LRIS_red_data_201213/keck_lris_red_D/Science/spec2d_r201213_0034-MG0751+2716_LRISr_2020Dec13T120424.557.fits (HDU=12)\n",
      "The input dataset was trimmed\n",
      " xrange: 30:201.  yrange: 0:4096\n",
      "Final data dimensions (x y): 171 x 4096\n",
      "\n",
      "Dispersion axis:              x\n",
      "N_pixels along dispersion axis: 171\n",
      "\n",
      "\n",
      "Old value of dispaxis: x\n",
      "\n",
      "Dispersion axis:              y\n",
      "N_pixels along dispersion axis: 4096\n",
      "\n",
      "\n",
      "\n",
      "pypeit generated sky model will be used for sky subtraction\n",
      "\n",
      "\n",
      "From this point sky subtracted data will be used\n",
      " Spectrum Start:     0.00\n",
      " Spectrum End:     4095.00\n",
      " Dispersion (1st pixel):   1.00\n",
      " Dispersion (average):      1.00\n",
      "\n",
      "\n",
      "Loading file ../galaxy_spectra/LRIS_red_data_201213/keck_lris_red_D/Science/spec2d_r201213_0035-MG0751+2716_LRISr_2020Dec13T124808.006.fits\n",
      "-----------------------------------------------\n",
      "Read in 2-dimensional spectrum from ../galaxy_spectra/LRIS_red_data_201213/keck_lris_red_D/Science/spec2d_r201213_0035-MG0751+2716_LRISr_2020Dec13T124808.006.fits (HDU=12)\n",
      "The input dataset was trimmed\n",
      " xrange: 30:201.  yrange: 0:4096\n",
      "Final data dimensions (x y): 171 x 4096\n",
      "\n",
      "Dispersion axis:              x\n",
      "N_pixels along dispersion axis: 171\n",
      "\n",
      "\n",
      "Old value of dispaxis: x\n",
      "\n",
      "Dispersion axis:              y\n",
      "N_pixels along dispersion axis: 4096\n",
      "\n",
      "\n",
      "\n",
      "pypeit generated sky model will be used for sky subtraction\n",
      "\n",
      "\n",
      "From this point sky subtracted data will be used\n",
      " Spectrum Start:     0.00\n",
      " Spectrum End:     4095.00\n",
      " Dispersion (1st pixel):   1.00\n",
      " Dispersion (average):      1.00\n",
      "\n"
     ]
    }
   ],
   "source": [
    "spec1 = spec2d.Spec2d(file_list[0], hext=12, xtrim=[30, 200])\n",
    "spec1.set_dispaxis('y')\n",
    "spec1.subtract_sky_2d(use_skymod=True)\n",
    "spec2 = spec2d.Spec2d(file_list[1], hext=12, xtrim=[30, 200])\n",
    "spec2.set_dispaxis('y')\n",
    "spec2.subtract_sky_2d(use_skymod=True)"
   ]
  },
  {
   "cell_type": "code",
   "execution_count": 5,
   "metadata": {},
   "outputs": [],
   "source": [
    "sp_1 = spec1.data[:, 30:201]\n",
    "sp_2 = spec2.data[:, 30:201]"
   ]
  },
  {
   "cell_type": "code",
   "execution_count": null,
   "metadata": {},
   "outputs": [],
   "source": [
    "%matplotlib notebook\n",
    "count, bins, patch= plt.hist(sp_1.flatten(), bins=1000)\n",
    "counts, bins1, patch = plt.hist(sp_2.flatten(), bins=1000)\n",
    "#bins2= plt.hist(sp2.flatten(), bins=250)\n",
    "#bins = plt.hist((sp2-sp1).flatten(), bins=200)\n",
    "plt.yscale('log')"
   ]
  },
  {
   "cell_type": "code",
   "execution_count": 6,
   "metadata": {},
   "outputs": [],
   "source": [
    "#sp_2 = pf.open('B0445_median_image.fits')[0].data\n",
    "mask = np.zeros(sp_1.shape, dtype=bool)\n",
    "#print(sp_1.shape)\n",
    "\n",
    "for k in range(0, sp_1.shape[0], 400):\n",
    "    for i in range(0, sp_1.shape[1], 5):\n",
    "        sp1 = sp_1[k:k+400, i:i+5]\n",
    "        sp2 = sp_2[k:k+400, i:i+5]\n",
    "        count1, bins1 = np.histogram(sp1.flatten(), bins=1000)\n",
    "        count2, bins2 = np.histogram(sp2.flatten(), bins=1000)\n",
    "        sm1 = 0\n",
    "        sm2 = 0\n",
    "        cnt1 = 0\n",
    "        cnt2 = 0\n",
    "        tot_pix =sp1.flatten().shape[0]\n",
    "\n",
    "        for j,p in enumerate(count1):\n",
    "            if p > cnt1:\n",
    "                cnt1 = p\n",
    "                max_bin1 = bins1[j+1]\n",
    "            sm1 += p\n",
    "            if sm1/tot_pix >= 0.8 :\n",
    "                border1 = 0.5*(bins1[j+1] + bins1[j])\n",
    "                break\n",
    "        #print(border)\n",
    "        for j,p in enumerate(count2):\n",
    "            if p > cnt2:\n",
    "                cnt2 = p\n",
    "                max_bin2 = 0.5*(bins2[j+1] + bins2[j])\n",
    "            sm2 += p\n",
    "            if sm2/tot_pix >= 0.8 :\n",
    "                border2 = bins2[j+1]\n",
    "                break\n",
    "\n",
    "        a = np.where(sp1>border1)\n",
    "        a =np.transpose(a)\n",
    "\n",
    "        if abs(border1 - max_bin1) < 50 :\n",
    "            mp = 100    #/ abs(border1 - max_bin1)\n",
    "        elif abs(border1 - max_bin1) < 100 :\n",
    "            mp = 200\n",
    "        elif abs(border1 - max_bin1) < 300:\n",
    "            mp = 300\n",
    "        else:\n",
    "            mp = 400\n",
    "\n",
    "        for j, p in enumerate(a):\n",
    "\n",
    "            #print(sp2[p[0]][p[1]])\n",
    "            if sp2[p[0]][p[1]] >0 :\n",
    "                #pass \n",
    "                if sp1[p[0]][p[1]] > (sp2[p[0]][p[1]]+mp) :\n",
    "                    mask[k+p[0]][i+p[1]] =1 \n",
    "            else:\n",
    "                if sp1[p[0]][p[1]] > 3*border1 :\n",
    "                    mask[k+p[0]][i+p[1]] =1\n",
    "\n",
    "#print(mask)\n",
    "#sp_1[mask] = sp_2[mask]\n",
    "\n",
    "#return sp_1, mask.astype(int)"
   ]
  },
  {
   "cell_type": "code",
   "execution_count": null,
   "metadata": {},
   "outputs": [],
   "source": [
    "sp_1[mask] = -50000"
   ]
  },
  {
   "cell_type": "code",
   "execution_count": 7,
   "metadata": {},
   "outputs": [],
   "source": [
    "mf = np.transpose(np.where(mask==1))\n",
    "fill = np.zeros(sp_1.shape)\n",
    "#print(mf.shape[0])\n",
    "for i,p in enumerate(mf):\n",
    "    #mask[p[0]+rw_st][p[1]+clm_st] = 1\n",
    "    reg = sp_1[p[0]- 20 : p[0]+ 21, p[1]:p[1]+1]\n",
    "    fill[p[0]][p[1]] = np.median(reg)\n",
    "sp_1[mask] = fill[mask]"
   ]
  },
  {
   "cell_type": "code",
   "execution_count": 8,
   "metadata": {},
   "outputs": [],
   "source": [
    "pf.PrimaryHDU(sp_1.T).writeto('sp1_fill.fits')"
   ]
  },
  {
   "cell_type": "code",
   "execution_count": null,
   "metadata": {},
   "outputs": [],
   "source": [
    "sp_1.shape"
   ]
  },
  {
   "cell_type": "code",
   "execution_count": null,
   "metadata": {},
   "outputs": [],
   "source": [
    "np.transpose(np.where(mask==1))"
   ]
  },
  {
   "cell_type": "code",
   "execution_count": null,
   "metadata": {},
   "outputs": [],
   "source": [
    "sp_1.shape"
   ]
  },
  {
   "cell_type": "code",
   "execution_count": null,
   "metadata": {},
   "outputs": [],
   "source": []
  }
 ],
 "metadata": {
  "kernelspec": {
   "display_name": "Python 3",
   "language": "python",
   "name": "python3"
  },
  "language_info": {
   "codemirror_mode": {
    "name": "ipython",
    "version": 3
   },
   "file_extension": ".py",
   "mimetype": "text/x-python",
   "name": "python",
   "nbconvert_exporter": "python",
   "pygments_lexer": "ipython3",
   "version": "3.7.4"
  }
 },
 "nbformat": 4,
 "nbformat_minor": 4
}
