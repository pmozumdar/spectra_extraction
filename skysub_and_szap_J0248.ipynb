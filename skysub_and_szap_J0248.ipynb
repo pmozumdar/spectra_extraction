{
 "cells": [
  {
   "cell_type": "code",
   "execution_count": 1,
   "metadata": {},
   "outputs": [],
   "source": [
    "import numpy as np\n",
    "import matplotlib.pyplot as plt\n",
    "import glob\n",
    "from specim_test.specim.specfuncs import spec2d\n",
    "from astropy.io import fits as pf"
   ]
  },
  {
   "cell_type": "code",
   "execution_count": 2,
   "metadata": {},
   "outputs": [],
   "source": [
    "file_loc = '../galaxy_spectra/LRIS_red_data_20201120/keck_lris_red_B/Science/*'"
   ]
  },
  {
   "cell_type": "code",
   "execution_count": 4,
   "metadata": {},
   "outputs": [],
   "source": [
    "file_list = []\n",
    "out_file = []\n",
    "for i,p in enumerate(glob.glob(file_loc)):\n",
    "    if 'spec2d' in p and 'J0248+1913' in p:\n",
    "        file_list.append(p)\n",
    "        frame = p.split('_')[-3][:4]\n",
    "        out_file.append('J0248_r'+ frame + '_cleaned.fits')"
   ]
  },
  {
   "cell_type": "code",
   "execution_count": 5,
   "metadata": {},
   "outputs": [
    {
     "data": {
      "text/plain": [
       "['../galaxy_spectra/LRIS_red_data_20201120/keck_lris_red_B/Science/spec2d_r201121_0037-J0248+1913_LRISr_2020Nov21T095645.974.fits',\n",
       " '../galaxy_spectra/LRIS_red_data_20201120/keck_lris_red_B/Science/spec2d_r201121_0039-J0248+1913_LRISr_2020Nov21T112410.282.fits',\n",
       " '../galaxy_spectra/LRIS_red_data_20201120/keck_lris_red_B/Science/spec2d_r201121_0038-J0248+1913_LRISr_2020Nov21T104024.845.fits']"
      ]
     },
     "execution_count": 5,
     "metadata": {},
     "output_type": "execute_result"
    }
   ],
   "source": []
  },
  {
   "cell_type": "code",
   "execution_count": 6,
   "metadata": {},
   "outputs": [
    {
     "name": "stdout",
     "output_type": "stream",
     "text": [
      "\n",
      "Loading file ../galaxy_spectra/LRIS_red_data_20201120/keck_lris_red_B/Science/spec2d_r201121_0037-J0248+1913_LRISr_2020Nov21T095645.974.fits\n",
      "-----------------------------------------------\n",
      "Read in 2-dimensional spectrum from ../galaxy_spectra/LRIS_red_data_20201120/keck_lris_red_B/Science/spec2d_r201121_0037-J0248+1913_LRISr_2020Nov21T095645.974.fits (HDU=12)\n",
      "The input dataset was trimmed\n",
      " xrange: 30:221.  yrange: 0:4096\n",
      "Final data dimensions (x y): 191 x 4096\n",
      "\n",
      "Dispersion axis:              x\n",
      "N_pixels along dispersion axis: 191\n",
      "\n",
      "\n",
      "Old value of dispaxis: x\n",
      "\n",
      "Dispersion axis:              y\n",
      "N_pixels along dispersion axis: 4096\n",
      "\n",
      "\n",
      "\n",
      "pypeit generated sky model will be used for sky subtraction\n",
      "\n",
      "\n",
      "From this point sky subtracted data will be used\n",
      " Spectrum Start:     0.00\n",
      " Spectrum End:     4095.00\n",
      " Dispersion (1st pixel):   1.00\n",
      " Dispersion (average):      1.00\n",
      "\n",
      "\n",
      "Loading file ../galaxy_spectra/LRIS_red_data_20201120/keck_lris_red_B/Science/spec2d_r201121_0039-J0248+1913_LRISr_2020Nov21T112410.282.fits\n",
      "-----------------------------------------------\n",
      "Read in 2-dimensional spectrum from ../galaxy_spectra/LRIS_red_data_20201120/keck_lris_red_B/Science/spec2d_r201121_0039-J0248+1913_LRISr_2020Nov21T112410.282.fits (HDU=12)\n",
      "The input dataset was trimmed\n",
      " xrange: 30:221.  yrange: 0:4096\n",
      "Final data dimensions (x y): 191 x 4096\n",
      "\n",
      "Dispersion axis:              x\n",
      "N_pixels along dispersion axis: 191\n",
      "\n",
      "\n",
      "Old value of dispaxis: x\n",
      "\n",
      "Dispersion axis:              y\n",
      "N_pixels along dispersion axis: 4096\n",
      "\n",
      "\n",
      "\n",
      "pypeit generated sky model will be used for sky subtraction\n",
      "\n",
      "\n",
      "From this point sky subtracted data will be used\n",
      " Spectrum Start:     0.00\n",
      " Spectrum End:     4095.00\n",
      " Dispersion (1st pixel):   1.00\n",
      " Dispersion (average):      1.00\n",
      "\n",
      "\n",
      "Loading file ../galaxy_spectra/LRIS_red_data_20201120/keck_lris_red_B/Science/spec2d_r201121_0038-J0248+1913_LRISr_2020Nov21T104024.845.fits\n",
      "-----------------------------------------------\n",
      "Read in 2-dimensional spectrum from ../galaxy_spectra/LRIS_red_data_20201120/keck_lris_red_B/Science/spec2d_r201121_0038-J0248+1913_LRISr_2020Nov21T104024.845.fits (HDU=12)\n",
      "The input dataset was trimmed\n",
      " xrange: 30:221.  yrange: 0:4096\n",
      "Final data dimensions (x y): 191 x 4096\n",
      "\n",
      "Dispersion axis:              x\n",
      "N_pixels along dispersion axis: 191\n",
      "\n",
      "\n",
      "Old value of dispaxis: x\n",
      "\n",
      "Dispersion axis:              y\n",
      "N_pixels along dispersion axis: 4096\n",
      "\n",
      "\n",
      "\n",
      "pypeit generated sky model will be used for sky subtraction\n",
      "\n",
      "\n",
      "From this point sky subtracted data will be used\n",
      " Spectrum Start:     0.00\n",
      " Spectrum End:     4095.00\n",
      " Dispersion (1st pixel):   1.00\n",
      " Dispersion (average):      1.00\n",
      "\n"
     ]
    }
   ],
   "source": [
    "## median image\n",
    "spec_list = []\n",
    "for i, p in enumerate(file_list):\n",
    "    spec = spec2d.Spec2d(p, hext=12, xtrim=[30, 220])\n",
    "    spec.set_dispaxis('y')\n",
    "    spec.subtract_sky_2d(use_skymod=True)\n",
    "    spec_list.append(spec.data)\n",
    "median_im = np.median(np.asarray(spec_list), axis=0)"
   ]
  },
  {
   "cell_type": "code",
   "execution_count": 7,
   "metadata": {},
   "outputs": [],
   "source": [
    "pf.PrimaryHDU(median_im).writeto('J0248_median_image.fits')"
   ]
  },
  {
   "cell_type": "code",
   "execution_count": null,
   "metadata": {},
   "outputs": [],
   "source": []
  }
 ],
 "metadata": {
  "kernelspec": {
   "display_name": "Python 3",
   "language": "python",
   "name": "python3"
  },
  "language_info": {
   "codemirror_mode": {
    "name": "ipython",
    "version": 3
   },
   "file_extension": ".py",
   "mimetype": "text/x-python",
   "name": "python",
   "nbconvert_exporter": "python",
   "pygments_lexer": "ipython3",
   "version": "3.7.4"
  }
 },
 "nbformat": 4,
 "nbformat_minor": 4
}
