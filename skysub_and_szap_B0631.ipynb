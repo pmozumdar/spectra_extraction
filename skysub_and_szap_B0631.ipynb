{
 "cells": [
  {
   "cell_type": "code",
   "execution_count": 1,
   "metadata": {},
   "outputs": [],
   "source": [
    "import numpy as np\n",
    "import matplotlib.pyplot as plt\n",
    "import glob\n",
    "from specim_test.specim.specfuncs import spec2d\n",
    "from astropy.io import fits as pf"
   ]
  },
  {
   "cell_type": "code",
   "execution_count": 2,
   "metadata": {},
   "outputs": [],
   "source": [
    "file_loc = '../galaxy_spectra/LRIS_red_data_20201120/keck_lris_red_B/Science/*'"
   ]
  },
  {
   "cell_type": "code",
   "execution_count": 3,
   "metadata": {},
   "outputs": [],
   "source": [
    "file_list = []\n",
    "out_file = []\n",
    "for i,p in enumerate(glob.glob(file_loc)):\n",
    "    if 'spec2d' in p and 'B0631' in p:\n",
    "\n",
    "        file_list.append(p)\n",
    "        frame = p.split('_')[-3][:4]\n",
    "        out_file.append('B0631_r'+ frame + '_cleaned.fits')"
   ]
  },
  {
   "cell_type": "code",
   "execution_count": 4,
   "metadata": {},
   "outputs": [
    {
     "data": {
      "text/plain": [
       "['../galaxy_spectra/LRIS_red_data_20201120/keck_lris_red_B/Science/spec2d_r201121_0040-B0631+519_LRISr_2020Nov21T121539.859.fits',\n",
       " '../galaxy_spectra/LRIS_red_data_20201120/keck_lris_red_B/Science/spec2d_r201121_0041-B0631+519_LRISr_2020Nov21T132253.443.fits',\n",
       " '../galaxy_spectra/LRIS_red_data_20201120/keck_lris_red_B/Science/spec2d_r201121_0042-B0631+519_LRISr_2020Nov21T143637.210.fits']"
      ]
     },
     "execution_count": 4,
     "metadata": {},
     "output_type": "execute_result"
    }
   ],
   "source": [
    "file_list"
   ]
  },
  {
   "cell_type": "code",
   "execution_count": 5,
   "metadata": {},
   "outputs": [
    {
     "name": "stdout",
     "output_type": "stream",
     "text": [
      "\n",
      "Loading file ../galaxy_spectra/LRIS_red_data_20201120/keck_lris_red_B/Science/spec2d_r201121_0040-B0631+519_LRISr_2020Nov21T121539.859.fits\n",
      "-----------------------------------------------\n",
      "Read in 2-dimensional spectrum from ../galaxy_spectra/LRIS_red_data_20201120/keck_lris_red_B/Science/spec2d_r201121_0040-B0631+519_LRISr_2020Nov21T121539.859.fits (HDU=12)\n",
      "The input dataset was trimmed\n",
      " xrange: 30:561.  yrange: 0:4096\n",
      "Final data dimensions (x y): 531 x 4096\n",
      "\n",
      "Dispersion axis:              x\n",
      "N_pixels along dispersion axis: 531\n",
      "\n",
      "\n",
      "Old value of dispaxis: x\n",
      "\n",
      "Dispersion axis:              y\n",
      "N_pixels along dispersion axis: 4096\n",
      "\n",
      "\n",
      "\n",
      "pypeit generated sky model will be used for sky subtraction\n",
      "\n",
      "\n",
      "From this point sky subtracted data will be used\n",
      " Spectrum Start:     0.00\n",
      " Spectrum End:     4095.00\n",
      " Dispersion (1st pixel):   1.00\n",
      " Dispersion (average):      1.00\n",
      "\n",
      "\n",
      "From now cosmic ray rejected data will be used\n",
      "\n",
      "\n",
      "Loading file ../galaxy_spectra/LRIS_red_data_20201120/keck_lris_red_B/Science/spec2d_r201121_0041-B0631+519_LRISr_2020Nov21T132253.443.fits\n",
      "-----------------------------------------------\n",
      "Read in 2-dimensional spectrum from ../galaxy_spectra/LRIS_red_data_20201120/keck_lris_red_B/Science/spec2d_r201121_0041-B0631+519_LRISr_2020Nov21T132253.443.fits (HDU=12)\n",
      "The input dataset was trimmed\n",
      " xrange: 30:561.  yrange: 0:4096\n",
      "Final data dimensions (x y): 531 x 4096\n",
      "\n",
      "Dispersion axis:              x\n",
      "N_pixels along dispersion axis: 531\n",
      "\n",
      "\n",
      "Old value of dispaxis: x\n",
      "\n",
      "Dispersion axis:              y\n",
      "N_pixels along dispersion axis: 4096\n",
      "\n",
      "\n",
      "\n",
      "pypeit generated sky model will be used for sky subtraction\n",
      "\n",
      "\n",
      "From this point sky subtracted data will be used\n",
      " Spectrum Start:     0.00\n",
      " Spectrum End:     4095.00\n",
      " Dispersion (1st pixel):   1.00\n",
      " Dispersion (average):      1.00\n",
      "\n",
      "\n",
      "From now cosmic ray rejected data will be used\n",
      "\n",
      "\n",
      "Loading file ../galaxy_spectra/LRIS_red_data_20201120/keck_lris_red_B/Science/spec2d_r201121_0042-B0631+519_LRISr_2020Nov21T143637.210.fits\n",
      "-----------------------------------------------\n",
      "Read in 2-dimensional spectrum from ../galaxy_spectra/LRIS_red_data_20201120/keck_lris_red_B/Science/spec2d_r201121_0042-B0631+519_LRISr_2020Nov21T143637.210.fits (HDU=12)\n",
      "The input dataset was trimmed\n",
      " xrange: 30:561.  yrange: 0:4096\n",
      "Final data dimensions (x y): 531 x 4096\n",
      "\n",
      "Dispersion axis:              x\n",
      "N_pixels along dispersion axis: 531\n",
      "\n",
      "\n",
      "Old value of dispaxis: x\n",
      "\n",
      "Dispersion axis:              y\n",
      "N_pixels along dispersion axis: 4096\n",
      "\n",
      "\n",
      "\n",
      "pypeit generated sky model will be used for sky subtraction\n",
      "\n",
      "\n",
      "From this point sky subtracted data will be used\n",
      " Spectrum Start:     0.00\n",
      " Spectrum End:     4095.00\n",
      " Dispersion (1st pixel):   1.00\n",
      " Dispersion (average):      1.00\n",
      "\n",
      "\n",
      "From now cosmic ray rejected data will be used\n",
      "\n"
     ]
    }
   ],
   "source": [
    "for i, p in enumerate(file_list):\n",
    "    spec = spec2d.Spec2d(p, hext=12, xtrim=[30, 560])#, transpose=True)\n",
    "    spec.set_dispaxis('y')\n",
    "    spec.subtract_sky_2d(use_skymod=True)\n",
    "    spec.szap_new(infile='B0631_median_image.fits')\n",
    "    \n",
    "    filled_data = spec.data\n",
    "    mask = spec.szap_mask\n",
    "    \n",
    "    wav_im = pf.open(p)[19].data[spec.ymin:spec.ymax, spec.xmin:spec.xmax]\n",
    "    sky_im = pf.open(p)[14].data[spec.ymin:spec.ymax, spec.xmin:spec.xmax]\n",
    "    ivar_im = pf.open(p)[13].data[spec.ymin:spec.ymax, spec.xmin:spec.xmax]\n",
    "    #print(ivar_im.shape)\n",
    "    prim_hdr = pf.Header()\n",
    "    prim_hdr.append(('OBJECT', 'B0631+519'))\n",
    "    prim_hdr.append(('', 'Trimmed and cleaned data by Pritom'))\n",
    "    phdu = pf.PrimaryHDU(header=prim_hdr)\n",
    "    \n",
    "    sci_hdr = pf.Header()\n",
    "    sci_hdr.append(('IMTYPE', 'SCIENCE_IMAGE'))\n",
    "    sci_im_hdu = pf.ImageHDU(data=filled_data, header=sci_hdr, name='SCI_IM')\n",
    "    \n",
    "    ivar_hdr = pf.Header()\n",
    "    ivar_hdr.append(('IMTYPE', 'IVAR_IMAGE'))\n",
    "    ivar_im_hdu = pf.ImageHDU(data=ivar_im, header=ivar_hdr, name='IVAR')\n",
    "    \n",
    "    sky_hdr = pf.Header()\n",
    "    sky_hdr.append(('IMTYPE', 'SKY_MODEL'))\n",
    "    sky_im_hdu = pf.ImageHDU(data=sky_im, header=sky_hdr, name='SKY_MOD')\n",
    "    \n",
    "    wav_hdr = pf.Header()\n",
    "    wav_hdr.append(('IMTYPE', 'WAV_IMAGE'))\n",
    "    wav_im_hdu = pf.ImageHDU(data=wav_im, header=wav_hdr, name='WAV_IM')\n",
    "    \n",
    "    mask_hdr = pf.Header()\n",
    "    mask_hdr.append(('IMTYPE', 'MASK'))\n",
    "    cmt = 'pixels masked as cosmic rays and filled with pixel values at same pixel'\\\n",
    "        'location from median image'\n",
    "    mask_hdr.append(('', cmt))\n",
    "    mask_hdu = pf.ImageHDU(data=mask, header=mask_hdr, name='MASK')\n",
    "    \n",
    "    hdul = pf.HDUList([phdu, sci_im_hdu, ivar_im_hdu, sky_im_hdu, wav_im_hdu, mask_hdu ])\n",
    "    hdul.writeto(out_file[i])"
   ]
  },
  {
   "cell_type": "code",
   "execution_count": null,
   "metadata": {},
   "outputs": [],
   "source": [
    "## median image\n",
    "spec_list = []\n",
    "for i, p in enumerate(file_list):\n",
    "    spec = spec2d.Spec2d(p, hext=12, xtrim=[30, 560])\n",
    "    spec.set_dispaxis('y')\n",
    "    spec.subtract_sky_2d(use_skymod=True)\n",
    "    spec_list.append(spec.data)\n",
    "median_im = np.median(np.asarray(spec_list), axis=0)\n",
    "pf.PrimaryHDU(median_im).writeto('B0631_median_image.fits')"
   ]
  },
  {
   "cell_type": "code",
   "execution_count": null,
   "metadata": {},
   "outputs": [],
   "source": []
  }
 ],
 "metadata": {
  "kernelspec": {
   "display_name": "Python 3",
   "language": "python",
   "name": "python3"
  },
  "language_info": {
   "codemirror_mode": {
    "name": "ipython",
    "version": 3
   },
   "file_extension": ".py",
   "mimetype": "text/x-python",
   "name": "python",
   "nbconvert_exporter": "python",
   "pygments_lexer": "ipython3",
   "version": "3.7.4"
  }
 },
 "nbformat": 4,
 "nbformat_minor": 4
}
