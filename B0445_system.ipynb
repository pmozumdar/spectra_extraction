{
 "cells": [
  {
   "cell_type": "code",
   "execution_count": 1,
   "metadata": {},
   "outputs": [],
   "source": [
    "from specim_test.specim.specfuncs import spec2d, spec1d\n",
    "from astropy.io import fits as pf\n",
    "import numpy as np\n",
    "import matplotlib.pyplot as plt"
   ]
  },
  {
   "cell_type": "code",
   "execution_count": 2,
   "metadata": {},
   "outputs": [],
   "source": [
    "infile = '../galaxy_spectra/LRIS_red_data_201213/keck_lris_red_D/Science/spec2d_r201213_0029-B0445+123_LRISr_2020Dec13T081213.421.fits'"
   ]
  },
  {
   "cell_type": "code",
   "execution_count": 3,
   "metadata": {},
   "outputs": [
    {
     "name": "stdout",
     "output_type": "stream",
     "text": [
      "\n",
      "Loading file ../galaxy_spectra/LRIS_red_data_201213/keck_lris_red_D/Science/spec2d_r201213_0029-B0445+123_LRISr_2020Dec13T081213.421.fits\n",
      "-----------------------------------------------\n",
      "Read in 2-dimensional spectrum from ../galaxy_spectra/LRIS_red_data_201213/keck_lris_red_D/Science/spec2d_r201213_0029-B0445+123_LRISr_2020Dec13T081213.421.fits (HDU=12)\n",
      "The input dataset was trimmed\n",
      " xrange: 30:501.  yrange: 0:4096\n",
      "Final data dimensions (x y): 471 x 4096\n",
      "\n",
      "Dispersion axis:              x\n",
      "N_pixels along dispersion axis: 471\n",
      "\n"
     ]
    }
   ],
   "source": [
    "spec = spec2d.Spec2d(infile, hext=12, xtrim=[30, 500])"
   ]
  },
  {
   "cell_type": "code",
   "execution_count": 4,
   "metadata": {},
   "outputs": [
    {
     "name": "stdout",
     "output_type": "stream",
     "text": [
      "\n",
      "Old value of dispaxis: x\n",
      "\n",
      "Dispersion axis:              y\n",
      "N_pixels along dispersion axis: 4096\n",
      "\n",
      "\n"
     ]
    }
   ],
   "source": [
    "spec.set_dispaxis('y')"
   ]
  },
  {
   "cell_type": "code",
   "execution_count": 6,
   "metadata": {},
   "outputs": [
    {
     "name": "stdout",
     "output_type": "stream",
     "text": [
      "\n",
      "pypeit generated sky model will be used for sky subtraction\n",
      "\n",
      " Wrote sky subtracted data to None\n",
      "\n",
      "From this point sky subtracted data will be used\n",
      " Spectrum Start:     0.00\n",
      " Spectrum End:     4095.00\n",
      " Dispersion (1st pixel):   1.00\n",
      " Dispersion (average):      1.00\n",
      "\n",
      "\n",
      "From now cosmic ray rejected data will be used\n",
      "\n",
      " Wrote szapped data to B0445_29_szapeed.fits\n"
     ]
    }
   ],
   "source": [
    "#spec.subtract_sky_2d(outfile='sky_subtracted_using_pypeit_B0445_29.fits', use_skymod=True)\n",
    "spec.szap(use_skymod=True, outfile='B0445_29_szapeed.fits')  "
   ]
  },
  {
   "cell_type": "code",
   "execution_count": 5,
   "metadata": {
    "scrolled": false
   },
   "outputs": [
    {
     "ename": "TypeError",
     "evalue": "display_spec() got an unexpected keyword argument 'outfile'",
     "output_type": "error",
     "traceback": [
      "\u001b[0;31m---------------------------------------------------------------------------\u001b[0m",
      "\u001b[0;31mTypeError\u001b[0m                                 Traceback (most recent call last)",
      "\u001b[0;32m<ipython-input-5-a43673f1c2bb>\u001b[0m in \u001b[0;36m<module>\u001b[0;34m\u001b[0m\n\u001b[1;32m      1\u001b[0m \u001b[0mget_ipython\u001b[0m\u001b[0;34m(\u001b[0m\u001b[0;34m)\u001b[0m\u001b[0;34m.\u001b[0m\u001b[0mrun_line_magic\u001b[0m\u001b[0;34m(\u001b[0m\u001b[0;34m'matplotlib'\u001b[0m\u001b[0;34m,\u001b[0m \u001b[0;34m'notebook'\u001b[0m\u001b[0;34m)\u001b[0m\u001b[0;34m\u001b[0m\u001b[0;34m\u001b[0m\u001b[0m\n\u001b[0;32m----> 2\u001b[0;31m \u001b[0mspec\u001b[0m\u001b[0;34m.\u001b[0m\u001b[0mdisplay_spec\u001b[0m\u001b[0;34m(\u001b[0m\u001b[0muse_skymod\u001b[0m\u001b[0;34m=\u001b[0m\u001b[0;32mTrue\u001b[0m\u001b[0;34m,\u001b[0m \u001b[0mdoszap\u001b[0m\u001b[0;34m=\u001b[0m\u001b[0;32mTrue\u001b[0m\u001b[0;34m,\u001b[0m \u001b[0moutfile\u001b[0m\u001b[0;34m=\u001b[0m\u001b[0;34m'B0445_29_szapeed.fits'\u001b[0m\u001b[0;34m)\u001b[0m\u001b[0;34m\u001b[0m\u001b[0;34m\u001b[0m\u001b[0m\n\u001b[0m",
      "\u001b[0;31mTypeError\u001b[0m: display_spec() got an unexpected keyword argument 'outfile'"
     ]
    }
   ],
   "source": [
    "%matplotlib notebook\n",
    "spec.display_spec(use_skymod=True, doszap=True)"
   ]
  },
  {
   "cell_type": "code",
   "execution_count": null,
   "metadata": {},
   "outputs": [],
   "source": [
    "profile = spec.spatial_profile(pixrange=[1900, 3200])"
   ]
  },
  {
   "cell_type": "code",
   "execution_count": null,
   "metadata": {},
   "outputs": [],
   "source": []
  }
 ],
 "metadata": {
  "kernelspec": {
   "display_name": "Python 3",
   "language": "python",
   "name": "python3"
  },
  "language_info": {
   "codemirror_mode": {
    "name": "ipython",
    "version": 3
   },
   "file_extension": ".py",
   "mimetype": "text/x-python",
   "name": "python",
   "nbconvert_exporter": "python",
   "pygments_lexer": "ipython3",
   "version": "3.7.4"
  }
 },
 "nbformat": 4,
 "nbformat_minor": 4
}
