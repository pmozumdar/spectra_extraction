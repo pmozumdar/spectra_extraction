{
 "cells": [
  {
   "cell_type": "code",
   "execution_count": 1,
   "metadata": {},
   "outputs": [],
   "source": [
    "import numpy as np\n",
    "import matplotlib.pyplot as plt\n",
    "import glob\n",
    "from specim_test.specim.specfuncs import spec2d, spec1d\n",
    "from astropy.io import fits as pf"
   ]
  },
  {
   "cell_type": "code",
   "execution_count": 2,
   "metadata": {},
   "outputs": [],
   "source": [
    "file_loc = '../galaxy_spectra/LRIS_data/LRIS_red_data_20201120/keck_lris_red_B/Science/*'"
   ]
  },
  {
   "cell_type": "code",
   "execution_count": 3,
   "metadata": {},
   "outputs": [],
   "source": [
    "file_list = []\n",
    "out_file = []\n",
    "for i,p in enumerate(glob.glob(file_loc)):\n",
    "    if 'spec2d' in p and 'J0805' in p:\n",
    "        if '.fits' in p:\n",
    "            file_list.append(p)\n",
    "            frame = p.split('_')[-3][:4]\n",
    "            out_file.append('J0805_LRIS_spectra/J0805_r'+ frame+'_cleaned.fits')"
   ]
  },
  {
   "cell_type": "code",
   "execution_count": 4,
   "metadata": {},
   "outputs": [
    {
     "data": {
      "text/plain": [
       "(['../galaxy_spectra/LRIS_data/LRIS_red_data_20201120/keck_lris_red_B/Science/spec2d_r201121_0043-J0805+6919_LRISr_2020Nov21T152211.856.fits'],\n",
       " ['J0805_LRIS_spectra/J0805_r0043_cleaned.fits'])"
      ]
     },
     "execution_count": 4,
     "metadata": {},
     "output_type": "execute_result"
    }
   ],
   "source": [
    "file_list, out_file"
   ]
  },
  {
   "cell_type": "code",
   "execution_count": 5,
   "metadata": {},
   "outputs": [
    {
     "name": "stdout",
     "output_type": "stream",
     "text": [
      "\n",
      "Loading file ../galaxy_spectra/LRIS_data/LRIS_red_data_20201120/keck_lris_red_B/Science/spec2d_r201121_0043-J0805+6919_LRISr_2020Nov21T152211.856.fits\n",
      "-----------------------------------------------\n",
      "Read in 2-dimensional spectrum from ../galaxy_spectra/LRIS_data/LRIS_red_data_20201120/keck_lris_red_B/Science/spec2d_r201121_0043-J0805+6919_LRISr_2020Nov21T152211.856.fits (HDU=12)\n",
      "The input dataset was trimmed\n",
      " xrange: 20:201.  yrange: 0:4096\n",
      "Final data dimensions (x y): 181 x 4096\n",
      "\n",
      "Dispersion axis:              x\n",
      "N_pixels along dispersion axis: 181\n",
      "\n",
      "\n",
      "Old value of dispaxis: x\n",
      "\n",
      "Dispersion axis:              y\n",
      "N_pixels along dispersion axis: 4096\n",
      "\n",
      "\n",
      "\n",
      "pypeit generated sky model will be used for sky subtraction\n",
      "\n",
      "\n",
      "From this point sky subtracted data will be used\n",
      " Spectrum Start:     0.00\n",
      " Spectrum End:     4095.00\n",
      " Dispersion (1st pixel):   1.00\n",
      " Dispersion (average):      1.00\n",
      "\n",
      "\n",
      "From now cosmic ray rejected data will be used\n",
      "\n"
     ]
    }
   ],
   "source": [
    "for i, p in enumerate(file_list):\n",
    "    spec = spec2d.Spec2d(p, hext=12, xtrim=[20, 200])#, transpose=True)\n",
    "    spec.set_dispaxis('y')\n",
    "    #spec.subtract_sky_2d(use_skymod=True)\n",
    "    #spec.szap_new(infile='B0631_median_image.fits')\n",
    "    spec.szap(use_skymod=True)\n",
    "    \n",
    "    filled_data = spec.data\n",
    "    mask = spec.szap_mask\n",
    "    \n",
    "    wav_im = pf.open(p)[19].data[spec.ymin:spec.ymax, spec.xmin:spec.xmax]\n",
    "    sky_im = pf.open(p)[14].data[spec.ymin:spec.ymax, spec.xmin:spec.xmax]\n",
    "    ivar_im = pf.open(p)[13].data[spec.ymin:spec.ymax, spec.xmin:spec.xmax]\n",
    "    #print(ivar_im.shape)\n",
    "    ivar_im[mask] = 1.e-5\n",
    "    \n",
    "    prim_hdr = pf.open(p)[0].header #pf.Header()\n",
    "    #prim_hdr.append(('OBJECT', 'J08'))\n",
    "    prim_hdr.append(('', 'Trimmed and cleaned data by Pritom'))\n",
    "    phdu = pf.PrimaryHDU(header=prim_hdr)\n",
    "    \n",
    "    sci_hdr = pf.Header()\n",
    "    sci_hdr.append(('IMTYPE', 'SCIENCE_IMAGE'))\n",
    "    sci_im_hdu = pf.ImageHDU(data=filled_data, header=sci_hdr, name='SCI_IM')\n",
    "    \n",
    "    ivar_hdr = pf.Header()\n",
    "    ivar_hdr.append(('IMTYPE', 'IVAR_IMAGE'))\n",
    "    ivar_im_hdu = pf.ImageHDU(data=ivar_im, header=ivar_hdr, name='IVAR')\n",
    "    \n",
    "    sky_hdr = pf.Header()\n",
    "    sky_hdr.append(('IMTYPE', 'SKY_MODEL'))\n",
    "    sky_im_hdu = pf.ImageHDU(data=sky_im, header=sky_hdr, name='SKY_MOD')\n",
    "    \n",
    "    wav_hdr = pf.Header()\n",
    "    wav_hdr.append(('IMTYPE', 'WAV_IMAGE'))\n",
    "    wav_im_hdu = pf.ImageHDU(data=wav_im, header=wav_hdr, name='WAV_IM')\n",
    "    \n",
    "    mask_hdr = pf.Header()\n",
    "    mask_hdr.append(('IMTYPE', 'MASK'))\n",
    "    cmt = 'pixels masked as cosmic rays and filled with pixel values at same pixel'\\\n",
    "        'location from median image'\n",
    "    mask_hdr.append(('', cmt))\n",
    "    mask_hdu = pf.ImageHDU(data=mask, header=mask_hdr, name='MASK')\n",
    "    \n",
    "    hdul = pf.HDUList([phdu, sci_im_hdu, ivar_im_hdu, sky_im_hdu, wav_im_hdu, mask_hdu ])\n",
    "    hdul.writeto(out_file[i])"
   ]
  },
  {
   "cell_type": "code",
   "execution_count": 33,
   "metadata": {},
   "outputs": [
    {
     "name": "stdout",
     "output_type": "stream",
     "text": [
      "Dispersion : 0.800000\n",
      "Found 1027 NaNs in the two-dimensional spectrum\n",
      "\n",
      "sky subtracted and cosmic ray rejected data has been resampled along with vardata in place of the coordinateds whcih rectify the tilted wave image\n"
     ]
    }
   ],
   "source": [
    "spec.do_waverect(resamp_ord=5, wavext=19, outfile='check_waverect_ord_5.fits')"
   ]
  }
 ],
 "metadata": {
  "kernelspec": {
   "display_name": "Python 3",
   "language": "python",
   "name": "python3"
  },
  "language_info": {
   "codemirror_mode": {
    "name": "ipython",
    "version": 3
   },
   "file_extension": ".py",
   "mimetype": "text/x-python",
   "name": "python",
   "nbconvert_exporter": "python",
   "pygments_lexer": "ipython3",
   "version": "3.8.5"
  }
 },
 "nbformat": 4,
 "nbformat_minor": 4
}
