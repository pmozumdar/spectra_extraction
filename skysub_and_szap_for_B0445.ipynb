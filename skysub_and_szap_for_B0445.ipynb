{
 "cells": [
  {
   "cell_type": "code",
   "execution_count": 1,
   "metadata": {},
   "outputs": [],
   "source": [
    "import numpy as np\n",
    "import matplotlib.pyplot as plt\n",
    "import glob\n",
    "from specim_test.specim.specfuncs import spec2d\n",
    "from astropy.io import fits as pf"
   ]
  },
  {
   "cell_type": "markdown",
   "metadata": {},
   "source": [
    "### File location for pypeit generated data files"
   ]
  },
  {
   "cell_type": "code",
   "execution_count": 2,
   "metadata": {},
   "outputs": [],
   "source": [
    "file_loc = '../galaxy_spectra/LRIS_red_data_201213/keck_lris_red_D/Science/*'"
   ]
  },
  {
   "cell_type": "markdown",
   "metadata": {},
   "source": [
    "### Create input files list and also list of output files if any."
   ]
  },
  {
   "cell_type": "code",
   "execution_count": 3,
   "metadata": {},
   "outputs": [],
   "source": [
    "file_list = []\n",
    "out_file = []\n",
    "for i,p in enumerate(glob.glob(file_loc)):\n",
    "    if 'spec2d' in p and 'B0445+123' in p:\n",
    "        file_list.append(p)\n",
    "        frame = p.split('_')[-3][:4]\n",
    "        out_file.append('B0445_r'+ frame + '_cleaned.fits')"
   ]
  },
  {
   "cell_type": "markdown",
   "metadata": {},
   "source": [
    "### Load the 2d spectra frames, trim and do sky subtraction. Then detect the cosmic rays using 'szap' function. After that fill those marked pixels with median image if any. Then create a mutli-extension fits file with the cleaned science image, ivar image, sky model, wav image and masked pixel location data. If anything missing in the header could be added later."
   ]
  },
  {
   "cell_type": "code",
   "execution_count": 5,
   "metadata": {
    "scrolled": false
   },
   "outputs": [
    {
     "name": "stdout",
     "output_type": "stream",
     "text": [
      "\n",
      "Loading file ../galaxy_spectra/LRIS_red_data_201213/keck_lris_red_D/Science/spec2d_r201213_0031-B0445+123_LRISr_2020Dec13T093939.802.fits\n",
      "-----------------------------------------------\n",
      "Read in 2-dimensional spectrum from ../galaxy_spectra/LRIS_red_data_201213/keck_lris_red_D/Science/spec2d_r201213_0031-B0445+123_LRISr_2020Dec13T093939.802.fits (HDU=12)\n",
      "The input dataset was trimmed\n",
      " xrange: 20:551.  yrange: 0:4096\n",
      "Final data dimensions (x y): 531 x 4096\n",
      "\n",
      "Dispersion axis:              x\n",
      "N_pixels along dispersion axis: 531\n",
      "\n",
      "\n",
      "Old value of dispaxis: x\n",
      "\n",
      "Dispersion axis:              y\n",
      "N_pixels along dispersion axis: 4096\n",
      "\n",
      "\n",
      "\n",
      "pypeit generated sky model will be used for sky subtraction\n",
      "\n",
      "\n",
      "From this point sky subtracted data will be used\n",
      " Spectrum Start:     0.00\n",
      " Spectrum End:     4095.00\n",
      " Dispersion (1st pixel):   1.00\n",
      " Dispersion (average):      1.00\n",
      "\n",
      "\n",
      "Loading file ../galaxy_spectra/LRIS_red_data_201213/keck_lris_red_D/Science/spec2d_r201213_0032-B0445+123_LRISr_2020Dec13T102324.288.fits\n",
      "-----------------------------------------------\n",
      "Read in 2-dimensional spectrum from ../galaxy_spectra/LRIS_red_data_201213/keck_lris_red_D/Science/spec2d_r201213_0032-B0445+123_LRISr_2020Dec13T102324.288.fits (HDU=12)\n",
      "The input dataset was trimmed\n",
      " xrange: 20:551.  yrange: 0:4096\n",
      "Final data dimensions (x y): 531 x 4096\n",
      "\n",
      "Dispersion axis:              x\n",
      "N_pixels along dispersion axis: 531\n",
      "\n",
      "\n",
      "Old value of dispaxis: x\n",
      "\n",
      "Dispersion axis:              y\n",
      "N_pixels along dispersion axis: 4096\n",
      "\n",
      "\n",
      "\n",
      "pypeit generated sky model will be used for sky subtraction\n",
      "\n",
      "\n",
      "From this point sky subtracted data will be used\n",
      " Spectrum Start:     0.00\n",
      " Spectrum End:     4095.00\n",
      " Dispersion (1st pixel):   1.00\n",
      " Dispersion (average):      1.00\n",
      "\n",
      "\n",
      "Loading file ../galaxy_spectra/LRIS_red_data_201213/keck_lris_red_D/Science/spec2d_r201213_0030-B0445+123_LRISr_2020Dec13T085600.413.fits\n",
      "-----------------------------------------------\n",
      "Read in 2-dimensional spectrum from ../galaxy_spectra/LRIS_red_data_201213/keck_lris_red_D/Science/spec2d_r201213_0030-B0445+123_LRISr_2020Dec13T085600.413.fits (HDU=12)\n",
      "The input dataset was trimmed\n",
      " xrange: 20:551.  yrange: 0:4096\n",
      "Final data dimensions (x y): 531 x 4096\n",
      "\n",
      "Dispersion axis:              x\n",
      "N_pixels along dispersion axis: 531\n",
      "\n",
      "\n",
      "Old value of dispaxis: x\n",
      "\n",
      "Dispersion axis:              y\n",
      "N_pixels along dispersion axis: 4096\n",
      "\n",
      "\n",
      "\n",
      "pypeit generated sky model will be used for sky subtraction\n",
      "\n",
      "\n",
      "From this point sky subtracted data will be used\n",
      " Spectrum Start:     0.00\n",
      " Spectrum End:     4095.00\n",
      " Dispersion (1st pixel):   1.00\n",
      " Dispersion (average):      1.00\n",
      "\n",
      "\n",
      "Loading file ../galaxy_spectra/LRIS_red_data_201213/keck_lris_red_D/Science/spec2d_r201213_0029-B0445+123_LRISr_2020Dec13T081213.421.fits\n",
      "-----------------------------------------------\n",
      "Read in 2-dimensional spectrum from ../galaxy_spectra/LRIS_red_data_201213/keck_lris_red_D/Science/spec2d_r201213_0029-B0445+123_LRISr_2020Dec13T081213.421.fits (HDU=12)\n",
      "The input dataset was trimmed\n",
      " xrange: 20:551.  yrange: 0:4096\n",
      "Final data dimensions (x y): 531 x 4096\n",
      "\n",
      "Dispersion axis:              x\n",
      "N_pixels along dispersion axis: 531\n",
      "\n",
      "\n",
      "Old value of dispaxis: x\n",
      "\n",
      "Dispersion axis:              y\n",
      "N_pixels along dispersion axis: 4096\n",
      "\n",
      "\n",
      "\n",
      "pypeit generated sky model will be used for sky subtraction\n",
      "\n",
      "\n",
      "From this point sky subtracted data will be used\n",
      " Spectrum Start:     0.00\n",
      " Spectrum End:     4095.00\n",
      " Dispersion (1st pixel):   1.00\n",
      " Dispersion (average):      1.00\n",
      "\n",
      "\n",
      "Loading file ../galaxy_spectra/LRIS_red_data_201213/keck_lris_red_D/Science/spec2d_r201213_0033-B0445+123_LRISr_2020Dec13T110703.072.fits\n",
      "-----------------------------------------------\n",
      "Read in 2-dimensional spectrum from ../galaxy_spectra/LRIS_red_data_201213/keck_lris_red_D/Science/spec2d_r201213_0033-B0445+123_LRISr_2020Dec13T110703.072.fits (HDU=12)\n",
      "The input dataset was trimmed\n",
      " xrange: 20:551.  yrange: 0:4096\n",
      "Final data dimensions (x y): 531 x 4096\n",
      "\n",
      "Dispersion axis:              x\n",
      "N_pixels along dispersion axis: 531\n",
      "\n",
      "\n",
      "Old value of dispaxis: x\n",
      "\n",
      "Dispersion axis:              y\n",
      "N_pixels along dispersion axis: 4096\n",
      "\n",
      "\n",
      "\n",
      "pypeit generated sky model will be used for sky subtraction\n",
      "\n",
      "\n",
      "From this point sky subtracted data will be used\n",
      " Spectrum Start:     0.00\n",
      " Spectrum End:     4095.00\n",
      " Dispersion (1st pixel):   1.00\n",
      " Dispersion (average):      1.00\n",
      "\n"
     ]
    }
   ],
   "source": [
    "### This part is to create sky subtracted spectra. After that we can use those spectra for further analysis.\n",
    "for i, p in enumerate(file_list):\n",
    "    spec = spec2d.Spec2d(p, hext=12, xtrim=[20, 550])\n",
    "    spec.set_dispaxis('y')\n",
    "    spec.subtract_sky_2d(use_skymod=True)  #outfile=out_file[i], \n",
    "    #spec.szap(outfile=out_file[i], use_skymod=True)\n",
    "    filled_data, mask = szap(spec.data)\n",
    "    #print(filled_data.shape)\n",
    "    wav_im = pf.open(p)[19].data[spec.ymin:spec.ymax, spec.xmin:spec.xmax]\n",
    "    sky_im = pf.open(p)[14].data[spec.ymin:spec.ymax, spec.xmin:spec.xmax]\n",
    "    ivar_im = pf.open(p)[13].data[spec.ymin:spec.ymax, spec.xmin:spec.xmax]\n",
    "    #print(ivar_im.shape)\n",
    "    sci_hdr = pf.Header()\n",
    "    sci_hdr.append(('OBJECT', 'B0445+123'))\n",
    "    sci_hdr.append(('IMTYPE', 'SCIENCE_IMAGE'))\n",
    "    sci_hdr.append(('', 'Trimmed and cleaned data by Pritom'))\n",
    "    sci_im_hdu = pf.PrimaryHDU(data=filled_data, header=sci_hdr)\n",
    "    \n",
    "    ivar_hdr = pf.Header()\n",
    "    ivar_hdr.append(('IMTYPE', 'IVAR_IMAGE'))\n",
    "    ivar_im_hdu = pf.ImageHDU(data=ivar_im, header=ivar_hdr)\n",
    "    \n",
    "    sky_hdr = pf.Header()\n",
    "    sky_hdr.append(('IMTYPE', 'SKY_MODEL'))\n",
    "    sky_im_hdu = pf.ImageHDU(data=sky_im, header=sky_hdr)\n",
    "    \n",
    "    wav_hdr = pf.Header()\n",
    "    wav_hdr.append(('IMTYPE', 'WAV_IMAGE'))\n",
    "    wav_im_hdu = pf.ImageHDU(data=wav_im, header=wav_hdr)\n",
    "    \n",
    "    mask_hdr = pf.Header()\n",
    "    mask_hdr.append(('IMTYPE', 'MASK'))\n",
    "    cmt = 'pixels masked as cosmic rays and filled with pixel values at same pixel'\\\n",
    "        'location from median image'\n",
    "    mask_hdr.append(('', cmt))\n",
    "    mask_hdu = pf.ImageHDU(data=mask, header=mask_hdr)\n",
    "    \n",
    "    hdul = pf.HDUList([sci_im_hdu, ivar_im_hdu, sky_im_hdu, wav_im_hdu, mask_hdu ])\n",
    "    hdul.writeto(out_file[i])"
   ]
  },
  {
   "cell_type": "markdown",
   "metadata": {},
   "source": [
    "### code to create and store median image"
   ]
  },
  {
   "cell_type": "code",
   "execution_count": null,
   "metadata": {},
   "outputs": [],
   "source": [
    "## median image\n",
    "spec_list = []\n",
    "for i, p in enumerate(file_list):\n",
    "    spec = spec2d.Spec2d(p, hext=12, xtrim=[20, 550])\n",
    "    spec.set_dispaxis('y')\n",
    "    spec.subtract_sky_2d(use_skymod=True)\n",
    "    spec_list.append(spec.data)\n",
    "median_im = np.median(np.asarray(spec_list), axis=0)"
   ]
  },
  {
   "cell_type": "code",
   "execution_count": null,
   "metadata": {},
   "outputs": [],
   "source": [
    "pf.PrimaryHDU(median_im).writeto('B0445_median_image.fits')"
   ]
  },
  {
   "cell_type": "markdown",
   "metadata": {},
   "source": [
    "### Check the distribution of the pixel values by plotting a histogram."
   ]
  },
  {
   "cell_type": "code",
   "execution_count": null,
   "metadata": {},
   "outputs": [],
   "source": [
    "sp_1 = pf.open('B0445_skysub_0033.fits')[0].data\n",
    "sp_2 = pf.open('B0445_median_image.fits')[0].data"
   ]
  },
  {
   "cell_type": "code",
   "execution_count": null,
   "metadata": {},
   "outputs": [],
   "source": [
    "sp_1[:, 85:120].shape"
   ]
  },
  {
   "cell_type": "code",
   "execution_count": null,
   "metadata": {},
   "outputs": [],
   "source": [
    "%matplotlib notebook\n",
    "count, bins, patch= plt.hist(sp_1[400:600, 85:120].flatten(), bins=500)\n",
    "counts, bins1, patch = plt.hist(sp_2[400:600, 85:120].flatten(), bins=500)\n",
    "#bins2= plt.hist(sp2.flatten(), bins=250)\n",
    "#bins = plt.hist((sp2-sp1).flatten(), bins=200)\n",
    "plt.yscale('log')"
   ]
  },
  {
   "cell_type": "markdown",
   "metadata": {},
   "source": [
    "### This is the current version of the szap function to detect and fill the cosmic ray affected pixels."
   ]
  },
  {
   "cell_type": "code",
   "execution_count": 4,
   "metadata": {},
   "outputs": [],
   "source": [
    "def szap(sp_1):\n",
    "\n",
    "    sp_2 = pf.open('B0445_median_image.fits')[0].data\n",
    "    mask = np.zeros(sp_1.shape, dtype=bool)\n",
    "    #print(sp_1.shape)\n",
    "\n",
    "    for k in range(0, sp_1.shape[0], 400):\n",
    "        for i in range(0, sp_1.shape[1], 5):\n",
    "            sp1 = sp_1[k:k+400, i:i+5]\n",
    "            sp2 = sp_2[k:k+400, i:i+5]\n",
    "            count1, bins1 = np.histogram(sp1.flatten(), bins=1000)\n",
    "            count2, bins2 = np.histogram(sp2.flatten(), bins=1000)\n",
    "            sm1 = 0\n",
    "            sm2 = 0\n",
    "            cnt1 = 0\n",
    "            cnt2 = 0\n",
    "            tot_pix =sp1.flatten().shape[0]\n",
    "\n",
    "            for j,p in enumerate(count1):\n",
    "                if p > cnt1:\n",
    "                    cnt1 = p\n",
    "                    max_bin1 = bins1[j+1]\n",
    "                sm1 += p\n",
    "                if sm1/tot_pix >= 0.8 :\n",
    "                    border1 = 0.5*(bins1[j+1] + bins1[j])\n",
    "                    break\n",
    "            #print(border)\n",
    "            for j,p in enumerate(count2):\n",
    "                if p > cnt2:\n",
    "                    cnt2 = p\n",
    "                    max_bin2 = 0.5*(bins2[j+1] + bins2[j])\n",
    "                sm2 += p\n",
    "                if sm2/tot_pix >= 0.8 :\n",
    "                    border2 = bins2[j+1]\n",
    "                    break\n",
    "\n",
    "            a = np.where(sp1>border1)\n",
    "            a =np.transpose(a)\n",
    "\n",
    "            if abs(border1 - max_bin1) < 50 :\n",
    "                mp = 50    #/ abs(border1 - max_bin1)\n",
    "            elif abs(border1 - max_bin1) < 100 :\n",
    "                mp = 150\n",
    "            elif abs(border1 - max_bin1) < 300:\n",
    "                mp = 200\n",
    "            else:\n",
    "                mp = 400\n",
    "\n",
    "            for j, p in enumerate(a):\n",
    "\n",
    "                #print(sp2[p[0]][p[1]])\n",
    "                if sp2[p[0]][p[1]] >0 :\n",
    "                    #pass \n",
    "                    if sp1[p[0]][p[1]] > (sp2[p[0]][p[1]]+mp) :\n",
    "                        mask[k+p[0]][i+p[1]] =1 \n",
    "                else:\n",
    "                    if sp1[p[0]][p[1]] > 3*border1 :\n",
    "                        mask[k+p[0]][i+p[1]] =1\n",
    "                        \n",
    "    #print(mask)\n",
    "    sp_1[mask] = sp_2[mask]\n",
    "    \n",
    "    return sp_1, mask.astype(int)"
   ]
  },
  {
   "cell_type": "markdown",
   "metadata": {},
   "source": [
    "### Check how well the detection code works by filling the marked pixels with a high negative value so they appear starkly different at ds9."
   ]
  },
  {
   "cell_type": "code",
   "execution_count": null,
   "metadata": {},
   "outputs": [],
   "source": [
    "sp_1[mask] = -50000     #sp_2[mask]"
   ]
  },
  {
   "cell_type": "code",
   "execution_count": null,
   "metadata": {},
   "outputs": [],
   "source": [
    "pf.PrimaryHDU(sp_1).writeto('B0445_33_fill.fits')"
   ]
  },
  {
   "cell_type": "markdown",
   "metadata": {},
   "source": [
    "### Can rewrite or add something to already existing fits files."
   ]
  },
  {
   "cell_type": "code",
   "execution_count": 28,
   "metadata": {},
   "outputs": [
    {
     "name": "stdout",
     "output_type": "stream",
     "text": [
      "B0445_r0032_cleaned.fits\n",
      "XTENSION= 'IMAGE   '           / Image extension                                \n",
      "BITPIX  =                   64 / array data type                                \n",
      "NAXIS   =                    2 / number of array dimensions                     \n",
      "NAXIS1  =                  531                                                  \n",
      "NAXIS2  =                 4096                                                  \n",
      "PCOUNT  =                    0 / number of parameters                           \n",
      "GCOUNT  =                    1 / number of groups                               \n",
      "IMTYPE  = 'MASK    '                                                            \n",
      "XTENSION= 'IMAGE   '           / Image extension                                \n",
      "BITPIX  =                   64 / array data type                                \n",
      "NAXIS   =                    2 / number of array dimensions                     \n",
      "NAXIS1  =                  531                                                  \n",
      "NAXIS2  =                 4096                                                  \n",
      "PCOUNT  =                    0 / number of parameters                           \n",
      "GCOUNT  =                    1 / number of groups                               \n",
      "IMTYPE  = 'MASK    '                                                            \n",
      "        pixels masked as cosmic rays and filled with pixel values at same pixel \n",
      "        location from median image                                              \n",
      "B0445_r0033_cleaned.fits\n",
      "XTENSION= 'IMAGE   '           / Image extension                                \n",
      "BITPIX  =                   64 / array data type                                \n",
      "NAXIS   =                    2 / number of array dimensions                     \n",
      "NAXIS1  =                  531                                                  \n",
      "NAXIS2  =                 4096                                                  \n",
      "PCOUNT  =                    0 / number of parameters                           \n",
      "GCOUNT  =                    1 / number of groups                               \n",
      "IMTYPE  = 'MASK    '                                                            \n",
      "XTENSION= 'IMAGE   '           / Image extension                                \n",
      "BITPIX  =                   64 / array data type                                \n",
      "NAXIS   =                    2 / number of array dimensions                     \n",
      "NAXIS1  =                  531                                                  \n",
      "NAXIS2  =                 4096                                                  \n",
      "PCOUNT  =                    0 / number of parameters                           \n",
      "GCOUNT  =                    1 / number of groups                               \n",
      "IMTYPE  = 'MASK    '                                                            \n",
      "        pixels masked as cosmic rays and filled with pixel values at same pixel \n",
      "        location from median image                                              \n",
      "B0445_r0031_cleaned.fits\n",
      "XTENSION= 'IMAGE   '           / Image extension                                \n",
      "BITPIX  =                   64 / array data type                                \n",
      "NAXIS   =                    2 / number of array dimensions                     \n",
      "NAXIS1  =                  531                                                  \n",
      "NAXIS2  =                 4096                                                  \n",
      "PCOUNT  =                    0 / number of parameters                           \n",
      "GCOUNT  =                    1 / number of groups                               \n",
      "IMTYPE  = 'MASK    '                                                            \n",
      "XTENSION= 'IMAGE   '           / Image extension                                \n",
      "BITPIX  =                   64 / array data type                                \n",
      "NAXIS   =                    2 / number of array dimensions                     \n",
      "NAXIS1  =                  531                                                  \n",
      "NAXIS2  =                 4096                                                  \n",
      "PCOUNT  =                    0 / number of parameters                           \n",
      "GCOUNT  =                    1 / number of groups                               \n",
      "IMTYPE  = 'MASK    '                                                            \n",
      "        pixels masked as cosmic rays and filled with pixel values at same pixel \n",
      "        location from median image                                              \n",
      "B0445_r0029_cleaned.fits\n",
      "XTENSION= 'IMAGE   '           / Image extension                                \n",
      "BITPIX  =                   64 / array data type                                \n",
      "NAXIS   =                    2 / number of array dimensions                     \n",
      "NAXIS1  =                  531                                                  \n",
      "NAXIS2  =                 4096                                                  \n",
      "PCOUNT  =                    0 / number of parameters                           \n",
      "GCOUNT  =                    1 / number of groups                               \n",
      "IMTYPE  = 'MASK    '                                                            \n",
      "XTENSION= 'IMAGE   '           / Image extension                                \n",
      "BITPIX  =                   64 / array data type                                \n",
      "NAXIS   =                    2 / number of array dimensions                     \n",
      "NAXIS1  =                  531                                                  \n",
      "NAXIS2  =                 4096                                                  \n",
      "PCOUNT  =                    0 / number of parameters                           \n",
      "GCOUNT  =                    1 / number of groups                               \n",
      "IMTYPE  = 'MASK    '                                                            \n",
      "        pixels masked as cosmic rays and filled with pixel values at same pixel \n",
      "        location from median image                                              \n",
      "B0445_r0030_cleaned.fits\n",
      "XTENSION= 'IMAGE   '           / Image extension                                \n",
      "BITPIX  =                   64 / array data type                                \n",
      "NAXIS   =                    2 / number of array dimensions                     \n",
      "NAXIS1  =                  531                                                  \n",
      "NAXIS2  =                 4096                                                  \n",
      "PCOUNT  =                    0 / number of parameters                           \n",
      "GCOUNT  =                    1 / number of groups                               \n",
      "IMTYPE  = 'MASK    '                                                            \n",
      "XTENSION= 'IMAGE   '           / Image extension                                \n",
      "BITPIX  =                   64 / array data type                                \n",
      "NAXIS   =                    2 / number of array dimensions                     \n",
      "NAXIS1  =                  531                                                  \n",
      "NAXIS2  =                 4096                                                  \n",
      "PCOUNT  =                    0 / number of parameters                           \n",
      "GCOUNT  =                    1 / number of groups                               \n",
      "IMTYPE  = 'MASK    '                                                            \n",
      "        pixels masked as cosmic rays and filled with pixel values at same pixel \n",
      "        location from median image                                              \n"
     ]
    }
   ],
   "source": [
    "for i,p in enumerate(glob.glob('*')):\n",
    "    if 'cleaned' in p:\n",
    "        print(p)\n",
    "        sp = pf.open(p, mode='update')\n",
    "        print(repr(sp[4].header))\n",
    "        hdr = sp[4].header\n",
    "        cmt = 'pixels masked as cosmic rays and filled with pixel values at same pixel'\\\n",
    "              ' location from median image'\n",
    "        hdr.append(('', cmt))\n",
    "        print(repr(hdr))\n",
    "        sp.close()"
   ]
  },
  {
   "cell_type": "code",
   "execution_count": 152,
   "metadata": {},
   "outputs": [
    {
     "name": "stdout",
     "output_type": "stream",
     "text": [
      "32\n",
      "42\n",
      "34\n",
      "43\n",
      "28\n",
      "39\n",
      "29\n",
      "41\n",
      "29\n",
      "41\n"
     ]
    }
   ],
   "source": [
    "bad_pix = [[(2785,2790), (313,330)], [(2139,2144), (314,331)]]\n",
    "\n",
    "for i,file in enumerate(glob.glob('*')):\n",
    "    if 'cleaned' in file:\n",
    "        sp = pf.open(file, mode='update')\n",
    "        d = sp[0].data\n",
    "        m = sp[4].data\n",
    "        #sp.close()\n",
    "        \n",
    "        mask = np.zeros(d.shape, dtype='bool')\n",
    "        fill = np.zeros(d.shape)\n",
    "        \n",
    "        for j, l in enumerate(bad_pix):\n",
    "            #print(l[0][0])\n",
    "            rw_st = l[0][0]\n",
    "            rw_en = l[0][1]\n",
    "            clm_st = l[1][0]\n",
    "            clm_en = l[1][1]\n",
    "            #print(clm_st)\n",
    "            #print(clm_en)\n",
    "            data = d[rw_st:rw_en, clm_st:clm_en]\n",
    "            #print(data)\n",
    "            mf = np.transpose(np.where(data <-15))\n",
    "            print(mf.shape[0])\n",
    "            for k,p in enumerate(mf):\n",
    "                mask[p[0]+rw_st][p[1]+clm_st] = 1\n",
    "                reg = d[p[0]+rw_st-5 : p[0]+rw_st+6, p[1]+clm_st:p[1]+clm_st+1]\n",
    "                fill[p[0]+rw_st][p[1]+clm_st] = np.median(reg)\n",
    "                \n",
    "        d[mask] = fill[mask] \n",
    "        mm = m.astype('bool') | mask\n",
    "        \n",
    "        sp[0].data = d\n",
    "        sp[4].data = mm.astype('int')\n",
    "        #pf.update(file, d, ext=0, output_verify='ignore')\n",
    "        #file.flush(output_verify='warn')\n",
    "        \n",
    "        #pf.update(file, mm.astype('int'), ext=4)\n",
    "        sp.close()"
   ]
  },
  {
   "cell_type": "code",
   "execution_count": 117,
   "metadata": {},
   "outputs": [],
   "source": []
  },
  {
   "cell_type": "code",
   "execution_count": 121,
   "metadata": {},
   "outputs": [
    {
     "data": {
      "text/plain": [
       "0"
      ]
     },
     "execution_count": 121,
     "metadata": {},
     "output_type": "execute_result"
    }
   ],
   "source": [
    "\n",
    "\n",
    "mask = np.zeros(d.shape, dtype='bool')\n",
    "fill = np.zeros(d.shape)\n",
    "np.sum(mask*1)"
   ]
  },
  {
   "cell_type": "code",
   "execution_count": 122,
   "metadata": {},
   "outputs": [
    {
     "name": "stdout",
     "output_type": "stream",
     "text": [
      "34\n",
      "43\n"
     ]
    }
   ],
   "source": [
    "for j, l in enumerate(bad_pix):\n",
    "    #print(l[0][0])\n",
    "    rw_st = l[0][0]\n",
    "    rw_en = l[0][1]\n",
    "    clm_st = l[1][0]\n",
    "    clm_en = l[1][1]\n",
    "    #print(clm_st)\n",
    "    #print(clm_en)\n",
    "    data = d[rw_st:rw_en, clm_st:clm_en]\n",
    "    #print(data)\n",
    "    mf = np.transpose(np.where(data <-15))\n",
    "    print(mf.shape[0])\n",
    "    for i,p in enumerate(mf):\n",
    "        mask[p[0]+rw_st][p[1]+clm_st] = 1\n",
    "        reg = d[p[0]+rw_st-5 : p[0]+rw_st+6, p[1]+clm_st:p[1]+clm_st+1]\n",
    "        fill[p[0]+rw_st][p[1]+clm_st] = np.median(reg)\n"
   ]
  },
  {
   "cell_type": "code",
   "execution_count": 123,
   "metadata": {},
   "outputs": [
    {
     "name": "stdout",
     "output_type": "stream",
     "text": [
      "(array([2139, 2139, 2139, 2140, 2140, 2140, 2140, 2140, 2140, 2141, 2141,\n",
      "       2141, 2141, 2141, 2141, 2141, 2141, 2141, 2141, 2141, 2141, 2141,\n",
      "       2141, 2141, 2142, 2142, 2142, 2142, 2142, 2142, 2142, 2142, 2142,\n",
      "       2142, 2142, 2142, 2143, 2143, 2143, 2143, 2143, 2143, 2143, 2785,\n",
      "       2785, 2785, 2785, 2785, 2785, 2785, 2785, 2786, 2786, 2786, 2786,\n",
      "       2786, 2786, 2786, 2786, 2786, 2786, 2786, 2787, 2787, 2787, 2787,\n",
      "       2787, 2787, 2787, 2787, 2787, 2787, 2787, 2787, 2787, 2787, 2788]), array([314, 315, 316, 314, 315, 316, 317, 328, 329, 314, 315, 316, 317,\n",
      "       318, 319, 320, 322, 323, 324, 325, 326, 327, 328, 329, 316, 317,\n",
      "       318, 319, 320, 321, 322, 323, 324, 325, 326, 327, 319, 320, 321,\n",
      "       322, 323, 324, 325, 313, 314, 315, 316, 317, 318, 319, 320, 313,\n",
      "       314, 315, 316, 317, 318, 319, 320, 321, 322, 323, 313, 314, 315,\n",
      "       316, 317, 318, 319, 320, 321, 322, 323, 324, 325, 326, 317]))\n"
     ]
    }
   ],
   "source": [
    "print(np.where(mask.astype(int)==1))"
   ]
  },
  {
   "cell_type": "code",
   "execution_count": 97,
   "metadata": {},
   "outputs": [],
   "source": [
    "d[mask] = fill[mask] "
   ]
  },
  {
   "cell_type": "code",
   "execution_count": 98,
   "metadata": {},
   "outputs": [],
   "source": [
    "pf.PrimaryHDU(d).writeto('d.fits')"
   ]
  },
  {
   "cell_type": "code",
   "execution_count": 125,
   "metadata": {},
   "outputs": [
    {
     "data": {
      "text/plain": [
       "54244"
      ]
     },
     "execution_count": 125,
     "metadata": {},
     "output_type": "execute_result"
    }
   ],
   "source": [
    "np.sum(m)"
   ]
  },
  {
   "cell_type": "code",
   "execution_count": 124,
   "metadata": {},
   "outputs": [
    {
     "data": {
      "text/plain": [
       "77"
      ]
     },
     "execution_count": 124,
     "metadata": {},
     "output_type": "execute_result"
    }
   ],
   "source": [
    "np.sum(mask*1)"
   ]
  },
  {
   "cell_type": "code",
   "execution_count": 126,
   "metadata": {},
   "outputs": [],
   "source": [
    "mm = m.astype('bool') | mask"
   ]
  },
  {
   "cell_type": "code",
   "execution_count": 129,
   "metadata": {},
   "outputs": [
    {
     "data": {
      "text/plain": [
       "array([[0, 0, 0, ..., 0, 0, 0],\n",
       "       [0, 0, 0, ..., 0, 0, 0],\n",
       "       [0, 0, 0, ..., 0, 0, 0],\n",
       "       ...,\n",
       "       [1, 0, 0, ..., 0, 0, 0],\n",
       "       [0, 0, 0, ..., 0, 0, 0],\n",
       "       [0, 0, 0, ..., 1, 1, 1]])"
      ]
     },
     "execution_count": 129,
     "metadata": {},
     "output_type": "execute_result"
    }
   ],
   "source": [
    "mm.astype('int')"
   ]
  },
  {
   "cell_type": "code",
   "execution_count": 143,
   "metadata": {},
   "outputs": [],
   "source": [
    "sp = pf.open('d.fits', mode='update')"
   ]
  },
  {
   "cell_type": "code",
   "execution_count": 145,
   "metadata": {},
   "outputs": [],
   "source": [
    "sp[0].data = np.ones((4096, 531))"
   ]
  },
  {
   "cell_type": "code",
   "execution_count": 147,
   "metadata": {},
   "outputs": [],
   "source": [
    "sp.close()"
   ]
  },
  {
   "cell_type": "code",
   "execution_count": 149,
   "metadata": {},
   "outputs": [
    {
     "data": {
      "text/plain": [
       "array([[1., 1., 1., ..., 1., 1., 1.],\n",
       "       [1., 1., 1., ..., 1., 1., 1.],\n",
       "       [1., 1., 1., ..., 1., 1., 1.],\n",
       "       ...,\n",
       "       [1., 1., 1., ..., 1., 1., 1.],\n",
       "       [1., 1., 1., ..., 1., 1., 1.],\n",
       "       [1., 1., 1., ..., 1., 1., 1.]])"
      ]
     },
     "execution_count": 149,
     "metadata": {},
     "output_type": "execute_result"
    }
   ],
   "source": [
    "sp[0].data"
   ]
  },
  {
   "cell_type": "code",
   "execution_count": null,
   "metadata": {},
   "outputs": [],
   "source": []
  }
 ],
 "metadata": {
  "kernelspec": {
   "display_name": "Python 3 (ipykernel)",
   "language": "python",
   "name": "python3"
  },
  "language_info": {
   "codemirror_mode": {
    "name": "ipython",
    "version": 3
   },
   "file_extension": ".py",
   "mimetype": "text/x-python",
   "name": "python",
   "nbconvert_exporter": "python",
   "pygments_lexer": "ipython3",
   "version": "3.9.12"
  }
 },
 "nbformat": 4,
 "nbformat_minor": 4
}
