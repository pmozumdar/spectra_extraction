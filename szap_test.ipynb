{
 "cells": [
  {
   "cell_type": "code",
   "execution_count": 1,
   "metadata": {},
   "outputs": [],
   "source": [
    "import numpy as np\n",
    "import matplotlib.pyplot as plt\n",
    "from specim_test.specim.specfuncs import spec2d\n",
    "from astropy.io import fits as pf\n",
    "from astropy.modeling import models, fitting\n",
    "from scipy.ndimage import filters"
   ]
  },
  {
   "cell_type": "code",
   "execution_count": 2,
   "metadata": {},
   "outputs": [],
   "source": [
    "infile1 = '../galaxy_spectra/lris-longslit-red-1120/spec2d_r201121_0030-J0040+2555_LRISr_2020Nov21T045325.037.fits'\n",
    "infile2 = '../galaxy_spectra/lris-longslit-red-1120/spec2d_r201121_0031-J0040+2555_LRISr_2020Nov21T051705.971.fits'"
   ]
  },
  {
   "cell_type": "code",
   "execution_count": 3,
   "metadata": {},
   "outputs": [
    {
     "name": "stdout",
     "output_type": "stream",
     "text": [
      "\n",
      "Loading file ../galaxy_spectra/lris-longslit-red-1120/spec2d_r201121_0030-J0040+2555_LRISr_2020Nov21T045325.037.fits\n",
      "-----------------------------------------------\n",
      "Read in 2-dimensional spectrum from ../galaxy_spectra/lris-longslit-red-1120/spec2d_r201121_0030-J0040+2555_LRISr_2020Nov21T045325.037.fits (HDU=12)\n",
      "The input dataset was trimmed\n",
      " xrange: 40:171.  yrange: 0:4096\n",
      "Final data dimensions (x y): 131 x 4096\n",
      "\n",
      "Dispersion axis:              x\n",
      "N_pixels along dispersion axis: 131\n",
      "\n",
      "\n",
      "Loading file ../galaxy_spectra/lris-longslit-red-1120/spec2d_r201121_0031-J0040+2555_LRISr_2020Nov21T051705.971.fits\n",
      "-----------------------------------------------\n",
      "Read in 2-dimensional spectrum from ../galaxy_spectra/lris-longslit-red-1120/spec2d_r201121_0031-J0040+2555_LRISr_2020Nov21T051705.971.fits (HDU=12)\n",
      "The input dataset was trimmed\n",
      " xrange: 40:171.  yrange: 0:4096\n",
      "Final data dimensions (x y): 131 x 4096\n",
      "\n",
      "Dispersion axis:              x\n",
      "N_pixels along dispersion axis: 131\n",
      "\n"
     ]
    }
   ],
   "source": [
    "spec1 = spec2d.Spec2d(infile1, hext=12, xtrim=[40, 170])\n",
    "spec2 = spec2d.Spec2d(infile2, hext=12, xtrim=[40, 170])"
   ]
  },
  {
   "cell_type": "code",
   "execution_count": 4,
   "metadata": {},
   "outputs": [
    {
     "name": "stdout",
     "output_type": "stream",
     "text": [
      "\n",
      "Old value of dispaxis: x\n",
      "\n",
      "Dispersion axis:              y\n",
      "N_pixels along dispersion axis: 4096\n",
      "\n",
      "\n",
      "\n",
      "Old value of dispaxis: x\n",
      "\n",
      "Dispersion axis:              y\n",
      "N_pixels along dispersion axis: 4096\n",
      "\n",
      "\n"
     ]
    }
   ],
   "source": [
    "spec1.set_dispaxis('y')\n",
    "spec2.set_dispaxis('y')"
   ]
  },
  {
   "cell_type": "code",
   "execution_count": 5,
   "metadata": {},
   "outputs": [
    {
     "name": "stdout",
     "output_type": "stream",
     "text": [
      "\n",
      "pypeit generated sky model will be used for sky subtraction\n",
      "\n",
      " Wrote sky subtracted data to None\n",
      "\n",
      "From this point sky subtracted data will be used\n",
      " Spectrum Start:     0.00\n",
      " Spectrum End:     4095.00\n",
      " Dispersion (1st pixel):   1.00\n",
      " Dispersion (average):      1.00\n",
      "\n",
      "\n",
      "pypeit generated sky model will be used for sky subtraction\n",
      "\n",
      " Wrote sky subtracted data to None\n",
      "\n",
      "From this point sky subtracted data will be used\n",
      " Spectrum Start:     0.00\n",
      " Spectrum End:     4095.00\n",
      " Dispersion (1st pixel):   1.00\n",
      " Dispersion (average):      1.00\n",
      "\n"
     ]
    }
   ],
   "source": [
    "spec1.subtract_sky_2d(use_skymod=True)\n",
    "spec2.subtract_sky_2d(use_skymod=True)"
   ]
  },
  {
   "cell_type": "code",
   "execution_count": 7,
   "metadata": {},
   "outputs": [
    {
     "data": {
      "text/plain": [
       "(536576,)"
      ]
     },
     "execution_count": 7,
     "metadata": {},
     "output_type": "execute_result"
    }
   ],
   "source": [
    "sp_1 = spec1.data   #[:, 55:105]\n",
    "sp_2 = spec2.data   #[:, 55:105]\n",
    "sp_1.flatten().shape"
   ]
  },
  {
   "cell_type": "code",
   "execution_count": null,
   "metadata": {},
   "outputs": [],
   "source": [
    "pf.PrimaryHDU(sp_1.T).writeto('sp1.fits')"
   ]
  },
  {
   "cell_type": "code",
   "execution_count": null,
   "metadata": {},
   "outputs": [],
   "source": [
    "s1 =  spec1.data[:, 70:80]\n",
    "s2 =  spec2.data[:, 70:80]"
   ]
  },
  {
   "cell_type": "code",
   "execution_count": null,
   "metadata": {},
   "outputs": [],
   "source": [
    "%matplotlib notebook\n",
    "count, bins, patch= plt.hist(s1.flatten(), bins=500)\n",
    "counts, bins1, patch = plt.hist(s2.flatten(), bins=500)\n",
    "#bins2= plt.hist(sp2.flatten(), bins=250)\n",
    "#bins = plt.hist((sp2-sp1).flatten(), bins=200)\n",
    "plt.yscale('log')\n",
    "#print(count)\n",
    "#print(counts)"
   ]
  },
  {
   "cell_type": "code",
   "execution_count": 8,
   "metadata": {},
   "outputs": [],
   "source": [
    "## this is the code we are using if we have only two frames\n",
    "\n",
    "mask = np.zeros(sp_1.shape, dtype=bool)\n",
    "\n",
    "for k in range(0, sp_1.shape[0], 400):\n",
    "    for i in range(0, sp_1.shape[1], 5):\n",
    "        sp1 = sp_1[k:k+400, i:i+5]\n",
    "        sp2 = sp_2[k:k+400, i:i+5]\n",
    "        count1, bins1 = np.histogram(sp1.flatten(), bins=500)\n",
    "        count2, bins2 = np.histogram(sp2.flatten(), bins=500)\n",
    "        sm1 = 0\n",
    "        sm2 = 0\n",
    "        cnt1 = 0\n",
    "        cnt2 = 0\n",
    "        tot_pix =sp1.flatten().shape[0]\n",
    "\n",
    "        for j,p in enumerate(count1):\n",
    "            if p > cnt1:\n",
    "                cnt1 = p\n",
    "                max_bin1 = bins1[j+1]\n",
    "            sm1 += p\n",
    "            if sm1/tot_pix > 0.95 :\n",
    "                border1 = 0.5*(bins1[j+1] + bins1[j])\n",
    "                break\n",
    "        #print(border)\n",
    "        for j,p in enumerate(count2):\n",
    "            if p > cnt2:\n",
    "                cnt2 = p\n",
    "                max_bin2 = 0.5*(bins2[j+1] + bins2[j])\n",
    "            sm2 += p\n",
    "            if sm2/tot_pix > 0.95 :\n",
    "                border2 = bins2[j+1]\n",
    "                break\n",
    "\n",
    "        a = np.where(sp1>border1)\n",
    "        a =np.transpose(a)\n",
    "        \n",
    "        if abs(border1 - max_bin1) < 200 :\n",
    "            mp = 200    #/ abs(border1 - max_bin1) \n",
    "        elif abs(border1 - max_bin1) < 500:\n",
    "            mp = 300\n",
    "        else:\n",
    "            mp = 400\n",
    "\n",
    "        for j, p in enumerate(a):\n",
    "\n",
    "            #print(sp2[p[0]][p[1]])\n",
    "            if sp2[p[0]][p[1]] >0 :\n",
    "                #pass \n",
    "                if sp1[p[0]][p[1]] > (sp2[p[0]][p[1]] + mp) :\n",
    "                    mask[k+p[0]][i+p[1]] =1 \n",
    "            else:\n",
    "                if sp1[p[0]][p[1]] > 3*border1 :\n",
    "                    mask[k+p[0]][i+p[1]] =1"
   ]
  },
  {
   "cell_type": "code",
   "execution_count": null,
   "metadata": {},
   "outputs": [],
   "source": [
    "m = sp1 < 856\n",
    "np.sum(m)/tot_pix"
   ]
  },
  {
   "cell_type": "code",
   "execution_count": 9,
   "metadata": {},
   "outputs": [],
   "source": [
    " sp_1[mask] = sp_2[mask]"
   ]
  },
  {
   "cell_type": "code",
   "execution_count": null,
   "metadata": {},
   "outputs": [],
   "source": [
    "sp_1[mask] = -50000"
   ]
  },
  {
   "cell_type": "code",
   "execution_count": 10,
   "metadata": {},
   "outputs": [],
   "source": [
    "pf.PrimaryHDU(sp_1.T).writeto('sp1_fill_new1.fits')"
   ]
  },
  {
   "cell_type": "code",
   "execution_count": 57,
   "metadata": {},
   "outputs": [
    {
     "name": "stdout",
     "output_type": "stream",
     "text": [
      "[[  59   60]\n",
      " [  59   61]\n",
      " [  60   60]\n",
      " ...\n",
      " [4095   75]\n",
      " [4095   76]\n",
      " [4095   77]]\n",
      "[[39, 60], [40, 60], [41, 60], [42, 60], [43, 60], [44, 60], [45, 60], [46, 60], [47, 60], [48, 60], [49, 60], [50, 60], [51, 60], [52, 60], [53, 60], [54, 60], [55, 60], [56, 60], [57, 60], [58, 60], [59, 60], [60, 60], [61, 60], [62, 60], [63, 60], [64, 60], [65, 60], [66, 60], [67, 60], [68, 60], [69, 60], [70, 60], [71, 60], [72, 60], [73, 60], [74, 60], [75, 60], [76, 60], [77, 60], [78, 60]]\n",
      "[59, 60]\n",
      "[60, 60]\n"
     ]
    }
   ],
   "source": [
    "m =np.where(mask==1)\n",
    "m = np.transpose(m)\n",
    "print(m)\n",
    "for i,p in enumerate(m[0:1]):\n",
    "    a = sp_1[p[0]-20:p[0]+20, p[1]:p[1]+1]\n",
    "    ind = [[i, p[1]] for i in range(p[0]-20, p[0]+20, 1)]\n",
    "    #print(a)\n",
    "    print(ind)\n",
    "    for j, r in enumerate(ind):\n",
    "        #print(r)\n",
    "        if r in m.tolist():\n",
    "            print(r)"
   ]
  },
  {
   "cell_type": "code",
   "execution_count": 45,
   "metadata": {},
   "outputs": [
    {
     "data": {
      "text/plain": [
       "array([[  59,   60],\n",
       "       [  59,   61],\n",
       "       [  60,   60],\n",
       "       ...,\n",
       "       [4095,   75],\n",
       "       [4095,   76],\n",
       "       [4095,   77]])"
      ]
     },
     "execution_count": 45,
     "metadata": {},
     "output_type": "execute_result"
    }
   ],
   "source": [
    "a =[[5, 6],\n",
    "    [7,8]]\n",
    "\n",
    "if [6,5] in a:\n",
    "    print('yes')\n",
    "m    "
   ]
  },
  {
   "cell_type": "code",
   "execution_count": null,
   "metadata": {},
   "outputs": [],
   "source": [
    "a = np.where(sp1>border)\n",
    "mask = np.zeros(sp1.shape, dtype=bool)\n",
    "a =np.transpose(a)\n",
    "for i, p in enumerate(a):\n",
    "    \n",
    "    #print(sp2[p[0]][p[1]])\n",
    "    if sp2[p[0]][p[1]] >0 :\n",
    "        #pass \n",
    "        if sp1[p[0]][p[1]] > (sp2[p[0]][p[1]] + 250) :\n",
    "            mask[p[0]][p[1]] =1 \n",
    "    else:\n",
    "        if sp1[p[0]][p[1]] > border + 300 :\n",
    "            mask[p[0]][p[1]] =1 \n",
    "    \n",
    "    #print(p)\n",
    "    #pass\n",
    "#a[0]\n",
    "#mask[0][0] = 1\n",
    "np.where(mask)"
   ]
  },
  {
   "cell_type": "code",
   "execution_count": null,
   "metadata": {},
   "outputs": [],
   "source": [
    "m = sp_1 == -50000\n",
    "sp_1[m] = sp_2[m]"
   ]
  },
  {
   "cell_type": "code",
   "execution_count": null,
   "metadata": {},
   "outputs": [],
   "source": [
    "pf.PrimaryHDU(sp_1.T).writeto('sp1_fill.fits')"
   ]
  },
  {
   "cell_type": "code",
   "execution_count": null,
   "metadata": {},
   "outputs": [],
   "source": [
    "diff = spec1.data - spec2.data\n",
    "#pf.PrimaryHDU(diff.T).writeto('diff1.fits')"
   ]
  },
  {
   "cell_type": "code",
   "execution_count": null,
   "metadata": {},
   "outputs": [],
   "source": [
    "mask1 = diff_md < -30 \n",
    "mask2 = diff_md > 30\n",
    "\n",
    "mask = mask1 | mask2"
   ]
  },
  {
   "cell_type": "code",
   "execution_count": null,
   "metadata": {},
   "outputs": [],
   "source": [
    "np.sum(1*mask)"
   ]
  }
 ],
 "metadata": {
  "kernelspec": {
   "display_name": "Python 3",
   "language": "python",
   "name": "python3"
  },
  "language_info": {
   "codemirror_mode": {
    "name": "ipython",
    "version": 3
   },
   "file_extension": ".py",
   "mimetype": "text/x-python",
   "name": "python",
   "nbconvert_exporter": "python",
   "pygments_lexer": "ipython3",
   "version": "3.7.4"
  }
 },
 "nbformat": 4,
 "nbformat_minor": 4
}
