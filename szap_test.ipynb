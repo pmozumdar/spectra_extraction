{
 "cells": [
  {
   "cell_type": "code",
   "execution_count": 1,
   "metadata": {},
   "outputs": [],
   "source": [
    "import numpy as np\n",
    "import matplotlib.pyplot as plt\n",
    "from specim_test.specim.specfuncs import spec2d\n",
    "from astropy.io import fits as pf\n",
    "from astropy.modeling import models, fitting\n",
    "from scipy.ndimage import filters"
   ]
  },
  {
   "cell_type": "code",
   "execution_count": 2,
   "metadata": {},
   "outputs": [],
   "source": [
    "infile1 = '../galaxy_spectra/lris-longslit-red-1120/spec2d_r201121_0030-J0040+2555_LRISr_2020Nov21T045325.037.fits'\n",
    "infile2 = '../galaxy_spectra/lris-longslit-red-1120/spec2d_r201121_0031-J0040+2555_LRISr_2020Nov21T051705.971.fits'"
   ]
  },
  {
   "cell_type": "code",
   "execution_count": 3,
   "metadata": {},
   "outputs": [
    {
     "name": "stdout",
     "output_type": "stream",
     "text": [
      "\n",
      "Loading file ../galaxy_spectra/lris-longslit-red-1120/spec2d_r201121_0030-J0040+2555_LRISr_2020Nov21T045325.037.fits\n",
      "-----------------------------------------------\n",
      "Read in 2-dimensional spectrum from ../galaxy_spectra/lris-longslit-red-1120/spec2d_r201121_0030-J0040+2555_LRISr_2020Nov21T045325.037.fits (HDU=12)\n",
      "The input dataset was trimmed\n",
      " xrange: 40:171.  yrange: 0:4096\n",
      "Final data dimensions (x y): 131 x 4096\n",
      "\n",
      "Dispersion axis:              x\n",
      "N_pixels along dispersion axis: 131\n",
      "\n",
      "\n",
      "Loading file ../galaxy_spectra/lris-longslit-red-1120/spec2d_r201121_0031-J0040+2555_LRISr_2020Nov21T051705.971.fits\n",
      "-----------------------------------------------\n",
      "Read in 2-dimensional spectrum from ../galaxy_spectra/lris-longslit-red-1120/spec2d_r201121_0031-J0040+2555_LRISr_2020Nov21T051705.971.fits (HDU=12)\n",
      "The input dataset was trimmed\n",
      " xrange: 40:171.  yrange: 0:4096\n",
      "Final data dimensions (x y): 131 x 4096\n",
      "\n",
      "Dispersion axis:              x\n",
      "N_pixels along dispersion axis: 131\n",
      "\n"
     ]
    }
   ],
   "source": [
    "spec1 = spec2d.Spec2d(infile1, hext=12, xtrim=[40, 170])\n",
    "spec2 = spec2d.Spec2d(infile2, hext=12, xtrim=[40, 170])"
   ]
  },
  {
   "cell_type": "code",
   "execution_count": 4,
   "metadata": {},
   "outputs": [
    {
     "name": "stdout",
     "output_type": "stream",
     "text": [
      "\n",
      "Old value of dispaxis: x\n",
      "\n",
      "Dispersion axis:              y\n",
      "N_pixels along dispersion axis: 4096\n",
      "\n",
      "\n",
      "\n",
      "Old value of dispaxis: x\n",
      "\n",
      "Dispersion axis:              y\n",
      "N_pixels along dispersion axis: 4096\n",
      "\n",
      "\n"
     ]
    }
   ],
   "source": [
    "spec1.set_dispaxis('y')\n",
    "spec2.set_dispaxis('y')"
   ]
  },
  {
   "cell_type": "code",
   "execution_count": 5,
   "metadata": {},
   "outputs": [
    {
     "name": "stdout",
     "output_type": "stream",
     "text": [
      "\n",
      "pypeit generated sky model will be used for sky subtraction\n",
      "\n",
      " Wrote sky subtracted data to None\n",
      "\n",
      "From this point sky subtracted data will be used\n",
      " Spectrum Start:     0.00\n",
      " Spectrum End:     4095.00\n",
      " Dispersion (1st pixel):   1.00\n",
      " Dispersion (average):      1.00\n",
      "\n",
      "\n",
      "pypeit generated sky model will be used for sky subtraction\n",
      "\n",
      " Wrote sky subtracted data to None\n",
      "\n",
      "From this point sky subtracted data will be used\n",
      " Spectrum Start:     0.00\n",
      " Spectrum End:     4095.00\n",
      " Dispersion (1st pixel):   1.00\n",
      " Dispersion (average):      1.00\n",
      "\n"
     ]
    }
   ],
   "source": [
    "spec1.subtract_sky_2d(use_skymod=True)\n",
    "spec2.subtract_sky_2d(use_skymod=True)"
   ]
  },
  {
   "cell_type": "code",
   "execution_count": null,
   "metadata": {},
   "outputs": [],
   "source": [
    "#spec1.szap(outfile='szap30.fits', use_skymod=True)"
   ]
  },
  {
   "cell_type": "code",
   "execution_count": null,
   "metadata": {},
   "outputs": [],
   "source": [
    "flt1 = spec1.data - filters.median_filter(spec1.data, 7)\n",
    "flt2 = spec2.data - filters.median_filter(spec2.data, 7)"
   ]
  },
  {
   "cell_type": "code",
   "execution_count": null,
   "metadata": {},
   "outputs": [],
   "source": [
    "pf.PrimaryHDU(flt2.T).writeto('flt22.fits')"
   ]
  },
  {
   "cell_type": "code",
   "execution_count": null,
   "metadata": {},
   "outputs": [],
   "source": []
  },
  {
   "cell_type": "code",
   "execution_count": null,
   "metadata": {},
   "outputs": [],
   "source": [
    "up1 = spec1.data[:, 105:]\n",
    "dw1 = spec1.data[:, :50]\n",
    "up2 = spec2.data[:, 105:]\n",
    "dw2 = spec2.data[:, :50]"
   ]
  },
  {
   "cell_type": "code",
   "execution_count": null,
   "metadata": {},
   "outputs": [],
   "source": [
    "sp_1 = spec1.data   #[:, 55:105]\n",
    "sp_2 = spec2.data   #[:, 55:105]\n",
    "sp_1.flatten().shape"
   ]
  },
  {
   "cell_type": "code",
   "execution_count": null,
   "metadata": {},
   "outputs": [],
   "source": [
    "pf.PrimaryHDU(sp_1.T).writeto('sp1.fits')"
   ]
  },
  {
   "cell_type": "code",
   "execution_count": 6,
   "metadata": {},
   "outputs": [],
   "source": [
    "s1 =  spec1.data[:, :20]\n",
    "s2 =  spec2.data[:, :20]"
   ]
  },
  {
   "cell_type": "code",
   "execution_count": 13,
   "metadata": {},
   "outputs": [
    {
     "data": {
      "application/javascript": [
       "/* Put everything inside the global mpl namespace */\n",
       "window.mpl = {};\n",
       "\n",
       "\n",
       "mpl.get_websocket_type = function() {\n",
       "    if (typeof(WebSocket) !== 'undefined') {\n",
       "        return WebSocket;\n",
       "    } else if (typeof(MozWebSocket) !== 'undefined') {\n",
       "        return MozWebSocket;\n",
       "    } else {\n",
       "        alert('Your browser does not have WebSocket support. ' +\n",
       "              'Please try Chrome, Safari or Firefox ≥ 6. ' +\n",
       "              'Firefox 4 and 5 are also supported but you ' +\n",
       "              'have to enable WebSockets in about:config.');\n",
       "    };\n",
       "}\n",
       "\n",
       "mpl.figure = function(figure_id, websocket, ondownload, parent_element) {\n",
       "    this.id = figure_id;\n",
       "\n",
       "    this.ws = websocket;\n",
       "\n",
       "    this.supports_binary = (this.ws.binaryType != undefined);\n",
       "\n",
       "    if (!this.supports_binary) {\n",
       "        var warnings = document.getElementById(\"mpl-warnings\");\n",
       "        if (warnings) {\n",
       "            warnings.style.display = 'block';\n",
       "            warnings.textContent = (\n",
       "                \"This browser does not support binary websocket messages. \" +\n",
       "                    \"Performance may be slow.\");\n",
       "        }\n",
       "    }\n",
       "\n",
       "    this.imageObj = new Image();\n",
       "\n",
       "    this.context = undefined;\n",
       "    this.message = undefined;\n",
       "    this.canvas = undefined;\n",
       "    this.rubberband_canvas = undefined;\n",
       "    this.rubberband_context = undefined;\n",
       "    this.format_dropdown = undefined;\n",
       "\n",
       "    this.image_mode = 'full';\n",
       "\n",
       "    this.root = $('<div/>');\n",
       "    this._root_extra_style(this.root)\n",
       "    this.root.attr('style', 'display: inline-block');\n",
       "\n",
       "    $(parent_element).append(this.root);\n",
       "\n",
       "    this._init_header(this);\n",
       "    this._init_canvas(this);\n",
       "    this._init_toolbar(this);\n",
       "\n",
       "    var fig = this;\n",
       "\n",
       "    this.waiting = false;\n",
       "\n",
       "    this.ws.onopen =  function () {\n",
       "            fig.send_message(\"supports_binary\", {value: fig.supports_binary});\n",
       "            fig.send_message(\"send_image_mode\", {});\n",
       "            if (mpl.ratio != 1) {\n",
       "                fig.send_message(\"set_dpi_ratio\", {'dpi_ratio': mpl.ratio});\n",
       "            }\n",
       "            fig.send_message(\"refresh\", {});\n",
       "        }\n",
       "\n",
       "    this.imageObj.onload = function() {\n",
       "            if (fig.image_mode == 'full') {\n",
       "                // Full images could contain transparency (where diff images\n",
       "                // almost always do), so we need to clear the canvas so that\n",
       "                // there is no ghosting.\n",
       "                fig.context.clearRect(0, 0, fig.canvas.width, fig.canvas.height);\n",
       "            }\n",
       "            fig.context.drawImage(fig.imageObj, 0, 0);\n",
       "        };\n",
       "\n",
       "    this.imageObj.onunload = function() {\n",
       "        fig.ws.close();\n",
       "    }\n",
       "\n",
       "    this.ws.onmessage = this._make_on_message_function(this);\n",
       "\n",
       "    this.ondownload = ondownload;\n",
       "}\n",
       "\n",
       "mpl.figure.prototype._init_header = function() {\n",
       "    var titlebar = $(\n",
       "        '<div class=\"ui-dialog-titlebar ui-widget-header ui-corner-all ' +\n",
       "        'ui-helper-clearfix\"/>');\n",
       "    var titletext = $(\n",
       "        '<div class=\"ui-dialog-title\" style=\"width: 100%; ' +\n",
       "        'text-align: center; padding: 3px;\"/>');\n",
       "    titlebar.append(titletext)\n",
       "    this.root.append(titlebar);\n",
       "    this.header = titletext[0];\n",
       "}\n",
       "\n",
       "\n",
       "\n",
       "mpl.figure.prototype._canvas_extra_style = function(canvas_div) {\n",
       "\n",
       "}\n",
       "\n",
       "\n",
       "mpl.figure.prototype._root_extra_style = function(canvas_div) {\n",
       "\n",
       "}\n",
       "\n",
       "mpl.figure.prototype._init_canvas = function() {\n",
       "    var fig = this;\n",
       "\n",
       "    var canvas_div = $('<div/>');\n",
       "\n",
       "    canvas_div.attr('style', 'position: relative; clear: both; outline: 0');\n",
       "\n",
       "    function canvas_keyboard_event(event) {\n",
       "        return fig.key_event(event, event['data']);\n",
       "    }\n",
       "\n",
       "    canvas_div.keydown('key_press', canvas_keyboard_event);\n",
       "    canvas_div.keyup('key_release', canvas_keyboard_event);\n",
       "    this.canvas_div = canvas_div\n",
       "    this._canvas_extra_style(canvas_div)\n",
       "    this.root.append(canvas_div);\n",
       "\n",
       "    var canvas = $('<canvas/>');\n",
       "    canvas.addClass('mpl-canvas');\n",
       "    canvas.attr('style', \"left: 0; top: 0; z-index: 0; outline: 0\")\n",
       "\n",
       "    this.canvas = canvas[0];\n",
       "    this.context = canvas[0].getContext(\"2d\");\n",
       "\n",
       "    var backingStore = this.context.backingStorePixelRatio ||\n",
       "\tthis.context.webkitBackingStorePixelRatio ||\n",
       "\tthis.context.mozBackingStorePixelRatio ||\n",
       "\tthis.context.msBackingStorePixelRatio ||\n",
       "\tthis.context.oBackingStorePixelRatio ||\n",
       "\tthis.context.backingStorePixelRatio || 1;\n",
       "\n",
       "    mpl.ratio = (window.devicePixelRatio || 1) / backingStore;\n",
       "\n",
       "    var rubberband = $('<canvas/>');\n",
       "    rubberband.attr('style', \"position: absolute; left: 0; top: 0; z-index: 1;\")\n",
       "\n",
       "    var pass_mouse_events = true;\n",
       "\n",
       "    canvas_div.resizable({\n",
       "        start: function(event, ui) {\n",
       "            pass_mouse_events = false;\n",
       "        },\n",
       "        resize: function(event, ui) {\n",
       "            fig.request_resize(ui.size.width, ui.size.height);\n",
       "        },\n",
       "        stop: function(event, ui) {\n",
       "            pass_mouse_events = true;\n",
       "            fig.request_resize(ui.size.width, ui.size.height);\n",
       "        },\n",
       "    });\n",
       "\n",
       "    function mouse_event_fn(event) {\n",
       "        if (pass_mouse_events)\n",
       "            return fig.mouse_event(event, event['data']);\n",
       "    }\n",
       "\n",
       "    rubberband.mousedown('button_press', mouse_event_fn);\n",
       "    rubberband.mouseup('button_release', mouse_event_fn);\n",
       "    // Throttle sequential mouse events to 1 every 20ms.\n",
       "    rubberband.mousemove('motion_notify', mouse_event_fn);\n",
       "\n",
       "    rubberband.mouseenter('figure_enter', mouse_event_fn);\n",
       "    rubberband.mouseleave('figure_leave', mouse_event_fn);\n",
       "\n",
       "    canvas_div.on(\"wheel\", function (event) {\n",
       "        event = event.originalEvent;\n",
       "        event['data'] = 'scroll'\n",
       "        if (event.deltaY < 0) {\n",
       "            event.step = 1;\n",
       "        } else {\n",
       "            event.step = -1;\n",
       "        }\n",
       "        mouse_event_fn(event);\n",
       "    });\n",
       "\n",
       "    canvas_div.append(canvas);\n",
       "    canvas_div.append(rubberband);\n",
       "\n",
       "    this.rubberband = rubberband;\n",
       "    this.rubberband_canvas = rubberband[0];\n",
       "    this.rubberband_context = rubberband[0].getContext(\"2d\");\n",
       "    this.rubberband_context.strokeStyle = \"#000000\";\n",
       "\n",
       "    this._resize_canvas = function(width, height) {\n",
       "        // Keep the size of the canvas, canvas container, and rubber band\n",
       "        // canvas in synch.\n",
       "        canvas_div.css('width', width)\n",
       "        canvas_div.css('height', height)\n",
       "\n",
       "        canvas.attr('width', width * mpl.ratio);\n",
       "        canvas.attr('height', height * mpl.ratio);\n",
       "        canvas.attr('style', 'width: ' + width + 'px; height: ' + height + 'px;');\n",
       "\n",
       "        rubberband.attr('width', width);\n",
       "        rubberband.attr('height', height);\n",
       "    }\n",
       "\n",
       "    // Set the figure to an initial 600x600px, this will subsequently be updated\n",
       "    // upon first draw.\n",
       "    this._resize_canvas(600, 600);\n",
       "\n",
       "    // Disable right mouse context menu.\n",
       "    $(this.rubberband_canvas).bind(\"contextmenu\",function(e){\n",
       "        return false;\n",
       "    });\n",
       "\n",
       "    function set_focus () {\n",
       "        canvas.focus();\n",
       "        canvas_div.focus();\n",
       "    }\n",
       "\n",
       "    window.setTimeout(set_focus, 100);\n",
       "}\n",
       "\n",
       "mpl.figure.prototype._init_toolbar = function() {\n",
       "    var fig = this;\n",
       "\n",
       "    var nav_element = $('<div/>');\n",
       "    nav_element.attr('style', 'width: 100%');\n",
       "    this.root.append(nav_element);\n",
       "\n",
       "    // Define a callback function for later on.\n",
       "    function toolbar_event(event) {\n",
       "        return fig.toolbar_button_onclick(event['data']);\n",
       "    }\n",
       "    function toolbar_mouse_event(event) {\n",
       "        return fig.toolbar_button_onmouseover(event['data']);\n",
       "    }\n",
       "\n",
       "    for(var toolbar_ind in mpl.toolbar_items) {\n",
       "        var name = mpl.toolbar_items[toolbar_ind][0];\n",
       "        var tooltip = mpl.toolbar_items[toolbar_ind][1];\n",
       "        var image = mpl.toolbar_items[toolbar_ind][2];\n",
       "        var method_name = mpl.toolbar_items[toolbar_ind][3];\n",
       "\n",
       "        if (!name) {\n",
       "            // put a spacer in here.\n",
       "            continue;\n",
       "        }\n",
       "        var button = $('<button/>');\n",
       "        button.addClass('ui-button ui-widget ui-state-default ui-corner-all ' +\n",
       "                        'ui-button-icon-only');\n",
       "        button.attr('role', 'button');\n",
       "        button.attr('aria-disabled', 'false');\n",
       "        button.click(method_name, toolbar_event);\n",
       "        button.mouseover(tooltip, toolbar_mouse_event);\n",
       "\n",
       "        var icon_img = $('<span/>');\n",
       "        icon_img.addClass('ui-button-icon-primary ui-icon');\n",
       "        icon_img.addClass(image);\n",
       "        icon_img.addClass('ui-corner-all');\n",
       "\n",
       "        var tooltip_span = $('<span/>');\n",
       "        tooltip_span.addClass('ui-button-text');\n",
       "        tooltip_span.html(tooltip);\n",
       "\n",
       "        button.append(icon_img);\n",
       "        button.append(tooltip_span);\n",
       "\n",
       "        nav_element.append(button);\n",
       "    }\n",
       "\n",
       "    var fmt_picker_span = $('<span/>');\n",
       "\n",
       "    var fmt_picker = $('<select/>');\n",
       "    fmt_picker.addClass('mpl-toolbar-option ui-widget ui-widget-content');\n",
       "    fmt_picker_span.append(fmt_picker);\n",
       "    nav_element.append(fmt_picker_span);\n",
       "    this.format_dropdown = fmt_picker[0];\n",
       "\n",
       "    for (var ind in mpl.extensions) {\n",
       "        var fmt = mpl.extensions[ind];\n",
       "        var option = $(\n",
       "            '<option/>', {selected: fmt === mpl.default_extension}).html(fmt);\n",
       "        fmt_picker.append(option);\n",
       "    }\n",
       "\n",
       "    // Add hover states to the ui-buttons\n",
       "    $( \".ui-button\" ).hover(\n",
       "        function() { $(this).addClass(\"ui-state-hover\");},\n",
       "        function() { $(this).removeClass(\"ui-state-hover\");}\n",
       "    );\n",
       "\n",
       "    var status_bar = $('<span class=\"mpl-message\"/>');\n",
       "    nav_element.append(status_bar);\n",
       "    this.message = status_bar[0];\n",
       "}\n",
       "\n",
       "mpl.figure.prototype.request_resize = function(x_pixels, y_pixels) {\n",
       "    // Request matplotlib to resize the figure. Matplotlib will then trigger a resize in the client,\n",
       "    // which will in turn request a refresh of the image.\n",
       "    this.send_message('resize', {'width': x_pixels, 'height': y_pixels});\n",
       "}\n",
       "\n",
       "mpl.figure.prototype.send_message = function(type, properties) {\n",
       "    properties['type'] = type;\n",
       "    properties['figure_id'] = this.id;\n",
       "    this.ws.send(JSON.stringify(properties));\n",
       "}\n",
       "\n",
       "mpl.figure.prototype.send_draw_message = function() {\n",
       "    if (!this.waiting) {\n",
       "        this.waiting = true;\n",
       "        this.ws.send(JSON.stringify({type: \"draw\", figure_id: this.id}));\n",
       "    }\n",
       "}\n",
       "\n",
       "\n",
       "mpl.figure.prototype.handle_save = function(fig, msg) {\n",
       "    var format_dropdown = fig.format_dropdown;\n",
       "    var format = format_dropdown.options[format_dropdown.selectedIndex].value;\n",
       "    fig.ondownload(fig, format);\n",
       "}\n",
       "\n",
       "\n",
       "mpl.figure.prototype.handle_resize = function(fig, msg) {\n",
       "    var size = msg['size'];\n",
       "    if (size[0] != fig.canvas.width || size[1] != fig.canvas.height) {\n",
       "        fig._resize_canvas(size[0], size[1]);\n",
       "        fig.send_message(\"refresh\", {});\n",
       "    };\n",
       "}\n",
       "\n",
       "mpl.figure.prototype.handle_rubberband = function(fig, msg) {\n",
       "    var x0 = msg['x0'] / mpl.ratio;\n",
       "    var y0 = (fig.canvas.height - msg['y0']) / mpl.ratio;\n",
       "    var x1 = msg['x1'] / mpl.ratio;\n",
       "    var y1 = (fig.canvas.height - msg['y1']) / mpl.ratio;\n",
       "    x0 = Math.floor(x0) + 0.5;\n",
       "    y0 = Math.floor(y0) + 0.5;\n",
       "    x1 = Math.floor(x1) + 0.5;\n",
       "    y1 = Math.floor(y1) + 0.5;\n",
       "    var min_x = Math.min(x0, x1);\n",
       "    var min_y = Math.min(y0, y1);\n",
       "    var width = Math.abs(x1 - x0);\n",
       "    var height = Math.abs(y1 - y0);\n",
       "\n",
       "    fig.rubberband_context.clearRect(\n",
       "        0, 0, fig.canvas.width / mpl.ratio, fig.canvas.height / mpl.ratio);\n",
       "\n",
       "    fig.rubberband_context.strokeRect(min_x, min_y, width, height);\n",
       "}\n",
       "\n",
       "mpl.figure.prototype.handle_figure_label = function(fig, msg) {\n",
       "    // Updates the figure title.\n",
       "    fig.header.textContent = msg['label'];\n",
       "}\n",
       "\n",
       "mpl.figure.prototype.handle_cursor = function(fig, msg) {\n",
       "    var cursor = msg['cursor'];\n",
       "    switch(cursor)\n",
       "    {\n",
       "    case 0:\n",
       "        cursor = 'pointer';\n",
       "        break;\n",
       "    case 1:\n",
       "        cursor = 'default';\n",
       "        break;\n",
       "    case 2:\n",
       "        cursor = 'crosshair';\n",
       "        break;\n",
       "    case 3:\n",
       "        cursor = 'move';\n",
       "        break;\n",
       "    }\n",
       "    fig.rubberband_canvas.style.cursor = cursor;\n",
       "}\n",
       "\n",
       "mpl.figure.prototype.handle_message = function(fig, msg) {\n",
       "    fig.message.textContent = msg['message'];\n",
       "}\n",
       "\n",
       "mpl.figure.prototype.handle_draw = function(fig, msg) {\n",
       "    // Request the server to send over a new figure.\n",
       "    fig.send_draw_message();\n",
       "}\n",
       "\n",
       "mpl.figure.prototype.handle_image_mode = function(fig, msg) {\n",
       "    fig.image_mode = msg['mode'];\n",
       "}\n",
       "\n",
       "mpl.figure.prototype.updated_canvas_event = function() {\n",
       "    // Called whenever the canvas gets updated.\n",
       "    this.send_message(\"ack\", {});\n",
       "}\n",
       "\n",
       "// A function to construct a web socket function for onmessage handling.\n",
       "// Called in the figure constructor.\n",
       "mpl.figure.prototype._make_on_message_function = function(fig) {\n",
       "    return function socket_on_message(evt) {\n",
       "        if (evt.data instanceof Blob) {\n",
       "            /* FIXME: We get \"Resource interpreted as Image but\n",
       "             * transferred with MIME type text/plain:\" errors on\n",
       "             * Chrome.  But how to set the MIME type?  It doesn't seem\n",
       "             * to be part of the websocket stream */\n",
       "            evt.data.type = \"image/png\";\n",
       "\n",
       "            /* Free the memory for the previous frames */\n",
       "            if (fig.imageObj.src) {\n",
       "                (window.URL || window.webkitURL).revokeObjectURL(\n",
       "                    fig.imageObj.src);\n",
       "            }\n",
       "\n",
       "            fig.imageObj.src = (window.URL || window.webkitURL).createObjectURL(\n",
       "                evt.data);\n",
       "            fig.updated_canvas_event();\n",
       "            fig.waiting = false;\n",
       "            return;\n",
       "        }\n",
       "        else if (typeof evt.data === 'string' && evt.data.slice(0, 21) == \"data:image/png;base64\") {\n",
       "            fig.imageObj.src = evt.data;\n",
       "            fig.updated_canvas_event();\n",
       "            fig.waiting = false;\n",
       "            return;\n",
       "        }\n",
       "\n",
       "        var msg = JSON.parse(evt.data);\n",
       "        var msg_type = msg['type'];\n",
       "\n",
       "        // Call the  \"handle_{type}\" callback, which takes\n",
       "        // the figure and JSON message as its only arguments.\n",
       "        try {\n",
       "            var callback = fig[\"handle_\" + msg_type];\n",
       "        } catch (e) {\n",
       "            console.log(\"No handler for the '\" + msg_type + \"' message type: \", msg);\n",
       "            return;\n",
       "        }\n",
       "\n",
       "        if (callback) {\n",
       "            try {\n",
       "                // console.log(\"Handling '\" + msg_type + \"' message: \", msg);\n",
       "                callback(fig, msg);\n",
       "            } catch (e) {\n",
       "                console.log(\"Exception inside the 'handler_\" + msg_type + \"' callback:\", e, e.stack, msg);\n",
       "            }\n",
       "        }\n",
       "    };\n",
       "}\n",
       "\n",
       "// from http://stackoverflow.com/questions/1114465/getting-mouse-location-in-canvas\n",
       "mpl.findpos = function(e) {\n",
       "    //this section is from http://www.quirksmode.org/js/events_properties.html\n",
       "    var targ;\n",
       "    if (!e)\n",
       "        e = window.event;\n",
       "    if (e.target)\n",
       "        targ = e.target;\n",
       "    else if (e.srcElement)\n",
       "        targ = e.srcElement;\n",
       "    if (targ.nodeType == 3) // defeat Safari bug\n",
       "        targ = targ.parentNode;\n",
       "\n",
       "    // jQuery normalizes the pageX and pageY\n",
       "    // pageX,Y are the mouse positions relative to the document\n",
       "    // offset() returns the position of the element relative to the document\n",
       "    var x = e.pageX - $(targ).offset().left;\n",
       "    var y = e.pageY - $(targ).offset().top;\n",
       "\n",
       "    return {\"x\": x, \"y\": y};\n",
       "};\n",
       "\n",
       "/*\n",
       " * return a copy of an object with only non-object keys\n",
       " * we need this to avoid circular references\n",
       " * http://stackoverflow.com/a/24161582/3208463\n",
       " */\n",
       "function simpleKeys (original) {\n",
       "  return Object.keys(original).reduce(function (obj, key) {\n",
       "    if (typeof original[key] !== 'object')\n",
       "        obj[key] = original[key]\n",
       "    return obj;\n",
       "  }, {});\n",
       "}\n",
       "\n",
       "mpl.figure.prototype.mouse_event = function(event, name) {\n",
       "    var canvas_pos = mpl.findpos(event)\n",
       "\n",
       "    if (name === 'button_press')\n",
       "    {\n",
       "        this.canvas.focus();\n",
       "        this.canvas_div.focus();\n",
       "    }\n",
       "\n",
       "    var x = canvas_pos.x * mpl.ratio;\n",
       "    var y = canvas_pos.y * mpl.ratio;\n",
       "\n",
       "    this.send_message(name, {x: x, y: y, button: event.button,\n",
       "                             step: event.step,\n",
       "                             guiEvent: simpleKeys(event)});\n",
       "\n",
       "    /* This prevents the web browser from automatically changing to\n",
       "     * the text insertion cursor when the button is pressed.  We want\n",
       "     * to control all of the cursor setting manually through the\n",
       "     * 'cursor' event from matplotlib */\n",
       "    event.preventDefault();\n",
       "    return false;\n",
       "}\n",
       "\n",
       "mpl.figure.prototype._key_event_extra = function(event, name) {\n",
       "    // Handle any extra behaviour associated with a key event\n",
       "}\n",
       "\n",
       "mpl.figure.prototype.key_event = function(event, name) {\n",
       "\n",
       "    // Prevent repeat events\n",
       "    if (name == 'key_press')\n",
       "    {\n",
       "        if (event.which === this._key)\n",
       "            return;\n",
       "        else\n",
       "            this._key = event.which;\n",
       "    }\n",
       "    if (name == 'key_release')\n",
       "        this._key = null;\n",
       "\n",
       "    var value = '';\n",
       "    if (event.ctrlKey && event.which != 17)\n",
       "        value += \"ctrl+\";\n",
       "    if (event.altKey && event.which != 18)\n",
       "        value += \"alt+\";\n",
       "    if (event.shiftKey && event.which != 16)\n",
       "        value += \"shift+\";\n",
       "\n",
       "    value += 'k';\n",
       "    value += event.which.toString();\n",
       "\n",
       "    this._key_event_extra(event, name);\n",
       "\n",
       "    this.send_message(name, {key: value,\n",
       "                             guiEvent: simpleKeys(event)});\n",
       "    return false;\n",
       "}\n",
       "\n",
       "mpl.figure.prototype.toolbar_button_onclick = function(name) {\n",
       "    if (name == 'download') {\n",
       "        this.handle_save(this, null);\n",
       "    } else {\n",
       "        this.send_message(\"toolbar_button\", {name: name});\n",
       "    }\n",
       "};\n",
       "\n",
       "mpl.figure.prototype.toolbar_button_onmouseover = function(tooltip) {\n",
       "    this.message.textContent = tooltip;\n",
       "};\n",
       "mpl.toolbar_items = [[\"Home\", \"Reset original view\", \"fa fa-home icon-home\", \"home\"], [\"Back\", \"Back to previous view\", \"fa fa-arrow-left icon-arrow-left\", \"back\"], [\"Forward\", \"Forward to next view\", \"fa fa-arrow-right icon-arrow-right\", \"forward\"], [\"\", \"\", \"\", \"\"], [\"Pan\", \"Pan axes with left mouse, zoom with right\", \"fa fa-arrows icon-move\", \"pan\"], [\"Zoom\", \"Zoom to rectangle\", \"fa fa-square-o icon-check-empty\", \"zoom\"], [\"\", \"\", \"\", \"\"], [\"Download\", \"Download plot\", \"fa fa-floppy-o icon-save\", \"download\"]];\n",
       "\n",
       "mpl.extensions = [\"eps\", \"jpeg\", \"pdf\", \"png\", \"ps\", \"raw\", \"svg\", \"tif\"];\n",
       "\n",
       "mpl.default_extension = \"png\";var comm_websocket_adapter = function(comm) {\n",
       "    // Create a \"websocket\"-like object which calls the given IPython comm\n",
       "    // object with the appropriate methods. Currently this is a non binary\n",
       "    // socket, so there is still some room for performance tuning.\n",
       "    var ws = {};\n",
       "\n",
       "    ws.close = function() {\n",
       "        comm.close()\n",
       "    };\n",
       "    ws.send = function(m) {\n",
       "        //console.log('sending', m);\n",
       "        comm.send(m);\n",
       "    };\n",
       "    // Register the callback with on_msg.\n",
       "    comm.on_msg(function(msg) {\n",
       "        //console.log('receiving', msg['content']['data'], msg);\n",
       "        // Pass the mpl event to the overridden (by mpl) onmessage function.\n",
       "        ws.onmessage(msg['content']['data'])\n",
       "    });\n",
       "    return ws;\n",
       "}\n",
       "\n",
       "mpl.mpl_figure_comm = function(comm, msg) {\n",
       "    // This is the function which gets called when the mpl process\n",
       "    // starts-up an IPython Comm through the \"matplotlib\" channel.\n",
       "\n",
       "    var id = msg.content.data.id;\n",
       "    // Get hold of the div created by the display call when the Comm\n",
       "    // socket was opened in Python.\n",
       "    var element = $(\"#\" + id);\n",
       "    var ws_proxy = comm_websocket_adapter(comm)\n",
       "\n",
       "    function ondownload(figure, format) {\n",
       "        window.open(figure.imageObj.src);\n",
       "    }\n",
       "\n",
       "    var fig = new mpl.figure(id, ws_proxy,\n",
       "                           ondownload,\n",
       "                           element.get(0));\n",
       "\n",
       "    // Call onopen now - mpl needs it, as it is assuming we've passed it a real\n",
       "    // web socket which is closed, not our websocket->open comm proxy.\n",
       "    ws_proxy.onopen();\n",
       "\n",
       "    fig.parent_element = element.get(0);\n",
       "    fig.cell_info = mpl.find_output_cell(\"<div id='\" + id + \"'></div>\");\n",
       "    if (!fig.cell_info) {\n",
       "        console.error(\"Failed to find cell for figure\", id, fig);\n",
       "        return;\n",
       "    }\n",
       "\n",
       "    var output_index = fig.cell_info[2]\n",
       "    var cell = fig.cell_info[0];\n",
       "\n",
       "};\n",
       "\n",
       "mpl.figure.prototype.handle_close = function(fig, msg) {\n",
       "    var width = fig.canvas.width/mpl.ratio\n",
       "    fig.root.unbind('remove')\n",
       "\n",
       "    // Update the output cell to use the data from the current canvas.\n",
       "    fig.push_to_output();\n",
       "    var dataURL = fig.canvas.toDataURL();\n",
       "    // Re-enable the keyboard manager in IPython - without this line, in FF,\n",
       "    // the notebook keyboard shortcuts fail.\n",
       "    IPython.keyboard_manager.enable()\n",
       "    $(fig.parent_element).html('<img src=\"' + dataURL + '\" width=\"' + width + '\">');\n",
       "    fig.close_ws(fig, msg);\n",
       "}\n",
       "\n",
       "mpl.figure.prototype.close_ws = function(fig, msg){\n",
       "    fig.send_message('closing', msg);\n",
       "    // fig.ws.close()\n",
       "}\n",
       "\n",
       "mpl.figure.prototype.push_to_output = function(remove_interactive) {\n",
       "    // Turn the data on the canvas into data in the output cell.\n",
       "    var width = this.canvas.width/mpl.ratio\n",
       "    var dataURL = this.canvas.toDataURL();\n",
       "    this.cell_info[1]['text/html'] = '<img src=\"' + dataURL + '\" width=\"' + width + '\">';\n",
       "}\n",
       "\n",
       "mpl.figure.prototype.updated_canvas_event = function() {\n",
       "    // Tell IPython that the notebook contents must change.\n",
       "    IPython.notebook.set_dirty(true);\n",
       "    this.send_message(\"ack\", {});\n",
       "    var fig = this;\n",
       "    // Wait a second, then push the new image to the DOM so\n",
       "    // that it is saved nicely (might be nice to debounce this).\n",
       "    setTimeout(function () { fig.push_to_output() }, 1000);\n",
       "}\n",
       "\n",
       "mpl.figure.prototype._init_toolbar = function() {\n",
       "    var fig = this;\n",
       "\n",
       "    var nav_element = $('<div/>');\n",
       "    nav_element.attr('style', 'width: 100%');\n",
       "    this.root.append(nav_element);\n",
       "\n",
       "    // Define a callback function for later on.\n",
       "    function toolbar_event(event) {\n",
       "        return fig.toolbar_button_onclick(event['data']);\n",
       "    }\n",
       "    function toolbar_mouse_event(event) {\n",
       "        return fig.toolbar_button_onmouseover(event['data']);\n",
       "    }\n",
       "\n",
       "    for(var toolbar_ind in mpl.toolbar_items){\n",
       "        var name = mpl.toolbar_items[toolbar_ind][0];\n",
       "        var tooltip = mpl.toolbar_items[toolbar_ind][1];\n",
       "        var image = mpl.toolbar_items[toolbar_ind][2];\n",
       "        var method_name = mpl.toolbar_items[toolbar_ind][3];\n",
       "\n",
       "        if (!name) { continue; };\n",
       "\n",
       "        var button = $('<button class=\"btn btn-default\" href=\"#\" title=\"' + name + '\"><i class=\"fa ' + image + ' fa-lg\"></i></button>');\n",
       "        button.click(method_name, toolbar_event);\n",
       "        button.mouseover(tooltip, toolbar_mouse_event);\n",
       "        nav_element.append(button);\n",
       "    }\n",
       "\n",
       "    // Add the status bar.\n",
       "    var status_bar = $('<span class=\"mpl-message\" style=\"text-align:right; float: right;\"/>');\n",
       "    nav_element.append(status_bar);\n",
       "    this.message = status_bar[0];\n",
       "\n",
       "    // Add the close button to the window.\n",
       "    var buttongrp = $('<div class=\"btn-group inline pull-right\"></div>');\n",
       "    var button = $('<button class=\"btn btn-mini btn-primary\" href=\"#\" title=\"Stop Interaction\"><i class=\"fa fa-power-off icon-remove icon-large\"></i></button>');\n",
       "    button.click(function (evt) { fig.handle_close(fig, {}); } );\n",
       "    button.mouseover('Stop Interaction', toolbar_mouse_event);\n",
       "    buttongrp.append(button);\n",
       "    var titlebar = this.root.find($('.ui-dialog-titlebar'));\n",
       "    titlebar.prepend(buttongrp);\n",
       "}\n",
       "\n",
       "mpl.figure.prototype._root_extra_style = function(el){\n",
       "    var fig = this\n",
       "    el.on(\"remove\", function(){\n",
       "\tfig.close_ws(fig, {});\n",
       "    });\n",
       "}\n",
       "\n",
       "mpl.figure.prototype._canvas_extra_style = function(el){\n",
       "    // this is important to make the div 'focusable\n",
       "    el.attr('tabindex', 0)\n",
       "    // reach out to IPython and tell the keyboard manager to turn it's self\n",
       "    // off when our div gets focus\n",
       "\n",
       "    // location in version 3\n",
       "    if (IPython.notebook.keyboard_manager) {\n",
       "        IPython.notebook.keyboard_manager.register_events(el);\n",
       "    }\n",
       "    else {\n",
       "        // location in version 2\n",
       "        IPython.keyboard_manager.register_events(el);\n",
       "    }\n",
       "\n",
       "}\n",
       "\n",
       "mpl.figure.prototype._key_event_extra = function(event, name) {\n",
       "    var manager = IPython.notebook.keyboard_manager;\n",
       "    if (!manager)\n",
       "        manager = IPython.keyboard_manager;\n",
       "\n",
       "    // Check for shift+enter\n",
       "    if (event.shiftKey && event.which == 13) {\n",
       "        this.canvas_div.blur();\n",
       "        event.shiftKey = false;\n",
       "        // Send a \"J\" for go to next cell\n",
       "        event.which = 74;\n",
       "        event.keyCode = 74;\n",
       "        manager.command_mode();\n",
       "        manager.handle_keydown(event);\n",
       "    }\n",
       "}\n",
       "\n",
       "mpl.figure.prototype.handle_save = function(fig, msg) {\n",
       "    fig.ondownload(fig, null);\n",
       "}\n",
       "\n",
       "\n",
       "mpl.find_output_cell = function(html_output) {\n",
       "    // Return the cell and output element which can be found *uniquely* in the notebook.\n",
       "    // Note - this is a bit hacky, but it is done because the \"notebook_saving.Notebook\"\n",
       "    // IPython event is triggered only after the cells have been serialised, which for\n",
       "    // our purposes (turning an active figure into a static one), is too late.\n",
       "    var cells = IPython.notebook.get_cells();\n",
       "    var ncells = cells.length;\n",
       "    for (var i=0; i<ncells; i++) {\n",
       "        var cell = cells[i];\n",
       "        if (cell.cell_type === 'code'){\n",
       "            for (var j=0; j<cell.output_area.outputs.length; j++) {\n",
       "                var data = cell.output_area.outputs[j];\n",
       "                if (data.data) {\n",
       "                    // IPython >= 3 moved mimebundle to data attribute of output\n",
       "                    data = data.data;\n",
       "                }\n",
       "                if (data['text/html'] == html_output) {\n",
       "                    return [cell, data, j];\n",
       "                }\n",
       "            }\n",
       "        }\n",
       "    }\n",
       "}\n",
       "\n",
       "// Register the function which deals with the matplotlib target/channel.\n",
       "// The kernel may be null if the page has been refreshed.\n",
       "if (IPython.notebook.kernel != null) {\n",
       "    IPython.notebook.kernel.comm_manager.register_target('matplotlib', mpl.mpl_figure_comm);\n",
       "}\n"
      ],
      "text/plain": [
       "<IPython.core.display.Javascript object>"
      ]
     },
     "metadata": {},
     "output_type": "display_data"
    },
    {
     "data": {
      "text/html": [
       "<img src=\"data:image/png;base64,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\" width=\"639.9999861283738\">"
      ],
      "text/plain": [
       "<IPython.core.display.HTML object>"
      ]
     },
     "metadata": {},
     "output_type": "display_data"
    }
   ],
   "source": [
    "%matplotlib notebook\n",
    "count, bins, patch= plt.hist(s1.flatten(), bins=400)\n",
    "counts, bins1, patch = plt.hist(s2.flatten(), bins=400)\n",
    "#bins2= plt.hist(sp2.flatten(), bins=250)\n",
    "#bins = plt.hist((sp2-sp1).flatten(), bins=200)\n",
    "plt.yscale('log')\n",
    "#print(count)\n",
    "#print(counts)"
   ]
  },
  {
   "cell_type": "code",
   "execution_count": 14,
   "metadata": {},
   "outputs": [
    {
     "data": {
      "text/plain": [
       "32.600384"
      ]
     },
     "execution_count": 14,
     "metadata": {},
     "output_type": "execute_result"
    }
   ],
   "source": [
    "sum =0\n",
    "cnt = 0\n",
    "for i, p in enumerate(counts):\n",
    "    #print(i)\n",
    "    if p > cnt:\n",
    "        cnt = p\n",
    "        max_bin = bins1[i+1]\n",
    "    sum += p\n",
    "    if sum/s1.flatten().shape[0] > 0.95:\n",
    "        br = bins1[i+1]\n",
    "        break  \n",
    "br"
   ]
  },
  {
   "cell_type": "code",
   "execution_count": 15,
   "metadata": {},
   "outputs": [
    {
     "data": {
      "text/plain": [
       "13.8664465"
      ]
     },
     "execution_count": 15,
     "metadata": {},
     "output_type": "execute_result"
    }
   ],
   "source": [
    "max_bin"
   ]
  },
  {
   "cell_type": "code",
   "execution_count": null,
   "metadata": {},
   "outputs": [],
   "source": [
    "sp_1 = flt1[:, 55:105]\n",
    "sp_2 = flt2[:, 55:105]"
   ]
  },
  {
   "cell_type": "code",
   "execution_count": null,
   "metadata": {},
   "outputs": [],
   "source": [
    "mask = np.zeros(sp_2.shape, dtype=bool)\n",
    "\n",
    "for k in range(0, sp_2.shape[0], 400):\n",
    "    for i in range(0, sp_2.shape[1], 5):\n",
    "        sp1 = sp_2[k:k+400, i:i+5]\n",
    "        sp2 = sp_1[k:k+400, i:i+5]\n",
    "        count1, bins1 = np.histogram(sp1.flatten(), bins=250)\n",
    "        count2, bins2 = np.histogram(sp2.flatten(), bins=250)\n",
    "        sm1 = 0\n",
    "        sm2 = 0\n",
    "        tot_pix =sp1.flatten().shape[0]\n",
    "\n",
    "        for j,p in enumerate(count1):\n",
    "            sm1 += p\n",
    "            if sm1/tot_pix > 0.95 :\n",
    "                border1 = bins1[j+1]\n",
    "                break\n",
    "        #print(border)\n",
    "        for j,p in enumerate(count2):\n",
    "            sm2 += p\n",
    "            if sm2/tot_pix > 0.95 :\n",
    "                border2 = bins2[j+1]\n",
    "                break\n",
    "\n",
    "        a = np.where(sp1>border1)\n",
    "        a =np.transpose(a)\n",
    "\n",
    "        for j, p in enumerate(a):\n",
    "\n",
    "            #print(sp2[p[0]][p[1]])\n",
    "            if sp2[p[0]][p[1]] >0 :\n",
    "                #pass \n",
    "                if sp1[p[0]][p[1]] > (sp2[p[0]][p[1]] + 0.5*border2) :\n",
    "                    mask[k+p[0]][i+p[1]] =1 \n",
    "            else:\n",
    "                if sp1[p[0]][p[1]] > 3*border1 :\n",
    "                    mask[k+p[0]][i+p[1]] =1"
   ]
  },
  {
   "cell_type": "code",
   "execution_count": null,
   "metadata": {},
   "outputs": [],
   "source": [
    "m = sp1 < 856\n",
    "np.sum(m)/tot_pix"
   ]
  },
  {
   "cell_type": "code",
   "execution_count": null,
   "metadata": {},
   "outputs": [],
   "source": [
    "a = np.where(sp1>border)\n",
    "mask = np.zeros(sp1.shape, dtype=bool)\n",
    "a =np.transpose(a)\n",
    "for i, p in enumerate(a):\n",
    "    \n",
    "    #print(sp2[p[0]][p[1]])\n",
    "    if sp2[p[0]][p[1]] >0 :\n",
    "        #pass \n",
    "        if sp1[p[0]][p[1]] > (sp2[p[0]][p[1]] + 250) :\n",
    "            mask[p[0]][p[1]] =1 \n",
    "    else:\n",
    "        if sp1[p[0]][p[1]] > border + 300 :\n",
    "            mask[p[0]][p[1]] =1 \n",
    "    \n",
    "    #print(p)\n",
    "    #pass\n",
    "#a[0]\n",
    "#mask[0][0] = 1\n",
    "np.where(mask)"
   ]
  },
  {
   "cell_type": "code",
   "execution_count": null,
   "metadata": {},
   "outputs": [],
   "source": [
    "sp_2[mask] = -50000"
   ]
  },
  {
   "cell_type": "code",
   "execution_count": null,
   "metadata": {},
   "outputs": [],
   "source": [
    "pf.PrimaryHDU(sp_2.T).writeto('sp2_full_new.fits')"
   ]
  },
  {
   "cell_type": "code",
   "execution_count": null,
   "metadata": {},
   "outputs": [],
   "source": [
    "m = sp_1 == -50000\n",
    "sp_1[m] = sp_2[m]"
   ]
  },
  {
   "cell_type": "code",
   "execution_count": null,
   "metadata": {},
   "outputs": [],
   "source": [
    "pf.PrimaryHDU(sp_1.T).writeto('sp1_fill.fits')"
   ]
  },
  {
   "cell_type": "code",
   "execution_count": null,
   "metadata": {},
   "outputs": [],
   "source": [
    "bins1= plt.hist(dw1.flatten(), bins=100)\n",
    "bins2= plt.hist(dw2.flatten(), bins=100)\n",
    "plt.yscale('log')"
   ]
  },
  {
   "cell_type": "code",
   "execution_count": null,
   "metadata": {},
   "outputs": [],
   "source": [
    "dw1.flatten().tolist().index(np.min(dw1))/4096"
   ]
  },
  {
   "cell_type": "code",
   "execution_count": null,
   "metadata": {},
   "outputs": [],
   "source": [
    "m_pos = up1 > 50.0\n",
    "np.sum(1*m_pos)"
   ]
  },
  {
   "cell_type": "code",
   "execution_count": null,
   "metadata": {},
   "outputs": [],
   "source": [
    "mup1 = up1 > (up2 + 30.0)\n",
    "mdw1 = dw1 > (dw2 + 30.0)\n",
    "mup2 = up2 > (up1 + 30.0)\n",
    "mdw2 = dw2 > (dw1 + 30.0)\n",
    "\n",
    "up1[mup1] = up2[mup1]  #np.minimum(up1, up2)\n",
    "dw1[mdw1] = dw2[mdw1] #np.minimum(dw1, dw2) \n",
    "up2[mup2] = up1[mup2] #np.minimum(up1, up2)\n",
    "dw2[mdw2] = dw1[mdw2]   #np.minimum(dw1, dw2)"
   ]
  },
  {
   "cell_type": "code",
   "execution_count": null,
   "metadata": {},
   "outputs": [],
   "source": [
    "spec1.data[:, 105:] = up1\n",
    "spec1.data[:, :50]  = dw1\n",
    "spec2.data[:, 105:] = up2\n",
    "spec2.data[:, :50]  = dw2"
   ]
  },
  {
   "cell_type": "code",
   "execution_count": null,
   "metadata": {},
   "outputs": [],
   "source": [
    "diff1 = spec1.data\n",
    "diff2 = spec2.data"
   ]
  },
  {
   "cell_type": "code",
   "execution_count": null,
   "metadata": {},
   "outputs": [],
   "source": [
    "pf.PrimaryHDU(diff1.T).writeto('diff1.fits')\n",
    "pf.PrimaryHDU(diff2.T).writeto('diff2.fits')"
   ]
  },
  {
   "cell_type": "code",
   "execution_count": null,
   "metadata": {},
   "outputs": [],
   "source": [
    "d1 = spec1.data[:190, 60:95]\n",
    "d2 = spec2.data[:190, 60:95]"
   ]
  },
  {
   "cell_type": "code",
   "execution_count": null,
   "metadata": {},
   "outputs": [],
   "source": [
    "d1.flatten().shape"
   ]
  },
  {
   "cell_type": "code",
   "execution_count": null,
   "metadata": {},
   "outputs": [],
   "source": [
    "%matplotlib notebook\n",
    "bins1= plt.hist(d1.flatten(), bins=100)\n",
    "bins2= plt.hist(d2.flatten(), bins=100)\n",
    "#bins, count, patch= plt.hist(diff.flatten(), bins=200)\n",
    "plt.yscale('log')"
   ]
  },
  {
   "cell_type": "code",
   "execution_count": null,
   "metadata": {},
   "outputs": [],
   "source": [
    "diff = d1 - d2"
   ]
  },
  {
   "cell_type": "code",
   "execution_count": null,
   "metadata": {},
   "outputs": [],
   "source": [
    "m1 = diff < 1050.0\n",
    "m2 = diff >-1050\n",
    "\n",
    "m = m1 & m2\n",
    "np.sum(1*m) "
   ]
  },
  {
   "cell_type": "code",
   "execution_count": null,
   "metadata": {},
   "outputs": [],
   "source": [
    "m0 = d1 > 0.0\n",
    "m1 = d1 > (d2 + 30)\n",
    "\n",
    "mm = m0 & m1\n",
    "\n",
    "m2 =  d1 < (d2-30)\n",
    "mn = ~m0 & m2\n",
    "#m2 = d2 > (d1 + 500)\n",
    "\n",
    "d1[m1] = 5000   #d2[m1]\n",
    "#d2[m2] = 5000  #d2[m2]"
   ]
  },
  {
   "cell_type": "code",
   "execution_count": null,
   "metadata": {},
   "outputs": [],
   "source": [
    "pf.PrimaryHDU(d1.T).writeto('d1.fits')\n",
    "#pf.PrimaryHDU(d2.T).writeto('d2.fits')"
   ]
  },
  {
   "cell_type": "code",
   "execution_count": null,
   "metadata": {},
   "outputs": [],
   "source": [
    "d1.flatten().shape"
   ]
  },
  {
   "cell_type": "code",
   "execution_count": null,
   "metadata": {},
   "outputs": [],
   "source": [
    "diff = spec1.data - spec2.data\n",
    "#pf.PrimaryHDU(diff.T).writeto('diff1.fits')"
   ]
  },
  {
   "cell_type": "code",
   "execution_count": null,
   "metadata": {},
   "outputs": [],
   "source": [
    "gauss = models.Gaussian1D(amplitude=110, mean=0, stddev=500)"
   ]
  },
  {
   "cell_type": "code",
   "execution_count": null,
   "metadata": {},
   "outputs": [],
   "source": [
    "%matplotlib notebook\n",
    "bins1= plt.hist(spec1.data.flatten(), bins=1000)\n",
    "bins2= plt.hist(spec2.data.flatten(), bins=1000)\n",
    "bins, count, patch= plt.hist(diff.flatten(), bins=1000)\n",
    "\n",
    "x = np.zeros(len(count))\n",
    "for i, p in enumerate(bins[:-1]):\n",
    "    x[i] = 0.5*(p + bins[i+1])     # p + 0.5(bins[i+1]) - p)\n",
    "\n",
    "#plt.plot(x, gauss(x), color='r', label='Gaussian')\n",
    "#plt.yscale('log')\n",
    "plt.yscale('log')\n",
    "plt.ylim(5*10**-1, 2*10**3)"
   ]
  },
  {
   "cell_type": "code",
   "execution_count": null,
   "metadata": {},
   "outputs": [],
   "source": [
    "diff_md = filters.median_filter(diff, 10)"
   ]
  },
  {
   "cell_type": "code",
   "execution_count": null,
   "metadata": {},
   "outputs": [],
   "source": [
    "mask1 = diff_md < -30 \n",
    "mask2 = diff_md > 30\n",
    "\n",
    "mask = mask1 | mask2"
   ]
  },
  {
   "cell_type": "code",
   "execution_count": null,
   "metadata": {},
   "outputs": [],
   "source": [
    "np.sum(1*mask)"
   ]
  },
  {
   "cell_type": "code",
   "execution_count": null,
   "metadata": {},
   "outputs": [],
   "source": [
    "diff[mask] = 3000.0"
   ]
  },
  {
   "cell_type": "code",
   "execution_count": null,
   "metadata": {},
   "outputs": [],
   "source": [
    "pf.PrimaryHDU(diff.T).writeto('diff2.fits')"
   ]
  },
  {
   "cell_type": "code",
   "execution_count": null,
   "metadata": {},
   "outputs": [],
   "source": [
    "bins= plt.hist(spec1.data_org.flatten(), bins=1000)\n",
    "bins1= plt.hist(spec1.data.flatten(), bins=1000)\n",
    "plt.yscale('log')"
   ]
  },
  {
   "cell_type": "code",
   "execution_count": null,
   "metadata": {},
   "outputs": [],
   "source": []
  },
  {
   "cell_type": "code",
   "execution_count": null,
   "metadata": {},
   "outputs": [],
   "source": [
    "m1 = spec1.data < 0.0\n",
    "m2 = spec2.data < 0.0\n",
    "\n",
    "print(np.sum(1*m1)/ spec1.data.flatten().shape[0])\n",
    "print(np.sum(1*m2)/ spec2.data.flatten().shape[0])"
   ]
  },
  {
   "cell_type": "code",
   "execution_count": null,
   "metadata": {},
   "outputs": [],
   "source": [
    "spec1.data.flatten().shape[0]"
   ]
  },
  {
   "cell_type": "code",
   "execution_count": null,
   "metadata": {},
   "outputs": [],
   "source": [
    "x = np.zeros(len(count))\n",
    "for i, p in enumerate(bins[:-1]):\n",
    "    x[i] = 0.5*(p + bins[i+1])     # p + 0.5(bins[i+1]) - p)\n",
    "\n",
    "x1 = x[530:566] - np.median(x[530:566])\n",
    "y1 = count[530:566] / np.median(count[530:566])\n",
    "y1 = y1 - np.min(y1)"
   ]
  },
  {
   "cell_type": "code",
   "execution_count": null,
   "metadata": {},
   "outputs": [],
   "source": [
    "best_fit_gauss = fitter_gauss(model_gauss, x1, y1)"
   ]
  },
  {
   "cell_type": "code",
   "execution_count": null,
   "metadata": {},
   "outputs": [],
   "source": [
    "plt.plot(x1, best_fit_gauss(x1), 'r', label='Gaussian fit')"
   ]
  },
  {
   "cell_type": "code",
   "execution_count": null,
   "metadata": {},
   "outputs": [],
   "source": [
    "np.arange(-5, 5)"
   ]
  },
  {
   "cell_type": "code",
   "execution_count": null,
   "metadata": {},
   "outputs": [],
   "source": [
    "#count, bins, patch = plt.hist(diff.flatten(), bins=1000)\n",
    "plt.plot(x[530:566], best_fit_gauss(x[530:566]), 'r', label='Gaussian fit')\n",
    "plt.yscale('log')\n",
    "plt.legend()"
   ]
  },
  {
   "cell_type": "code",
   "execution_count": null,
   "metadata": {},
   "outputs": [],
   "source": [
    "#gauss = models.Gaussian1D(amplitude=1200, mean=0, stddev=7)\n",
    "model_gauss = models.Gaussian1D()        \n",
    "fitter_gauss = fitting.LevMarLSQFitter()"
   ]
  },
  {
   "cell_type": "code",
   "execution_count": null,
   "metadata": {},
   "outputs": [],
   "source": [
    "plt.plot(x1, y1, '.')\n",
    "plt.plot(x1, best_fit_gauss(x1), 'r', label='Gaussian fit')\n",
    "#plt.yscale('log')"
   ]
  },
  {
   "cell_type": "code",
   "execution_count": null,
   "metadata": {},
   "outputs": [],
   "source": [
    "print(best_fit_gauss)"
   ]
  },
  {
   "cell_type": "code",
   "execution_count": null,
   "metadata": {},
   "outputs": [],
   "source": [
    "x[0:50]"
   ]
  },
  {
   "cell_type": "code",
   "execution_count": null,
   "metadata": {},
   "outputs": [],
   "source": [
    "np.std(diff.flatten())"
   ]
  },
  {
   "cell_type": "code",
   "execution_count": null,
   "metadata": {},
   "outputs": [],
   "source": [
    "a = np.array([9, 7, 6 , 7 , 0 , 3, 2])"
   ]
  },
  {
   "cell_type": "code",
   "execution_count": null,
   "metadata": {},
   "outputs": [],
   "source": [
    "b = a>3"
   ]
  },
  {
   "cell_type": "code",
   "execution_count": null,
   "metadata": {},
   "outputs": [],
   "source": [
    "a[b]= -9"
   ]
  },
  {
   "cell_type": "code",
   "execution_count": null,
   "metadata": {},
   "outputs": [],
   "source": [
    "a"
   ]
  },
  {
   "cell_type": "code",
   "execution_count": null,
   "metadata": {},
   "outputs": [],
   "source": [
    "np.median(diff)"
   ]
  },
  {
   "cell_type": "code",
   "execution_count": null,
   "metadata": {},
   "outputs": [],
   "source": [
    "np.max(diff)"
   ]
  },
  {
   "cell_type": "code",
   "execution_count": null,
   "metadata": {},
   "outputs": [],
   "source": [
    "a = np.array([4, 6, 7, 9, 8])\n",
    "b = np.array([0,-3,0])\n",
    "m = b==0"
   ]
  },
  {
   "cell_type": "code",
   "execution_count": null,
   "metadata": {},
   "outputs": [],
   "source": [
    "a[:3][m] = 10"
   ]
  },
  {
   "cell_type": "code",
   "execution_count": null,
   "metadata": {},
   "outputs": [],
   "source": [
    "a"
   ]
  },
  {
   "cell_type": "code",
   "execution_count": null,
   "metadata": {},
   "outputs": [],
   "source": []
  }
 ],
 "metadata": {
  "kernelspec": {
   "display_name": "Python 3",
   "language": "python",
   "name": "python3"
  },
  "language_info": {
   "codemirror_mode": {
    "name": "ipython",
    "version": 3
   },
   "file_extension": ".py",
   "mimetype": "text/x-python",
   "name": "python",
   "nbconvert_exporter": "python",
   "pygments_lexer": "ipython3",
   "version": "3.7.4"
  }
 },
 "nbformat": 4,
 "nbformat_minor": 4
}
