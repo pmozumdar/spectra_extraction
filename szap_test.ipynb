{
 "cells": [
  {
   "cell_type": "code",
   "execution_count": 1,
   "metadata": {},
   "outputs": [],
   "source": [
    "import numpy as np\n",
    "import matplotlib.pyplot as plt\n",
    "from specim_test.specim.specfuncs import spec2d\n",
    "from astropy.io import fits as pf\n",
    "from astropy.modeling import models, fitting\n",
    "from scipy.ndimage import filters"
   ]
  },
  {
   "cell_type": "code",
   "execution_count": 2,
   "metadata": {},
   "outputs": [],
   "source": [
    "infile1 = '../galaxy_spectra/lris-longslit-red-1120/spec2d_r201121_0030-J0040+2555_LRISr_2020Nov21T045325.037.fits'\n",
    "infile2 = '../galaxy_spectra/lris-longslit-red-1120/spec2d_r201121_0031-J0040+2555_LRISr_2020Nov21T051705.971.fits'"
   ]
  },
  {
   "cell_type": "code",
   "execution_count": 3,
   "metadata": {},
   "outputs": [
    {
     "name": "stdout",
     "output_type": "stream",
     "text": [
      "\n",
      "Loading file ../galaxy_spectra/lris-longslit-red-1120/spec2d_r201121_0030-J0040+2555_LRISr_2020Nov21T045325.037.fits\n",
      "-----------------------------------------------\n",
      "Read in 2-dimensional spectrum from ../galaxy_spectra/lris-longslit-red-1120/spec2d_r201121_0030-J0040+2555_LRISr_2020Nov21T045325.037.fits (HDU=12)\n",
      "The input dataset was trimmed\n",
      " xrange: 40:171.  yrange: 0:4096\n",
      "Final data dimensions (x y): 131 x 4096\n",
      "\n",
      "Dispersion axis:              x\n",
      "N_pixels along dispersion axis: 131\n",
      "\n",
      "\n",
      "Loading file ../galaxy_spectra/lris-longslit-red-1120/spec2d_r201121_0031-J0040+2555_LRISr_2020Nov21T051705.971.fits\n",
      "-----------------------------------------------\n",
      "Read in 2-dimensional spectrum from ../galaxy_spectra/lris-longslit-red-1120/spec2d_r201121_0031-J0040+2555_LRISr_2020Nov21T051705.971.fits (HDU=12)\n",
      "The input dataset was trimmed\n",
      " xrange: 40:171.  yrange: 0:4096\n",
      "Final data dimensions (x y): 131 x 4096\n",
      "\n",
      "Dispersion axis:              x\n",
      "N_pixels along dispersion axis: 131\n",
      "\n"
     ]
    }
   ],
   "source": [
    "spec1 = spec2d.Spec2d(infile1, hext=12, xtrim=[40, 170])\n",
    "spec2 = spec2d.Spec2d(infile2, hext=12, xtrim=[40, 170])"
   ]
  },
  {
   "cell_type": "code",
   "execution_count": 4,
   "metadata": {},
   "outputs": [
    {
     "name": "stdout",
     "output_type": "stream",
     "text": [
      "\n",
      "Old value of dispaxis: x\n",
      "\n",
      "Dispersion axis:              y\n",
      "N_pixels along dispersion axis: 4096\n",
      "\n",
      "\n",
      "\n",
      "Old value of dispaxis: x\n",
      "\n",
      "Dispersion axis:              y\n",
      "N_pixels along dispersion axis: 4096\n",
      "\n",
      "\n"
     ]
    }
   ],
   "source": [
    "spec1.set_dispaxis('y')\n",
    "spec2.set_dispaxis('y')"
   ]
  },
  {
   "cell_type": "code",
   "execution_count": 5,
   "metadata": {},
   "outputs": [
    {
     "name": "stdout",
     "output_type": "stream",
     "text": [
      "\n",
      "pypeit generated sky model will be used for sky subtraction\n",
      "\n",
      " Wrote sky subtracted data to None\n",
      "\n",
      "From this point sky subtracted data will be used\n",
      " Spectrum Start:     0.00\n",
      " Spectrum End:     4095.00\n",
      " Dispersion (1st pixel):   1.00\n",
      " Dispersion (average):      1.00\n",
      "\n",
      "\n",
      "pypeit generated sky model will be used for sky subtraction\n",
      "\n",
      " Wrote sky subtracted data to None\n",
      "\n",
      "From this point sky subtracted data will be used\n",
      " Spectrum Start:     0.00\n",
      " Spectrum End:     4095.00\n",
      " Dispersion (1st pixel):   1.00\n",
      " Dispersion (average):      1.00\n",
      "\n"
     ]
    }
   ],
   "source": [
    "spec1.subtract_sky_2d(use_skymod=True)\n",
    "spec2.subtract_sky_2d(use_skymod=True)"
   ]
  },
  {
   "cell_type": "code",
   "execution_count": null,
   "metadata": {},
   "outputs": [],
   "source": [
    "#spec1.szap(outfile='szap30.fits', use_skymod=True)"
   ]
  },
  {
   "cell_type": "code",
   "execution_count": null,
   "metadata": {},
   "outputs": [],
   "source": []
  },
  {
   "cell_type": "code",
   "execution_count": null,
   "metadata": {},
   "outputs": [],
   "source": [
    "up1 = spec1.data[:, 105:]\n",
    "dw1 = spec1.data[:, :50]\n",
    "up2 = spec2.data[:, 105:]\n",
    "dw2 = spec2.data[:, :50]"
   ]
  },
  {
   "cell_type": "code",
   "execution_count": null,
   "metadata": {},
   "outputs": [],
   "source": [
    "sp_1 = spec1.data[:, 55:100]\n",
    "sp_2 = spec2.data[:, 55:100]\n",
    "sp_1.flatten().shape"
   ]
  },
  {
   "cell_type": "code",
   "execution_count": null,
   "metadata": {},
   "outputs": [],
   "source": [
    "pf.PrimaryHDU(sp_1.T).writeto('sp1.fits')"
   ]
  },
  {
   "cell_type": "code",
   "execution_count": null,
   "metadata": {},
   "outputs": [],
   "source": [
    "%matplotlib notebook\n",
    "count, bins, patch= plt.hist(sp1.flatten(), bins=250)\n",
    "counts, bins1 = np.histogram(sp1.flatten(), bins=250)\n",
    "#bins2= plt.hist(sp2.flatten(), bins=250)\n",
    "#bins = plt.hist((sp2-sp1).flatten(), bins=200)\n",
    "plt.yscale('log')\n",
    "#print(count)\n",
    "#print(counts)"
   ]
  },
  {
   "cell_type": "code",
   "execution_count": null,
   "metadata": {},
   "outputs": [],
   "source": [
    "sum =0\n",
    "for i, p in enumerate(counts):\n",
    "    #print(i)\n",
    "    sum += p\n",
    "    if sum/sp1.flatten().shape[0] > 0.95:\n",
    "        br = bins1[i+1]\n",
    "        break  "
   ]
  },
  {
   "cell_type": "code",
   "execution_count": null,
   "metadata": {},
   "outputs": [],
   "source": [
    "sp_1.shape"
   ]
  },
  {
   "cell_type": "code",
   "execution_count": null,
   "metadata": {},
   "outputs": [],
   "source": [
    "mask = np.zeros(sp_2.shape, dtype=bool)\n",
    "\n",
    "for i in range(0, sp_2.shape[1], 5):\n",
    "    sp1 = sp_2[:, i:i+5]\n",
    "    sp2 = sp_1[:, i:i+5]\n",
    "    counts, bins1 = np.histogram(sp1.flatten(), bins=250)\n",
    "    sm = 0\n",
    "    tot_pix =sp1.flatten().shape[0]\n",
    "    \n",
    "    for j,p in enumerate(counts):\n",
    "        sm += p\n",
    "        if sm/tot_pix > 0.95 :\n",
    "            border = bins1[j+1]\n",
    "            break\n",
    "    #print(border)\n",
    "    a = np.where(sp1>border)\n",
    "\n",
    "    a =np.transpose(a)\n",
    "    for j, p in enumerate(a):\n",
    "\n",
    "        #print(sp2[p[0]][p[1]])\n",
    "        if sp2[p[0]][p[1]] >0 :\n",
    "            #pass \n",
    "            if sp1[p[0]][p[1]] > (sp2[p[0]][p[1]] + 250) :\n",
    "                mask[p[0]][i+p[1]] =1 \n",
    "        else:\n",
    "            if sp1[p[0]][p[1]] > border + 300 :\n",
    "                mask[p[0]][i+p[1]] =1"
   ]
  },
  {
   "cell_type": "code",
   "execution_count": null,
   "metadata": {},
   "outputs": [],
   "source": [
    "m = sp1 < 856\n",
    "np.sum(m)/tot_pix"
   ]
  },
  {
   "cell_type": "code",
   "execution_count": null,
   "metadata": {},
   "outputs": [],
   "source": [
    "a = np.where(sp1>border)\n",
    "mask = np.zeros(sp1.shape, dtype=bool)\n",
    "a =np.transpose(a)\n",
    "for i, p in enumerate(a):\n",
    "    \n",
    "    #print(sp2[p[0]][p[1]])\n",
    "    if sp2[p[0]][p[1]] >0 :\n",
    "        #pass \n",
    "        if sp1[p[0]][p[1]] > (sp2[p[0]][p[1]] + 250) :\n",
    "            mask[p[0]][p[1]] =1 \n",
    "    else:\n",
    "        if sp1[p[0]][p[1]] > border + 300 :\n",
    "            mask[p[0]][p[1]] =1 \n",
    "    \n",
    "    #print(p)\n",
    "    #pass\n",
    "#a[0]\n",
    "#mask[0][0] = 1\n",
    "np.where(mask)"
   ]
  },
  {
   "cell_type": "code",
   "execution_count": null,
   "metadata": {},
   "outputs": [],
   "source": [
    "sp_2[mask] = -50000"
   ]
  },
  {
   "cell_type": "code",
   "execution_count": null,
   "metadata": {},
   "outputs": [],
   "source": [
    "pf.PrimaryHDU(sp_2.T).writeto('sp22.fits')"
   ]
  },
  {
   "cell_type": "code",
   "execution_count": null,
   "metadata": {},
   "outputs": [],
   "source": [
    "bins1= plt.hist(dw1.flatten(), bins=100)\n",
    "bins2= plt.hist(dw2.flatten(), bins=100)\n",
    "plt.yscale('log')"
   ]
  },
  {
   "cell_type": "code",
   "execution_count": null,
   "metadata": {},
   "outputs": [],
   "source": [
    "dw1.flatten().tolist().index(np.min(dw1))/4096"
   ]
  },
  {
   "cell_type": "code",
   "execution_count": null,
   "metadata": {},
   "outputs": [],
   "source": [
    "m_pos = up1 > 50.0\n",
    "np.sum(1*m_pos)"
   ]
  },
  {
   "cell_type": "code",
   "execution_count": null,
   "metadata": {},
   "outputs": [],
   "source": [
    "mup1 = up1 > (up2 + 30.0)\n",
    "mdw1 = dw1 > (dw2 + 30.0)\n",
    "mup2 = up2 > (up1 + 30.0)\n",
    "mdw2 = dw2 > (dw1 + 30.0)\n",
    "\n",
    "up1[mup1] = up2[mup1]  #np.minimum(up1, up2)\n",
    "dw1[mdw1] = dw2[mdw1] #np.minimum(dw1, dw2) \n",
    "up2[mup2] = up1[mup2] #np.minimum(up1, up2)\n",
    "dw2[mdw2] = dw1[mdw2]   #np.minimum(dw1, dw2)"
   ]
  },
  {
   "cell_type": "code",
   "execution_count": null,
   "metadata": {},
   "outputs": [],
   "source": [
    "spec1.data[:, 105:] = up1\n",
    "spec1.data[:, :50]  = dw1\n",
    "spec2.data[:, 105:] = up2\n",
    "spec2.data[:, :50]  = dw2"
   ]
  },
  {
   "cell_type": "code",
   "execution_count": null,
   "metadata": {},
   "outputs": [],
   "source": [
    "diff1 = spec1.data\n",
    "diff2 = spec2.data"
   ]
  },
  {
   "cell_type": "code",
   "execution_count": null,
   "metadata": {},
   "outputs": [],
   "source": [
    "pf.PrimaryHDU(diff1.T).writeto('diff1.fits')\n",
    "pf.PrimaryHDU(diff2.T).writeto('diff2.fits')"
   ]
  },
  {
   "cell_type": "code",
   "execution_count": null,
   "metadata": {},
   "outputs": [],
   "source": [
    "d1 = spec1.data[:190, 60:95]\n",
    "d2 = spec2.data[:190, 60:95]"
   ]
  },
  {
   "cell_type": "code",
   "execution_count": null,
   "metadata": {},
   "outputs": [],
   "source": [
    "d1.flatten().shape"
   ]
  },
  {
   "cell_type": "code",
   "execution_count": null,
   "metadata": {},
   "outputs": [],
   "source": [
    "%matplotlib notebook\n",
    "bins1= plt.hist(d1.flatten(), bins=100)\n",
    "bins2= plt.hist(d2.flatten(), bins=100)\n",
    "#bins, count, patch= plt.hist(diff.flatten(), bins=200)\n",
    "plt.yscale('log')"
   ]
  },
  {
   "cell_type": "code",
   "execution_count": null,
   "metadata": {},
   "outputs": [],
   "source": [
    "diff = d1 - d2"
   ]
  },
  {
   "cell_type": "code",
   "execution_count": null,
   "metadata": {},
   "outputs": [],
   "source": [
    "m1 = diff < 1050.0\n",
    "m2 = diff >-1050\n",
    "\n",
    "m = m1 & m2\n",
    "np.sum(1*m) "
   ]
  },
  {
   "cell_type": "code",
   "execution_count": null,
   "metadata": {},
   "outputs": [],
   "source": [
    "m0 = d1 > 0.0\n",
    "m1 = d1 > (d2 + 30)\n",
    "\n",
    "mm = m0 & m1\n",
    "\n",
    "m2 =  d1 < (d2-30)\n",
    "mn = ~m0 & m2\n",
    "#m2 = d2 > (d1 + 500)\n",
    "\n",
    "d1[m1] = 5000   #d2[m1]\n",
    "#d2[m2] = 5000  #d2[m2]"
   ]
  },
  {
   "cell_type": "code",
   "execution_count": null,
   "metadata": {},
   "outputs": [],
   "source": [
    "pf.PrimaryHDU(d1.T).writeto('d1.fits')\n",
    "#pf.PrimaryHDU(d2.T).writeto('d2.fits')"
   ]
  },
  {
   "cell_type": "code",
   "execution_count": null,
   "metadata": {},
   "outputs": [],
   "source": [
    "d1.flatten().shape"
   ]
  },
  {
   "cell_type": "code",
   "execution_count": null,
   "metadata": {},
   "outputs": [],
   "source": [
    "diff = spec1.data - spec2.data\n",
    "#pf.PrimaryHDU(diff.T).writeto('diff1.fits')"
   ]
  },
  {
   "cell_type": "code",
   "execution_count": null,
   "metadata": {},
   "outputs": [],
   "source": [
    "gauss = models.Gaussian1D(amplitude=110, mean=0, stddev=500)"
   ]
  },
  {
   "cell_type": "code",
   "execution_count": null,
   "metadata": {},
   "outputs": [],
   "source": [
    "%matplotlib notebook\n",
    "bins1= plt.hist(spec1.data.flatten(), bins=1000)\n",
    "bins2= plt.hist(spec2.data.flatten(), bins=1000)\n",
    "bins, count, patch= plt.hist(diff.flatten(), bins=1000)\n",
    "\n",
    "x = np.zeros(len(count))\n",
    "for i, p in enumerate(bins[:-1]):\n",
    "    x[i] = 0.5*(p + bins[i+1])     # p + 0.5(bins[i+1]) - p)\n",
    "\n",
    "#plt.plot(x, gauss(x), color='r', label='Gaussian')\n",
    "#plt.yscale('log')\n",
    "plt.yscale('log')\n",
    "plt.ylim(5*10**-1, 2*10**3)"
   ]
  },
  {
   "cell_type": "code",
   "execution_count": null,
   "metadata": {},
   "outputs": [],
   "source": [
    "diff_md = filters.median_filter(diff, 10)"
   ]
  },
  {
   "cell_type": "code",
   "execution_count": null,
   "metadata": {},
   "outputs": [],
   "source": [
    "mask1 = diff_md < -30 \n",
    "mask2 = diff_md > 30\n",
    "\n",
    "mask = mask1 | mask2"
   ]
  },
  {
   "cell_type": "code",
   "execution_count": null,
   "metadata": {},
   "outputs": [],
   "source": [
    "np.sum(1*mask)"
   ]
  },
  {
   "cell_type": "code",
   "execution_count": null,
   "metadata": {},
   "outputs": [],
   "source": [
    "diff[mask] = 3000.0"
   ]
  },
  {
   "cell_type": "code",
   "execution_count": null,
   "metadata": {},
   "outputs": [],
   "source": [
    "pf.PrimaryHDU(diff.T).writeto('diff2.fits')"
   ]
  },
  {
   "cell_type": "code",
   "execution_count": null,
   "metadata": {},
   "outputs": [],
   "source": [
    "bins= plt.hist(spec1.data_org.flatten(), bins=1000)\n",
    "bins1= plt.hist(spec1.data.flatten(), bins=1000)\n",
    "plt.yscale('log')"
   ]
  },
  {
   "cell_type": "code",
   "execution_count": null,
   "metadata": {},
   "outputs": [],
   "source": []
  },
  {
   "cell_type": "code",
   "execution_count": null,
   "metadata": {},
   "outputs": [],
   "source": [
    "m1 = spec1.data < 0.0\n",
    "m2 = spec2.data < 0.0\n",
    "\n",
    "print(np.sum(1*m1)/ spec1.data.flatten().shape[0])\n",
    "print(np.sum(1*m2)/ spec2.data.flatten().shape[0])"
   ]
  },
  {
   "cell_type": "code",
   "execution_count": null,
   "metadata": {},
   "outputs": [],
   "source": [
    "spec1.data.flatten().shape[0]"
   ]
  },
  {
   "cell_type": "code",
   "execution_count": null,
   "metadata": {},
   "outputs": [],
   "source": [
    "x = np.zeros(len(count))\n",
    "for i, p in enumerate(bins[:-1]):\n",
    "    x[i] = 0.5*(p + bins[i+1])     # p + 0.5(bins[i+1]) - p)\n",
    "\n",
    "x1 = x[530:566] - np.median(x[530:566])\n",
    "y1 = count[530:566] / np.median(count[530:566])\n",
    "y1 = y1 - np.min(y1)"
   ]
  },
  {
   "cell_type": "code",
   "execution_count": null,
   "metadata": {},
   "outputs": [],
   "source": [
    "best_fit_gauss = fitter_gauss(model_gauss, x1, y1)"
   ]
  },
  {
   "cell_type": "code",
   "execution_count": null,
   "metadata": {},
   "outputs": [],
   "source": [
    "plt.plot(x1, best_fit_gauss(x1), 'r', label='Gaussian fit')"
   ]
  },
  {
   "cell_type": "code",
   "execution_count": null,
   "metadata": {},
   "outputs": [],
   "source": [
    "np.arange(-5, 5)"
   ]
  },
  {
   "cell_type": "code",
   "execution_count": null,
   "metadata": {},
   "outputs": [],
   "source": [
    "#count, bins, patch = plt.hist(diff.flatten(), bins=1000)\n",
    "plt.plot(x[530:566], best_fit_gauss(x[530:566]), 'r', label='Gaussian fit')\n",
    "plt.yscale('log')\n",
    "plt.legend()"
   ]
  },
  {
   "cell_type": "code",
   "execution_count": null,
   "metadata": {},
   "outputs": [],
   "source": [
    "#gauss = models.Gaussian1D(amplitude=1200, mean=0, stddev=7)\n",
    "model_gauss = models.Gaussian1D()        \n",
    "fitter_gauss = fitting.LevMarLSQFitter()"
   ]
  },
  {
   "cell_type": "code",
   "execution_count": null,
   "metadata": {},
   "outputs": [],
   "source": [
    "plt.plot(x1, y1, '.')\n",
    "plt.plot(x1, best_fit_gauss(x1), 'r', label='Gaussian fit')\n",
    "#plt.yscale('log')"
   ]
  },
  {
   "cell_type": "code",
   "execution_count": null,
   "metadata": {},
   "outputs": [],
   "source": [
    "print(best_fit_gauss)"
   ]
  },
  {
   "cell_type": "code",
   "execution_count": null,
   "metadata": {},
   "outputs": [],
   "source": [
    "x[0:50]"
   ]
  },
  {
   "cell_type": "code",
   "execution_count": null,
   "metadata": {},
   "outputs": [],
   "source": [
    "np.std(diff.flatten())"
   ]
  },
  {
   "cell_type": "code",
   "execution_count": null,
   "metadata": {},
   "outputs": [],
   "source": [
    "a = np.array([9, 7, 6 , 7 , 0 , 3, 2])"
   ]
  },
  {
   "cell_type": "code",
   "execution_count": null,
   "metadata": {},
   "outputs": [],
   "source": [
    "b = a>3"
   ]
  },
  {
   "cell_type": "code",
   "execution_count": null,
   "metadata": {},
   "outputs": [],
   "source": [
    "a[b]= -9"
   ]
  },
  {
   "cell_type": "code",
   "execution_count": null,
   "metadata": {},
   "outputs": [],
   "source": [
    "a"
   ]
  },
  {
   "cell_type": "code",
   "execution_count": null,
   "metadata": {},
   "outputs": [],
   "source": [
    "np.median(diff)"
   ]
  },
  {
   "cell_type": "code",
   "execution_count": null,
   "metadata": {},
   "outputs": [],
   "source": [
    "np.max(diff)"
   ]
  },
  {
   "cell_type": "code",
   "execution_count": null,
   "metadata": {},
   "outputs": [],
   "source": [
    "a = np.array([4, 6, 7, 9, 8])\n",
    "b = np.array([0,-3,0])\n",
    "m = b==0"
   ]
  },
  {
   "cell_type": "code",
   "execution_count": null,
   "metadata": {},
   "outputs": [],
   "source": [
    "a[:3][m] = 10"
   ]
  },
  {
   "cell_type": "code",
   "execution_count": null,
   "metadata": {},
   "outputs": [],
   "source": [
    "a"
   ]
  },
  {
   "cell_type": "code",
   "execution_count": null,
   "metadata": {},
   "outputs": [],
   "source": []
  }
 ],
 "metadata": {
  "kernelspec": {
   "display_name": "Python 3",
   "language": "python",
   "name": "python3"
  },
  "language_info": {
   "codemirror_mode": {
    "name": "ipython",
    "version": 3
   },
   "file_extension": ".py",
   "mimetype": "text/x-python",
   "name": "python",
   "nbconvert_exporter": "python",
   "pygments_lexer": "ipython3",
   "version": "3.7.4"
  }
 },
 "nbformat": 4,
 "nbformat_minor": 4
}
