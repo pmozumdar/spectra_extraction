{
 "cells": [
  {
   "cell_type": "code",
   "execution_count": 1,
   "metadata": {},
   "outputs": [],
   "source": [
    "import numpy as np\n",
    "import matplotlib.pyplot as plt\n",
    "import glob\n",
    "from specim_test.specim.specfuncs import spec2d\n",
    "from specim.specfuncs import spec1d\n",
    "from astropy.io import fits as pf\n",
    "from scipy import interpolate"
   ]
  },
  {
   "cell_type": "code",
   "execution_count": 2,
   "metadata": {},
   "outputs": [],
   "source": [
    "file_loc = '../galaxy_spectra/LRIS_red_data_201213/keck_lris_red_A/Science/*'"
   ]
  },
  {
   "cell_type": "code",
   "execution_count": 3,
   "metadata": {},
   "outputs": [],
   "source": [
    "file_list = []\n",
    "out_file = []\n",
    "for i,p in enumerate(glob.glob(file_loc)):\n",
    "    if 'spec2d' in p and '0053m1' in p:\n",
    "        file_list.append(p)\n",
    "        frame = p.split('_')[-3][:5]\n",
    "        out_file.append('0053m1_r'+ frame + '_spec1d.fits')"
   ]
  },
  {
   "cell_type": "code",
   "execution_count": 4,
   "metadata": {},
   "outputs": [
    {
     "data": {
      "text/plain": [
       "['../galaxy_spectra/LRIS_red_data_201213/keck_lris_red_A/Science/spec2d_r201213_0026a-0053m1_LRISr_2020Dec13T045626.045.fits',\n",
       " '../galaxy_spectra/LRIS_red_data_201213/keck_lris_red_A/Science/spec2d_r201213_0026b-0053m1_LRISr_2020Dec13T045626.045.fits',\n",
       " '../galaxy_spectra/LRIS_red_data_201213/keck_lris_red_A/Science/spec2d_r201213_0028-0053m1_LRISr_2020Dec13T071213.306.fits',\n",
       " '../galaxy_spectra/LRIS_red_data_201213/keck_lris_red_A/Science/spec2d_r201213_0027-0053m1_LRISr_2020Dec13T062831.930.fits']"
      ]
     },
     "execution_count": 4,
     "metadata": {},
     "output_type": "execute_result"
    }
   ],
   "source": [
    "file_list"
   ]
  },
  {
   "cell_type": "code",
   "execution_count": 6,
   "metadata": {},
   "outputs": [
    {
     "name": "stdout",
     "output_type": "stream",
     "text": [
      "\n",
      "Loading file ../galaxy_spectra/LRIS_red_data_201213/keck_lris_red_A/Science/spec2d_r201213_0026b-0053m1_LRISr_2020Dec13T045626.045.fits\n",
      "-----------------------------------------------\n",
      "Read in 2-dimensional spectrum from ../galaxy_spectra/LRIS_red_data_201213/keck_lris_red_A/Science/spec2d_r201213_0026b-0053m1_LRISr_2020Dec13T045626.045.fits (HDU=12)\n",
      "The input dataset was trimmed\n",
      " xrange: 365:401.  yrange: 0:4096\n",
      "The input dataset was transposed\n",
      "Final data dimensions (x y): 4096 x 36\n",
      "\n",
      "Dispersion axis:              x\n",
      "N_pixels along dispersion axis: 4096\n",
      "\n",
      "\n",
      "sky model will be generated from data\n",
      "\n",
      " Spectrum Start:     0.00\n",
      " Spectrum End:     4095.00\n",
      " Dispersion (1st pixel):   1.00\n",
      " Dispersion (average):      1.00\n",
      "\n",
      "\n",
      "From this point sky subtracted data will be used\n",
      "\n",
      "From now cosmic ray rejected data will be used\n",
      "\n"
     ]
    }
   ],
   "source": [
    "spec = spec2d.Spec2d(file_list[1], hext=12, xtrim=[365, 400], transpose=True)\n",
    "#spec.set_dispaxis('y')\n",
    "spec.subtract_sky_2d()     #outfile=out_file[i])\n",
    "spec.szap_new(infile='0053m1_lens_spectra/0053m1_lens_median_image_new.fits')  #, outfile='test.fits')"
   ]
  },
  {
   "cell_type": "code",
   "execution_count": null,
   "metadata": {},
   "outputs": [],
   "source": [
    "%matplotlib notebook\n",
    "spec.do_waverect(doplot=True, resamp_ord=1)"
   ]
  },
  {
   "cell_type": "code",
   "execution_count": null,
   "metadata": {},
   "outputs": [],
   "source": [
    "profile = spec.spatial_profile(pixrange=[1800, 2000])"
   ]
  },
  {
   "cell_type": "code",
   "execution_count": null,
   "metadata": {},
   "outputs": [],
   "source": [
    "mod = spec.initial_model()"
   ]
  },
  {
   "cell_type": "code",
   "execution_count": null,
   "metadata": {
    "scrolled": false
   },
   "outputs": [],
   "source": [
    "spec.find_and_trace(mod, stepsize=25 , fitorder={'stddev_1' : 3})"
   ]
  },
  {
   "cell_type": "code",
   "execution_count": null,
   "metadata": {},
   "outputs": [],
   "source": [
    "spec.extract(outfile=out_file[1], outformat='fits')"
   ]
  },
  {
   "cell_type": "code",
   "execution_count": null,
   "metadata": {},
   "outputs": [],
   "source": [
    "ymod = interpolate.splrep(self.x, self.y)\n",
    "yout = interpolate.splev(xout, ymod)"
   ]
  },
  {
   "cell_type": "code",
   "execution_count": null,
   "metadata": {},
   "outputs": [],
   "source": [
    "file_loc1 = '0053m1_lens_spectra/*'"
   ]
  },
  {
   "cell_type": "code",
   "execution_count": null,
   "metadata": {},
   "outputs": [],
   "source": [
    "file_list1 = []\n",
    "#out_file = []\n",
    "for i,p in enumerate(glob.glob(file_loc1)):\n",
    "    if 'spec1d' in p and  '0053m1' in p:\n",
    "        #if '.fits' in p:\n",
    "        file_list1.append(p)\n",
    "file_list1"
   ]
  },
  {
   "cell_type": "code",
   "execution_count": null,
   "metadata": {},
   "outputs": [],
   "source": [
    "spec = spec1d.Spec1d(file_list1[2], informat='fits') "
   ]
  },
  {
   "cell_type": "code",
   "execution_count": null,
   "metadata": {
    "scrolled": false
   },
   "outputs": [],
   "source": [
    "for i, p in enumerate(file_list1):\n",
    "    if i!=2 :\n",
    "        spec1 = spec1d.Spec1d(p, informat='fits')\n",
    "        spec1.resample(owave=spec['wav'])\n",
    "        #spec1.smooth(3)\n",
    "        #print(spec1.rswav)\n",
    "        #print(spec1['flux'][30:50])\n",
    "        #print(spec1.rsflux[30:50])\n",
    "        #plt.figure()\n",
    "        #plt.plot(spec1.rswav[:-10], spec1.rsflux[:-10])\n",
    "        var_mod = interpolate.splrep(spec1['wav'], spec1['var'])\n",
    "        var_out = interpolate.splev(spec['wav'], var_mod)\n",
    "        #print(spec1['var'])\n",
    "        #print(var_out)\n",
    "        spec_resmp = spec1d.Spec1d(wav=spec1.rswav, flux=spec1.rsflux, var=var_out)\n",
    "        #spec_resmp.smooth(3)\n",
    "        spec= spec.__add__(spec_resmp)"
   ]
  },
  {
   "cell_type": "code",
   "execution_count": null,
   "metadata": {},
   "outputs": [],
   "source": [
    "spec.smooth(3)\n",
    "spec.mark_lines('abs', z=3.8, usesmooth=True)\n",
    "#spec.mark_lines('strongem', z=3.8, usesmooth=True)\n",
    "spec.mark_lines('em', z=3.8, usesmooth=True)"
   ]
  },
  {
   "cell_type": "code",
   "execution_count": null,
   "metadata": {},
   "outputs": [],
   "source": [
    "spec.smooth(3)"
   ]
  },
  {
   "cell_type": "code",
   "execution_count": null,
   "metadata": {},
   "outputs": [],
   "source": [
    "sp = pf.open(file_list[0])"
   ]
  },
  {
   "cell_type": "code",
   "execution_count": null,
   "metadata": {},
   "outputs": [],
   "source": [
    "sp[19].header"
   ]
  },
  {
   "cell_type": "code",
   "execution_count": null,
   "metadata": {},
   "outputs": [],
   "source": []
  }
 ],
 "metadata": {
  "kernelspec": {
   "display_name": "Python 3",
   "language": "python",
   "name": "python3"
  },
  "language_info": {
   "codemirror_mode": {
    "name": "ipython",
    "version": 3
   },
   "file_extension": ".py",
   "mimetype": "text/x-python",
   "name": "python",
   "nbconvert_exporter": "python",
   "pygments_lexer": "ipython3",
   "version": "3.7.4"
  }
 },
 "nbformat": 4,
 "nbformat_minor": 4
}
