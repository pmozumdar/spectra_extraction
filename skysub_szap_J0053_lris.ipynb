{
 "cells": [
  {
   "cell_type": "code",
   "execution_count": 1,
   "metadata": {},
   "outputs": [],
   "source": [
    "import numpy as np\n",
    "import matplotlib.pyplot as plt\n",
    "import glob\n",
    "from specim_test.specim.specfuncs import spec2d\n",
    "from astropy.io import fits as pf"
   ]
  },
  {
   "cell_type": "code",
   "execution_count": 2,
   "metadata": {},
   "outputs": [],
   "source": [
    "file_loc = '../galaxy_spectra/LRIS_data/LRIS_red_data_201213/keck_lris_red_A/Science/*'"
   ]
  },
  {
   "cell_type": "code",
   "execution_count": 6,
   "metadata": {},
   "outputs": [],
   "source": [
    "file_list = []\n",
    "out_file = []\n",
    "for i,p in enumerate(glob.glob(file_loc)):\n",
    "    if 'spec2d' in p and '0053m1' in p:\n",
    "        file_list.append(p)\n",
    "        frame = p.split('_')[-3][:5]\n",
    "        out_file.append('J0053_LRIS_spectra/J0053_r'+ frame + '_test_skysub.fits')"
   ]
  },
  {
   "cell_type": "code",
   "execution_count": 4,
   "metadata": {},
   "outputs": [
    {
     "data": {
      "text/plain": [
       "['../galaxy_spectra/LRIS_data/LRIS_red_data_201213/keck_lris_red_A/Science/spec2d_r201213_0026a-0053m1_LRISr_2020Dec13T045626.045.fits',\n",
       " '../galaxy_spectra/LRIS_data/LRIS_red_data_201213/keck_lris_red_A/Science/spec2d_r201213_0026b-0053m1_LRISr_2020Dec13T045626.045.fits',\n",
       " '../galaxy_spectra/LRIS_data/LRIS_red_data_201213/keck_lris_red_A/Science/spec2d_r201213_0028-0053m1_LRISr_2020Dec13T071213.306.fits',\n",
       " '../galaxy_spectra/LRIS_data/LRIS_red_data_201213/keck_lris_red_A/Science/spec2d_r201213_0027-0053m1_LRISr_2020Dec13T062831.930.fits']"
      ]
     },
     "execution_count": 4,
     "metadata": {},
     "output_type": "execute_result"
    }
   ],
   "source": [
    "file_list"
   ]
  },
  {
   "cell_type": "code",
   "execution_count": 4,
   "metadata": {},
   "outputs": [
    {
     "name": "stdout",
     "output_type": "stream",
     "text": [
      "\n",
      "Loading file ../galaxy_spectra/LRIS_data/LRIS_red_data_201213/keck_lris_red_A/Science/spec2d_r201213_0026a-0053m1_LRISr_2020Dec13T045626.045.fits\n",
      "-----------------------------------------------\n",
      "Read in 2-dimensional spectrum from ../galaxy_spectra/LRIS_data/LRIS_red_data_201213/keck_lris_red_A/Science/spec2d_r201213_0026a-0053m1_LRISr_2020Dec13T045626.045.fits (HDU=12)\n",
      "The input dataset was trimmed\n",
      " xrange: 360:406.  yrange: 0:4096\n",
      "Final data dimensions (x y): 46 x 4096\n",
      "\n",
      "Dispersion axis:              x\n",
      "N_pixels along dispersion axis: 46\n",
      "\n",
      "\n",
      "Old value of dispaxis: x\n",
      "\n",
      "Dispersion axis:              y\n",
      "N_pixels along dispersion axis: 4096\n",
      "\n",
      "\n",
      "\n",
      "sky model will be generated from data\n",
      "\n",
      " Spectrum Start:     0.00\n",
      " Spectrum End:     4095.00\n",
      " Dispersion (1st pixel):   1.00\n",
      " Dispersion (average):      1.00\n",
      "\n",
      "\n",
      "From this point sky subtracted data will be used\n",
      "\n",
      "From now cosmic ray rejected data will be used\n",
      "\n",
      "Loading file ../galaxy_spectra/LRIS_data/LRIS_red_data_201213/keck_lris_red_A/Science/spec2d_r201213_0026b-0053m1_LRISr_2020Dec13T045626.045.fits\n",
      "-----------------------------------------------\n",
      "Read in 2-dimensional spectrum from ../galaxy_spectra/LRIS_data/LRIS_red_data_201213/keck_lris_red_A/Science/spec2d_r201213_0026b-0053m1_LRISr_2020Dec13T045626.045.fits (HDU=12)\n",
      "The input dataset was trimmed\n",
      " xrange: 360:406.  yrange: 0:4096\n",
      "Final data dimensions (x y): 46 x 4096\n",
      "\n",
      "Dispersion axis:              x\n",
      "N_pixels along dispersion axis: 46\n",
      "\n",
      "\n",
      "Old value of dispaxis: x\n",
      "\n",
      "Dispersion axis:              y\n",
      "N_pixels along dispersion axis: 4096\n",
      "\n",
      "\n",
      "\n",
      "sky model will be generated from data\n",
      "\n",
      " Spectrum Start:     0.00\n",
      " Spectrum End:     4095.00\n",
      " Dispersion (1st pixel):   1.00\n",
      " Dispersion (average):      1.00\n",
      "\n",
      "\n",
      "From this point sky subtracted data will be used\n",
      "\n",
      "From now cosmic ray rejected data will be used\n",
      "\n",
      "Loading file ../galaxy_spectra/LRIS_data/LRIS_red_data_201213/keck_lris_red_A/Science/spec2d_r201213_0028-0053m1_LRISr_2020Dec13T071213.306.fits\n",
      "-----------------------------------------------\n",
      "Read in 2-dimensional spectrum from ../galaxy_spectra/LRIS_data/LRIS_red_data_201213/keck_lris_red_A/Science/spec2d_r201213_0028-0053m1_LRISr_2020Dec13T071213.306.fits (HDU=12)\n",
      "The input dataset was trimmed\n",
      " xrange: 360:406.  yrange: 0:4096\n",
      "Final data dimensions (x y): 46 x 4096\n",
      "\n",
      "Dispersion axis:              x\n",
      "N_pixels along dispersion axis: 46\n",
      "\n",
      "\n",
      "Old value of dispaxis: x\n",
      "\n",
      "Dispersion axis:              y\n",
      "N_pixels along dispersion axis: 4096\n",
      "\n",
      "\n",
      "\n",
      "sky model will be generated from data\n",
      "\n",
      " Spectrum Start:     0.00\n",
      " Spectrum End:     4095.00\n",
      " Dispersion (1st pixel):   1.00\n",
      " Dispersion (average):      1.00\n",
      "\n",
      "\n",
      "From this point sky subtracted data will be used\n",
      "\n",
      "From now cosmic ray rejected data will be used\n",
      "\n",
      "Loading file ../galaxy_spectra/LRIS_data/LRIS_red_data_201213/keck_lris_red_A/Science/spec2d_r201213_0027-0053m1_LRISr_2020Dec13T062831.930.fits\n",
      "-----------------------------------------------\n",
      "Read in 2-dimensional spectrum from ../galaxy_spectra/LRIS_data/LRIS_red_data_201213/keck_lris_red_A/Science/spec2d_r201213_0027-0053m1_LRISr_2020Dec13T062831.930.fits (HDU=12)\n",
      "The input dataset was trimmed\n",
      " xrange: 360:406.  yrange: 0:4096\n",
      "Final data dimensions (x y): 46 x 4096\n",
      "\n",
      "Dispersion axis:              x\n",
      "N_pixels along dispersion axis: 46\n",
      "\n",
      "\n",
      "Old value of dispaxis: x\n",
      "\n",
      "Dispersion axis:              y\n",
      "N_pixels along dispersion axis: 4096\n",
      "\n",
      "\n",
      "\n",
      "sky model will be generated from data\n",
      "\n",
      " Spectrum Start:     0.00\n",
      " Spectrum End:     4095.00\n",
      " Dispersion (1st pixel):   1.00\n",
      " Dispersion (average):      1.00\n",
      "\n",
      "\n",
      "From this point sky subtracted data will be used\n",
      "\n",
      "From now cosmic ray rejected data will be used\n"
     ]
    }
   ],
   "source": [
    "### This part is to create sky subtracted spectra. After that we can use those spectra for further analysis.\n",
    "for i, p in enumerate(file_list):\n",
    "    spec = spec2d.Spec2d(p, hext=12, xtrim=[360, 405])\n",
    "    spec.set_dispaxis('y')\n",
    "    spec.subtract_sky_2d()  #outfile=out_file[i], \n",
    "    #spec.szap(outfile=out_file[i], use_skymod=True)\n",
    "    spec.szap_new(infile='0053m1_lens_spectra/0053m1_lens_median_image.fits')\n",
    "    \n",
    "    filled_data = spec.data\n",
    "    mask = spec.szap_mask\n",
    "    #print(filled_data.shape)\n",
    "    wav_im = pf.open(p)[19].data[spec.ymin:spec.ymax, spec.xmin:spec.xmax]\n",
    "    sky_im = pf.open(p)[14].data[spec.ymin:spec.ymax, spec.xmin:spec.xmax]\n",
    "    ivar_im = pf.open(p)[13].data[spec.ymin:spec.ymax, spec.xmin:spec.xmax]\n",
    "    \n",
    "    ivar_im[mask] = 1.e-5\n",
    "    #print(ivar_im.shape)\n",
    "    sci_hdr = pf.Header()\n",
    "    sci_hdr.append(('OBJECT', 'J0053-2012'))\n",
    "    sci_hdr.append(('IMTYPE', 'SCIENCE_IMAGE'))\n",
    "    sci_hdr.append(('', 'Trimmed and cleaned data by Pritom'))\n",
    "    sci_im_hdu = pf.PrimaryHDU(data=filled_data, header=sci_hdr)\n",
    "    \n",
    "    ivar_hdr = pf.Header()\n",
    "    ivar_hdr.append(('IMTYPE', 'IVAR_IMAGE'))\n",
    "    ivar_im_hdu = pf.ImageHDU(data=ivar_im, header=ivar_hdr)\n",
    "    \n",
    "    sky_hdr = pf.Header()\n",
    "    sky_hdr.append(('IMTYPE', 'SKY_MODEL'))\n",
    "    sky_im_hdu = pf.ImageHDU(data=sky_im, header=sky_hdr)\n",
    "    \n",
    "    wav_hdr = pf.Header()\n",
    "    wav_hdr.append(('IMTYPE', 'WAV_IMAGE'))\n",
    "    wav_im_hdu = pf.ImageHDU(data=wav_im, header=wav_hdr)\n",
    "    \n",
    "    mask_hdr = pf.Header()\n",
    "    mask_hdr.append(('IMTYPE', 'MASK'))\n",
    "    cmt = 'pixels masked as cosmic rays and filled with pixel values at same pixel'\\\n",
    "        'location from median image'\n",
    "    mask_hdr.append(('', cmt))\n",
    "    mask_hdu = pf.ImageHDU(data=mask, header=mask_hdr)\n",
    "    \n",
    "    hdul = pf.HDUList([sci_im_hdu, ivar_im_hdu, sky_im_hdu, wav_im_hdu, mask_hdu ])\n",
    "    hdul.writeto(out_file[i])"
   ]
  },
  {
   "cell_type": "code",
   "execution_count": 8,
   "metadata": {
    "scrolled": true
   },
   "outputs": [
    {
     "name": "stdout",
     "output_type": "stream",
     "text": [
      "\n",
      "Loading file ../galaxy_spectra/LRIS_data/LRIS_red_data_201213/keck_lris_red_A/Science/spec2d_r201213_0026a-0053m1_LRISr_2020Dec13T045626.045.fits\n",
      "-----------------------------------------------\n",
      "Read in 2-dimensional spectrum from ../galaxy_spectra/LRIS_data/LRIS_red_data_201213/keck_lris_red_A/Science/spec2d_r201213_0026a-0053m1_LRISr_2020Dec13T045626.045.fits (HDU=12)\n",
      "The input dataset was trimmed\n",
      " xrange: 360:406.  yrange: 0:4096\n",
      "Final data dimensions (x y): 46 x 4096\n",
      "\n",
      "Dispersion axis:              x\n",
      "N_pixels along dispersion axis: 46\n",
      "\n",
      "\n",
      "Old value of dispaxis: x\n",
      "\n",
      "Dispersion axis:              y\n",
      "N_pixels along dispersion axis: 4096\n",
      "\n",
      "\n",
      "\n",
      "pypeit generated sky model will be used for sky subtraction\n",
      "\n",
      " Wrote sky subtracted data to J0053_LRIS_spectra/J0053_r0026a_test_skysub.fits\n",
      "\n",
      "From this point sky subtracted data will be used\n",
      " Spectrum Start:     0.00\n",
      " Spectrum End:     4095.00\n",
      " Dispersion (1st pixel):   1.00\n",
      " Dispersion (average):      1.00\n",
      "\n",
      "\n",
      "Loading file ../galaxy_spectra/LRIS_data/LRIS_red_data_201213/keck_lris_red_A/Science/spec2d_r201213_0026b-0053m1_LRISr_2020Dec13T045626.045.fits\n",
      "-----------------------------------------------\n",
      "Read in 2-dimensional spectrum from ../galaxy_spectra/LRIS_data/LRIS_red_data_201213/keck_lris_red_A/Science/spec2d_r201213_0026b-0053m1_LRISr_2020Dec13T045626.045.fits (HDU=12)\n",
      "The input dataset was trimmed\n",
      " xrange: 360:406.  yrange: 0:4096\n",
      "Final data dimensions (x y): 46 x 4096\n",
      "\n",
      "Dispersion axis:              x\n",
      "N_pixels along dispersion axis: 46\n",
      "\n",
      "\n",
      "Old value of dispaxis: x\n",
      "\n",
      "Dispersion axis:              y\n",
      "N_pixels along dispersion axis: 4096\n",
      "\n",
      "\n",
      "\n",
      "pypeit generated sky model will be used for sky subtraction\n",
      "\n",
      " Wrote sky subtracted data to J0053_LRIS_spectra/J0053_r0026b_test_skysub.fits\n",
      "\n",
      "From this point sky subtracted data will be used\n",
      " Spectrum Start:     0.00\n",
      " Spectrum End:     4095.00\n",
      " Dispersion (1st pixel):   1.00\n",
      " Dispersion (average):      1.00\n",
      "\n",
      "\n",
      "Loading file ../galaxy_spectra/LRIS_data/LRIS_red_data_201213/keck_lris_red_A/Science/spec2d_r201213_0028-0053m1_LRISr_2020Dec13T071213.306.fits\n",
      "-----------------------------------------------\n",
      "Read in 2-dimensional spectrum from ../galaxy_spectra/LRIS_data/LRIS_red_data_201213/keck_lris_red_A/Science/spec2d_r201213_0028-0053m1_LRISr_2020Dec13T071213.306.fits (HDU=12)\n",
      "The input dataset was trimmed\n",
      " xrange: 360:406.  yrange: 0:4096\n",
      "Final data dimensions (x y): 46 x 4096\n",
      "\n",
      "Dispersion axis:              x\n",
      "N_pixels along dispersion axis: 46\n",
      "\n",
      "\n",
      "Old value of dispaxis: x\n",
      "\n",
      "Dispersion axis:              y\n",
      "N_pixels along dispersion axis: 4096\n",
      "\n",
      "\n",
      "\n",
      "pypeit generated sky model will be used for sky subtraction\n",
      "\n",
      " Wrote sky subtracted data to J0053_LRIS_spectra/J0053_r0028-_test_skysub.fits\n",
      "\n",
      "From this point sky subtracted data will be used\n",
      " Spectrum Start:     0.00\n",
      " Spectrum End:     4095.00\n",
      " Dispersion (1st pixel):   1.00\n",
      " Dispersion (average):      1.00\n",
      "\n",
      "\n",
      "Loading file ../galaxy_spectra/LRIS_data/LRIS_red_data_201213/keck_lris_red_A/Science/spec2d_r201213_0027-0053m1_LRISr_2020Dec13T062831.930.fits\n",
      "-----------------------------------------------\n",
      "Read in 2-dimensional spectrum from ../galaxy_spectra/LRIS_data/LRIS_red_data_201213/keck_lris_red_A/Science/spec2d_r201213_0027-0053m1_LRISr_2020Dec13T062831.930.fits (HDU=12)\n",
      "The input dataset was trimmed\n",
      " xrange: 360:406.  yrange: 0:4096\n",
      "Final data dimensions (x y): 46 x 4096\n",
      "\n",
      "Dispersion axis:              x\n",
      "N_pixels along dispersion axis: 46\n",
      "\n",
      "\n",
      "Old value of dispaxis: x\n",
      "\n",
      "Dispersion axis:              y\n",
      "N_pixels along dispersion axis: 4096\n",
      "\n",
      "\n",
      "\n",
      "pypeit generated sky model will be used for sky subtraction\n",
      "\n",
      " Wrote sky subtracted data to J0053_LRIS_spectra/J0053_r0027-_test_skysub.fits\n",
      "\n",
      "From this point sky subtracted data will be used\n",
      " Spectrum Start:     0.00\n",
      " Spectrum End:     4095.00\n",
      " Dispersion (1st pixel):   1.00\n",
      " Dispersion (average):      1.00\n",
      "\n"
     ]
    }
   ],
   "source": [
    "for i, p in enumerate(file_list):\n",
    "    spec = spec2d.Spec2d(p, hext=12, xtrim=[360, 405])#, transpose=True)\n",
    "    spec.set_dispaxis('y')\n",
    "    spec.subtract_sky_2d(use_skymod=True, outfile=out_file[i])\n",
    "    #spec.szap_new(infile='0053m1_lens_spectra/0053m1_lens_median_image.fits', outfile=out_file[i])\n",
    "    #pf.PrimaryHDU(filled_data).writeto(out_file[i])"
   ]
  },
  {
   "cell_type": "code",
   "execution_count": null,
   "metadata": {},
   "outputs": [],
   "source": [
    "def szap(sp_1):\n",
    "\n",
    "    sp_2 = pf.open('0053m1_lens_median_image.fits')[0].data\n",
    "    mask = np.zeros(sp_1.shape, dtype=bool)\n",
    "    #print(sp_1.shape)\n",
    "\n",
    "    for k in range(0, sp_1.shape[0], 400):\n",
    "        for i in range(0, sp_1.shape[1], 5):\n",
    "            sp1 = sp_1[k:k+400, i:i+5]\n",
    "            sp2 = sp_2[k:k+400, i:i+5]\n",
    "            count1, bins1 = np.histogram(sp1.flatten(), bins=1000)\n",
    "            count2, bins2 = np.histogram(sp2.flatten(), bins=1000)\n",
    "            sm1 = 0\n",
    "            sm2 = 0\n",
    "            cnt1 = 0\n",
    "            cnt2 = 0\n",
    "            tot_pix =sp1.flatten().shape[0]\n",
    "\n",
    "            for j,p in enumerate(count1):\n",
    "                if p > cnt1:\n",
    "                    cnt1 = p\n",
    "                    max_bin1 = bins1[j+1]\n",
    "                sm1 += p\n",
    "                if sm1/tot_pix >= 0.8 :\n",
    "                    border1 = 0.5*(bins1[j+1] + bins1[j])\n",
    "                    break\n",
    "            #print(border)\n",
    "            for j,p in enumerate(count2):\n",
    "                if p > cnt2:\n",
    "                    cnt2 = p\n",
    "                    max_bin2 = 0.5*(bins2[j+1] + bins2[j])\n",
    "                sm2 += p\n",
    "                if sm2/tot_pix >= 0.8 :\n",
    "                    border2 = bins2[j+1]\n",
    "                    break\n",
    "\n",
    "            a = np.where(sp1>border1)\n",
    "            a =np.transpose(a)\n",
    "\n",
    "            if abs(border1 - max_bin1) < 50 :\n",
    "                mp = 50    #/ abs(border1 - max_bin1)\n",
    "            elif abs(border1 - max_bin1) < 100 :\n",
    "                mp = 150\n",
    "            elif abs(border1 - max_bin1) < 300:\n",
    "                mp = 200\n",
    "            else:\n",
    "                mp = 400\n",
    "\n",
    "            for j, p in enumerate(a):\n",
    "\n",
    "                #print(sp2[p[0]][p[1]])\n",
    "                if sp2[p[0]][p[1]] >0 :\n",
    "                    #pass \n",
    "                    if sp1[p[0]][p[1]] > (sp2[p[0]][p[1]]+mp) :\n",
    "                        mask[k+p[0]][i+p[1]] =1 \n",
    "                else:\n",
    "                    if sp1[p[0]][p[1]] > 3*border1 :\n",
    "                        mask[k+p[0]][i+p[1]] =1\n",
    "                        \n",
    "    #print(mask)\n",
    "    sp_1[mask] = sp_2[mask]\n",
    "    \n",
    "    mf =  (sp_1 > 200) | (sp_1 < -100)\n",
    "    \n",
    "    for k, p in enumerate(np.transpose(np.where(mf==True))):\n",
    "        mask[p[0]][p[1]] = 1\n",
    "        reg = sp_1[p[0]-10: p[0]+10, p[1]:p[1]+1]\n",
    "        sp_1[p[0]][p[1]] = np.median(reg)\n",
    "                \n",
    "        #d[mask] = fill[mask] \n",
    "        #mm = m.astype('bool') | mask\n",
    "    \n",
    "    return sp_1, mask.astype(int)"
   ]
  },
  {
   "cell_type": "code",
   "execution_count": 9,
   "metadata": {
    "scrolled": true
   },
   "outputs": [
    {
     "name": "stdout",
     "output_type": "stream",
     "text": [
      "\n",
      "Loading file ../galaxy_spectra/LRIS_data/LRIS_red_data_201213/keck_lris_red_A/Science/spec2d_r201213_0026a-0053m1_LRISr_2020Dec13T045626.045.fits\n",
      "-----------------------------------------------\n",
      "Read in 2-dimensional spectrum from ../galaxy_spectra/LRIS_data/LRIS_red_data_201213/keck_lris_red_A/Science/spec2d_r201213_0026a-0053m1_LRISr_2020Dec13T045626.045.fits (HDU=12)\n",
      "The input dataset was trimmed\n",
      " xrange: 360:406.  yrange: 0:4096\n",
      "Final data dimensions (x y): 46 x 4096\n",
      "\n",
      "Dispersion axis:              x\n",
      "N_pixels along dispersion axis: 46\n",
      "\n",
      "\n",
      "Old value of dispaxis: x\n",
      "\n",
      "Dispersion axis:              y\n",
      "N_pixels along dispersion axis: 4096\n",
      "\n",
      "\n",
      "\n",
      "sky model will be generated from data\n",
      "\n",
      " Spectrum Start:     0.00\n",
      " Spectrum End:     4095.00\n",
      " Dispersion (1st pixel):   1.00\n",
      " Dispersion (average):      1.00\n",
      "\n",
      "\n",
      "From this point sky subtracted data will be used\n",
      "\n",
      "Loading file ../galaxy_spectra/LRIS_data/LRIS_red_data_201213/keck_lris_red_A/Science/spec2d_r201213_0026b-0053m1_LRISr_2020Dec13T045626.045.fits\n",
      "-----------------------------------------------\n",
      "Read in 2-dimensional spectrum from ../galaxy_spectra/LRIS_data/LRIS_red_data_201213/keck_lris_red_A/Science/spec2d_r201213_0026b-0053m1_LRISr_2020Dec13T045626.045.fits (HDU=12)\n",
      "The input dataset was trimmed\n",
      " xrange: 360:406.  yrange: 0:4096\n",
      "Final data dimensions (x y): 46 x 4096\n",
      "\n",
      "Dispersion axis:              x\n",
      "N_pixels along dispersion axis: 46\n",
      "\n",
      "\n",
      "Old value of dispaxis: x\n",
      "\n",
      "Dispersion axis:              y\n",
      "N_pixels along dispersion axis: 4096\n",
      "\n",
      "\n",
      "\n",
      "sky model will be generated from data\n",
      "\n",
      " Spectrum Start:     0.00\n",
      " Spectrum End:     4095.00\n",
      " Dispersion (1st pixel):   1.00\n",
      " Dispersion (average):      1.00\n",
      "\n",
      "\n",
      "From this point sky subtracted data will be used\n",
      "\n",
      "Loading file ../galaxy_spectra/LRIS_data/LRIS_red_data_201213/keck_lris_red_A/Science/spec2d_r201213_0028-0053m1_LRISr_2020Dec13T071213.306.fits\n",
      "-----------------------------------------------\n",
      "Read in 2-dimensional spectrum from ../galaxy_spectra/LRIS_data/LRIS_red_data_201213/keck_lris_red_A/Science/spec2d_r201213_0028-0053m1_LRISr_2020Dec13T071213.306.fits (HDU=12)\n",
      "The input dataset was trimmed\n",
      " xrange: 360:406.  yrange: 0:4096\n",
      "Final data dimensions (x y): 46 x 4096\n",
      "\n",
      "Dispersion axis:              x\n",
      "N_pixels along dispersion axis: 46\n",
      "\n",
      "\n",
      "Old value of dispaxis: x\n",
      "\n",
      "Dispersion axis:              y\n",
      "N_pixels along dispersion axis: 4096\n",
      "\n",
      "\n",
      "\n",
      "sky model will be generated from data\n",
      "\n",
      " Spectrum Start:     0.00\n",
      " Spectrum End:     4095.00\n",
      " Dispersion (1st pixel):   1.00\n",
      " Dispersion (average):      1.00\n",
      "\n",
      "\n",
      "From this point sky subtracted data will be used\n",
      "\n",
      "Loading file ../galaxy_spectra/LRIS_data/LRIS_red_data_201213/keck_lris_red_A/Science/spec2d_r201213_0027-0053m1_LRISr_2020Dec13T062831.930.fits\n",
      "-----------------------------------------------\n",
      "Read in 2-dimensional spectrum from ../galaxy_spectra/LRIS_data/LRIS_red_data_201213/keck_lris_red_A/Science/spec2d_r201213_0027-0053m1_LRISr_2020Dec13T062831.930.fits (HDU=12)\n",
      "The input dataset was trimmed\n",
      " xrange: 360:406.  yrange: 0:4096\n",
      "Final data dimensions (x y): 46 x 4096\n",
      "\n",
      "Dispersion axis:              x\n",
      "N_pixels along dispersion axis: 46\n",
      "\n",
      "\n",
      "Old value of dispaxis: x\n",
      "\n",
      "Dispersion axis:              y\n",
      "N_pixels along dispersion axis: 4096\n",
      "\n",
      "\n",
      "\n",
      "sky model will be generated from data\n",
      "\n",
      " Spectrum Start:     0.00\n",
      " Spectrum End:     4095.00\n",
      " Dispersion (1st pixel):   1.00\n",
      " Dispersion (average):      1.00\n",
      "\n",
      "\n",
      "From this point sky subtracted data will be used\n"
     ]
    }
   ],
   "source": [
    "## median image\n",
    "spec_list = []\n",
    "for i, p in enumerate(file_list):\n",
    "    spec = spec2d.Spec2d(p, hext=12, xtrim=[360, 405])\n",
    "    spec.set_dispaxis('y')\n",
    "    spec.subtract_sky_2d()\n",
    "    spec_list.append(spec.data)\n",
    "median_im = np.median(np.asarray(spec_list), axis=0)\n",
    "pf.PrimaryHDU(median_im).writeto('0053m1_lens_median_image.fits')"
   ]
  },
  {
   "cell_type": "code",
   "execution_count": null,
   "metadata": {},
   "outputs": [],
   "source": [
    "spec.szap() #outfile='0053m1_lens_szap.fits'"
   ]
  },
  {
   "cell_type": "code",
   "execution_count": null,
   "metadata": {},
   "outputs": [],
   "source": [
    "spec.do_waverect(doplot=True)"
   ]
  },
  {
   "cell_type": "code",
   "execution_count": null,
   "metadata": {},
   "outputs": [],
   "source": [
    "profile = spec.spatial_profile(pixrange=[1600, 3500])"
   ]
  },
  {
   "cell_type": "code",
   "execution_count": null,
   "metadata": {},
   "outputs": [],
   "source": [
    "spec.find_and_trace()"
   ]
  },
  {
   "cell_type": "code",
   "execution_count": null,
   "metadata": {},
   "outputs": [],
   "source": [
    "spec.display_spec()"
   ]
  },
  {
   "cell_type": "code",
   "execution_count": null,
   "metadata": {},
   "outputs": [],
   "source": [
    "spec.data[0]"
   ]
  },
  {
   "cell_type": "code",
   "execution_count": null,
   "metadata": {},
   "outputs": [],
   "source": [
    "y2d, x2d = np.indices(spec.data.shape)"
   ]
  },
  {
   "cell_type": "code",
   "execution_count": null,
   "metadata": {},
   "outputs": [],
   "source": [
    "y2d"
   ]
  },
  {
   "cell_type": "code",
   "execution_count": null,
   "metadata": {},
   "outputs": [],
   "source": [
    "x2d.sum(axis=1)"
   ]
  },
  {
   "cell_type": "code",
   "execution_count": null,
   "metadata": {},
   "outputs": [],
   "source": [
    "y2d1, x2d1 = np.indices(spec.data.T.shape)"
   ]
  },
  {
   "cell_type": "code",
   "execution_count": null,
   "metadata": {},
   "outputs": [],
   "source": [
    "y2d1.sum(axis=0)"
   ]
  },
  {
   "cell_type": "code",
   "execution_count": null,
   "metadata": {},
   "outputs": [],
   "source": [
    "x2d1"
   ]
  },
  {
   "cell_type": "code",
   "execution_count": null,
   "metadata": {},
   "outputs": [],
   "source": [
    "a = y2d1.sum(axis=0)\n",
    "a.repeat(51).reshape(4096, 51)"
   ]
  },
  {
   "cell_type": "code",
   "execution_count": null,
   "metadata": {},
   "outputs": [],
   "source": [
    "a1 = np.array([1, 3, 5])\n",
    "a1.repeat(2).reshape(3,2)"
   ]
  },
  {
   "cell_type": "code",
   "execution_count": null,
   "metadata": {},
   "outputs": [],
   "source": [
    "from astropy.modeling import models\n",
    "g = models.Gaussian1D(amplitude=[1, 2, 3], mean=[0, 0, 1],\n",
    "                      stddev=[0.1, 0.2, 0.3], n_models=3)"
   ]
  },
  {
   "cell_type": "code",
   "execution_count": null,
   "metadata": {},
   "outputs": [],
   "source": [
    "p = []"
   ]
  },
  {
   "cell_type": "code",
   "execution_count": null,
   "metadata": {},
   "outputs": [],
   "source": [
    "p.append(g)"
   ]
  },
  {
   "cell_type": "code",
   "execution_count": null,
   "metadata": {},
   "outputs": [],
   "source": [
    "p.append(g)"
   ]
  },
  {
   "cell_type": "code",
   "execution_count": null,
   "metadata": {},
   "outputs": [],
   "source": [
    "p[0].mean.value"
   ]
  },
  {
   "cell_type": "code",
   "execution_count": 5,
   "metadata": {},
   "outputs": [
    {
     "name": "stdout",
     "output_type": "stream",
     "text": [
      "1e-05\n"
     ]
    }
   ],
   "source": [
    "print(1.e-5)"
   ]
  },
  {
   "cell_type": "code",
   "execution_count": 8,
   "metadata": {},
   "outputs": [
    {
     "data": {
      "text/plain": [
       "(4096, 46)"
      ]
     },
     "execution_count": 8,
     "metadata": {},
     "output_type": "execute_result"
    }
   ],
   "source": [
    "ivar_im.shape"
   ]
  },
  {
   "cell_type": "code",
   "execution_count": 6,
   "metadata": {},
   "outputs": [
    {
     "data": {
      "text/plain": [
       "92"
      ]
     },
     "execution_count": 6,
     "metadata": {},
     "output_type": "execute_result"
    }
   ],
   "source": [
    "np.sum(ivar_im==1.e-5)"
   ]
  },
  {
   "cell_type": "code",
   "execution_count": null,
   "metadata": {},
   "outputs": [],
   "source": []
  }
 ],
 "metadata": {
  "kernelspec": {
   "display_name": "Python 3",
   "language": "python",
   "name": "python3"
  },
  "language_info": {
   "codemirror_mode": {
    "name": "ipython",
    "version": 3
   },
   "file_extension": ".py",
   "mimetype": "text/x-python",
   "name": "python",
   "nbconvert_exporter": "python",
   "pygments_lexer": "ipython3",
   "version": "3.8.5"
  }
 },
 "nbformat": 4,
 "nbformat_minor": 4
}
