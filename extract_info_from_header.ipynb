{
 "cells": [
  {
   "cell_type": "code",
   "execution_count": 22,
   "metadata": {},
   "outputs": [],
   "source": [
    "from astropy.io import fits\n",
    "import glob\n",
    "import pandas as pd"
   ]
  },
  {
   "cell_type": "code",
   "execution_count": 8,
   "metadata": {},
   "outputs": [],
   "source": [
    "file_loc = '../galaxy_spectra/LRIS_red_data_201213/keck_lris_red_D/Science/*'"
   ]
  },
  {
   "cell_type": "code",
   "execution_count": 9,
   "metadata": {},
   "outputs": [
    {
     "name": "stdout",
     "output_type": "stream",
     "text": [
      "B0445+123 72.091625 12.46547222222222 2400.0\n",
      "B0445+123 72.091625 12.46547222222222 2400.0\n",
      "B0445+123 72.091625 12.46547222222222 2400.0\n",
      "MG0751+2716 117.9229166666666 27.27555555555556 2400.0\n",
      "B0445+123 72.091625 12.46547222222222 2400.0\n",
      "B0445+123 72.091625 12.46547222222222 2400.0\n",
      "MG0751+2716 117.92275 27.27561111111111 957.0\n"
     ]
    }
   ],
   "source": [
    "spec2d_file_list = []\n",
    "#var2d_file_list = []\n",
    "#out_file = []\n",
    "for i,p in enumerate(glob.glob(file_loc)):\n",
    "    if 'spec2d' in p and 'Feige' not in p:\n",
    "        spec2d_file_list.append(p)\n",
    "        sp = fits.open(p)\n",
    "        hd = sp[0].header\n",
    "        #print(hd['TARGNAME'], hd['RA'], hd['DEC'], hd['EXPOSURE'])\n",
    "        print(hd['TARGNAME'], hd['RA'], hd['DEC'], hd['EXPTIME'])"
   ]
  },
  {
   "cell_type": "code",
   "execution_count": 5,
   "metadata": {},
   "outputs": [
    {
     "data": {
      "text/plain": [
       "9"
      ]
     },
     "execution_count": 5,
     "metadata": {},
     "output_type": "execute_result"
    }
   ],
   "source": [
    "len(spec2d_file_list)"
   ]
  },
  {
   "cell_type": "code",
   "execution_count": 79,
   "metadata": {},
   "outputs": [],
   "source": [
    "file = '../galaxy_spectra/DEIMOS_data/night1_log.txt'"
   ]
  },
  {
   "cell_type": "code",
   "execution_count": 80,
   "metadata": {},
   "outputs": [],
   "source": [
    "f = pd.read_csv(file, delim_whitespace=True, header=0, skiprows=[1])"
   ]
  },
  {
   "cell_type": "code",
   "execution_count": 81,
   "metadata": {},
   "outputs": [],
   "source": [
    "m = f['t_exp'] > 1000"
   ]
  },
  {
   "cell_type": "code",
   "execution_count": 82,
   "metadata": {},
   "outputs": [
    {
     "data": {
      "text/plain": [
       "72     2M1310m1\n",
       "73     2M1310m1\n",
       "76      J1251m1\n",
       "77      J1251m1\n",
       "84      J1330m1\n",
       "85      J1330m1\n",
       "88       1606m1\n",
       "89       1606m1\n",
       "94       1817m2\n",
       "95       1817m2\n",
       "98       2145m1\n",
       "99       2145m1\n",
       "103      2145m2\n",
       "104      2145m2\n",
       "Name: Object, dtype: object"
      ]
     },
     "execution_count": 82,
     "metadata": {},
     "output_type": "execute_result"
    }
   ],
   "source": [
    "f['Object'][m]"
   ]
  },
  {
   "cell_type": "code",
   "execution_count": 83,
   "metadata": {},
   "outputs": [
    {
     "data": {
      "text/html": [
       "<div>\n",
       "<style scoped>\n",
       "    .dataframe tbody tr th:only-of-type {\n",
       "        vertical-align: middle;\n",
       "    }\n",
       "\n",
       "    .dataframe tbody tr th {\n",
       "        vertical-align: top;\n",
       "    }\n",
       "\n",
       "    .dataframe thead th {\n",
       "        text-align: right;\n",
       "    }\n",
       "</style>\n",
       "<table border=\"1\" class=\"dataframe\">\n",
       "  <thead>\n",
       "    <tr style=\"text-align: right;\">\n",
       "      <th></th>\n",
       "      <th>File</th>\n",
       "      <th>size</th>\n",
       "      <th>Object</th>\n",
       "      <th>t_exp</th>\n",
       "      <th>Instrument</th>\n",
       "      <th>Filter</th>\n",
       "    </tr>\n",
       "  </thead>\n",
       "  <tbody>\n",
       "    <tr>\n",
       "      <th>0</th>\n",
       "      <td>d0613_0002.fits.gz</td>\n",
       "      <td>1116x2601</td>\n",
       "      <td>FocusloopRinternal</td>\n",
       "      <td>8.06</td>\n",
       "      <td>DEIMOS</td>\n",
       "      <td>R</td>\n",
       "    </tr>\n",
       "    <tr>\n",
       "      <th>1</th>\n",
       "      <td>d0613_0003.fits.gz</td>\n",
       "      <td>1116x2601</td>\n",
       "      <td>FocusloopRinternal</td>\n",
       "      <td>8.06</td>\n",
       "      <td>DEIMOS</td>\n",
       "      <td>R</td>\n",
       "    </tr>\n",
       "    <tr>\n",
       "      <th>2</th>\n",
       "      <td>d0613_0004.fits.gz</td>\n",
       "      <td>1116x2601</td>\n",
       "      <td>FocusloopRinternal</td>\n",
       "      <td>8.05</td>\n",
       "      <td>DEIMOS</td>\n",
       "      <td>R</td>\n",
       "    </tr>\n",
       "    <tr>\n",
       "      <th>3</th>\n",
       "      <td>d0613_0005.fits.gz</td>\n",
       "      <td>1116x2601</td>\n",
       "      <td>FocusloopRinternal</td>\n",
       "      <td>8.06</td>\n",
       "      <td>DEIMOS</td>\n",
       "      <td>R</td>\n",
       "    </tr>\n",
       "    <tr>\n",
       "      <th>4</th>\n",
       "      <td>d0613_0006.fits.gz</td>\n",
       "      <td>1116x2601</td>\n",
       "      <td>FocusloopRinternal</td>\n",
       "      <td>8.05</td>\n",
       "      <td>DEIMOS</td>\n",
       "      <td>R</td>\n",
       "    </tr>\n",
       "    <tr>\n",
       "      <th>...</th>\n",
       "      <td>...</td>\n",
       "      <td>...</td>\n",
       "      <td>...</td>\n",
       "      <td>...</td>\n",
       "      <td>...</td>\n",
       "      <td>...</td>\n",
       "    </tr>\n",
       "    <tr>\n",
       "      <th>105</th>\n",
       "      <td>d0613_0107.fits.gz</td>\n",
       "      <td>2140x4096</td>\n",
       "      <td>CdZnarcLVMslitC</td>\n",
       "      <td>12.06</td>\n",
       "      <td>DEIMOS</td>\n",
       "      <td>GG455</td>\n",
       "    </tr>\n",
       "    <tr>\n",
       "      <th>106</th>\n",
       "      <td>d0613_0108.fits.gz</td>\n",
       "      <td>2140x4096</td>\n",
       "      <td>NeArKrXeHgarcLVMslitC</td>\n",
       "      <td>1.24</td>\n",
       "      <td>DEIMOS</td>\n",
       "      <td>GG455</td>\n",
       "    </tr>\n",
       "    <tr>\n",
       "      <th>107</th>\n",
       "      <td>d0613_0109.fits.gz</td>\n",
       "      <td>2140x4096</td>\n",
       "      <td>IntFlatLVMslitC</td>\n",
       "      <td>4.07</td>\n",
       "      <td>DEIMOS</td>\n",
       "      <td>GG455</td>\n",
       "    </tr>\n",
       "    <tr>\n",
       "      <th>108</th>\n",
       "      <td>d0613_0110.fits.gz</td>\n",
       "      <td>2140x4096</td>\n",
       "      <td>IntFlatLVMslitC</td>\n",
       "      <td>4.06</td>\n",
       "      <td>DEIMOS</td>\n",
       "      <td>GG455</td>\n",
       "    </tr>\n",
       "    <tr>\n",
       "      <th>109</th>\n",
       "      <td>d0613_0111.fits.gz</td>\n",
       "      <td>2140x4096</td>\n",
       "      <td>IntFlatLVMslitC</td>\n",
       "      <td>4.07</td>\n",
       "      <td>DEIMOS</td>\n",
       "      <td>GG455</td>\n",
       "    </tr>\n",
       "  </tbody>\n",
       "</table>\n",
       "<p>110 rows × 6 columns</p>\n",
       "</div>"
      ],
      "text/plain": [
       "                   File       size                 Object  t_exp Instrument  \\\n",
       "0    d0613_0002.fits.gz  1116x2601     FocusloopRinternal   8.06     DEIMOS   \n",
       "1    d0613_0003.fits.gz  1116x2601     FocusloopRinternal   8.06     DEIMOS   \n",
       "2    d0613_0004.fits.gz  1116x2601     FocusloopRinternal   8.05     DEIMOS   \n",
       "3    d0613_0005.fits.gz  1116x2601     FocusloopRinternal   8.06     DEIMOS   \n",
       "4    d0613_0006.fits.gz  1116x2601     FocusloopRinternal   8.05     DEIMOS   \n",
       "..                  ...        ...                    ...    ...        ...   \n",
       "105  d0613_0107.fits.gz  2140x4096        CdZnarcLVMslitC  12.06     DEIMOS   \n",
       "106  d0613_0108.fits.gz  2140x4096  NeArKrXeHgarcLVMslitC   1.24     DEIMOS   \n",
       "107  d0613_0109.fits.gz  2140x4096        IntFlatLVMslitC   4.07     DEIMOS   \n",
       "108  d0613_0110.fits.gz  2140x4096        IntFlatLVMslitC   4.06     DEIMOS   \n",
       "109  d0613_0111.fits.gz  2140x4096        IntFlatLVMslitC   4.07     DEIMOS   \n",
       "\n",
       "    Filter  \n",
       "0        R  \n",
       "1        R  \n",
       "2        R  \n",
       "3        R  \n",
       "4        R  \n",
       "..     ...  \n",
       "105  GG455  \n",
       "106  GG455  \n",
       "107  GG455  \n",
       "108  GG455  \n",
       "109  GG455  \n",
       "\n",
       "[110 rows x 6 columns]"
      ]
     },
     "execution_count": 83,
     "metadata": {},
     "output_type": "execute_result"
    }
   ],
   "source": [
    "f"
   ]
  },
  {
   "cell_type": "code",
   "execution_count": 84,
   "metadata": {},
   "outputs": [
    {
     "name": "stdout",
     "output_type": "stream",
     "text": [
      "72     2M1310m1\n",
      "73     2M1310m1\n",
      "76      J1251m1\n",
      "77      J1251m1\n",
      "84      J1330m1\n",
      "85      J1330m1\n",
      "88       1606m1\n",
      "89       1606m1\n",
      "94       1817m2\n",
      "95       1817m2\n",
      "98       2145m1\n",
      "99       2145m1\n",
      "103      2145m2\n",
      "104      2145m2\n",
      "Name: Object, dtype: object 72     1800.06\n",
      "73     1800.07\n",
      "76     1800.06\n",
      "77     1800.06\n",
      "84     1800.02\n",
      "85     1800.05\n",
      "88     1800.10\n",
      "89     1800.08\n",
      "94     2400.09\n",
      "95     2400.08\n",
      "98     1800.06\n",
      "99     1800.06\n",
      "103    1500.06\n",
      "104    1500.04\n",
      "Name: t_exp, dtype: float64 72     GG455\n",
      "73     GG455\n",
      "76     GG455\n",
      "77     GG455\n",
      "84     GG455\n",
      "85     GG455\n",
      "88     GG455\n",
      "89     GG455\n",
      "94     GG455\n",
      "95     GG455\n",
      "98     GG455\n",
      "99     GG455\n",
      "103    GG455\n",
      "104    GG455\n",
      "Name: Filter, dtype: object\n"
     ]
    }
   ],
   "source": [
    "print(f['Object'][m], f['t_exp'][m], f['Filter'][m])"
   ]
  },
  {
   "cell_type": "code",
   "execution_count": null,
   "metadata": {},
   "outputs": [],
   "source": []
  }
 ],
 "metadata": {
  "kernelspec": {
   "display_name": "Python 3",
   "language": "python",
   "name": "python3"
  },
  "language_info": {
   "codemirror_mode": {
    "name": "ipython",
    "version": 3
   },
   "file_extension": ".py",
   "mimetype": "text/x-python",
   "name": "python",
   "nbconvert_exporter": "python",
   "pygments_lexer": "ipython3",
   "version": "3.8.5"
  }
 },
 "nbformat": 4,
 "nbformat_minor": 4
}
