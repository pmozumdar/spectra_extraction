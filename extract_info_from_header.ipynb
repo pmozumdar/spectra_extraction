{
 "cells": [
  {
   "cell_type": "code",
   "execution_count": 1,
   "metadata": {},
   "outputs": [],
   "source": [
    "from astropy.io import fits\n",
    "import glob\n",
    "import pandas as pd"
   ]
  },
  {
   "cell_type": "code",
   "execution_count": 13,
   "metadata": {},
   "outputs": [],
   "source": [
    "file_loc1 = '../galaxy_spectra/LRIS_data/LRIS_red_data_201213/keck_lris_red_D/Science/*'"
   ]
  },
  {
   "cell_type": "code",
   "execution_count": 14,
   "metadata": {},
   "outputs": [
    {
     "name": "stdout",
     "output_type": "stream",
     "text": [
      "B0445+123 72.091625 12.46547222222222 2400.0 -22.99949066 2020-12-13 1.5\n",
      "B0445+123 72.091625 12.46547222222222 2400.0 -22.99993231 2020-12-13 1.5\n",
      "B0445+123 72.091625 12.46547222222222 2400.0 -23.00004887 2020-12-13 1.5\n",
      "B0445+123 72.091625 12.46547222222222 2400.0 -23.00009105 2020-12-13 1.5\n",
      "B0445+123 72.091625 12.46547222222222 2400.0 -22.99983161 2020-12-13 1.5\n"
     ]
    }
   ],
   "source": [
    "spec2d_file_list = []\n",
    "#var2d_file_list = []\n",
    "#out_file = []\n",
    "for i,p in enumerate(glob.glob(file_loc1)):\n",
    "    if 'spec2d' in p and 'B0445' in p:\n",
    "        spec2d_file_list.append(p)\n",
    "        sp = fits.open(p)\n",
    "        hd = sp[0].header\n",
    "        #print(hd['TARGNAME'], hd['RA'], hd['DEC'], hd['EXPOSURE'])\n",
    "        print(hd['TARGNAME'], hd['RA'], hd['DEC'], hd['EXPTIME'], hd['ROTPOSN'], hd['DATE-OBS'],\n",
    "             hd['SLITWIDT'])"
   ]
  },
  {
   "cell_type": "code",
   "execution_count": 15,
   "metadata": {},
   "outputs": [],
   "source": [
    "file_loc2 = '../galaxy_spectra/LRIS_data/LRIS_red_data_20201120/keck_lris_red_B/Science/*'"
   ]
  },
  {
   "cell_type": "code",
   "execution_count": 27,
   "metadata": {},
   "outputs": [
    {
     "name": "stdout",
     "output_type": "stream",
     "text": [
      "B0631+519 98.80083333333332 51.95041666666667 1480.0 225.00020664 2020-11-21 1.0\n",
      "B0631+519 98.80087499999998 51.95041666666667 2200.0 225.00010996 2020-11-21 1.0\n",
      "B0631+519 98.80083333333332 51.95041666666667 2400.0 225.0001398 2020-11-21 1.0\n"
     ]
    }
   ],
   "source": [
    "spec2d_file_list = []\n",
    "#var2d_file_list = []\n",
    "#out_file = []\n",
    "for i,p in enumerate(glob.glob(file_loc2)):\n",
    "    if 'spec2d' in p and 'B0631' in p:\n",
    "        spec2d_file_list.append(p)\n",
    "        sp = fits.open(p)\n",
    "        hd = sp[0].header\n",
    "        #print(hd['TARGNAME'], hd['RA'], hd['DEC'], hd['EXPOSURE'])\n",
    "        print(hd['TARGNAME'], hd['RA'], hd['DEC'], hd['EXPTIME'], hd['ROTPOSN'], hd['DATE-OBS'],\n",
    "             hd['SLITWIDT'])"
   ]
  },
  {
   "cell_type": "code",
   "execution_count": 20,
   "metadata": {},
   "outputs": [],
   "source": [
    "file_loc3 = '../galaxy_spectra/ESI_data/2018/*'"
   ]
  },
  {
   "cell_type": "code",
   "execution_count": 30,
   "metadata": {},
   "outputs": [
    {
     "name": "stdout",
     "output_type": "stream",
     "text": [
      "J0147+4630 01:47:10.20 +46:30:40.5 2400 7.30013167 2018-12-01 1.00_arcsec\n",
      "J0147+4630 01:47:10.16 +46:30:36.5 2400 7.30010755 2018-12-01 1.00_arcsec\n",
      "J0147+4630 01:47:10.26 +46:30:44.5 2400 7.30011819 2018-12-01 1.00_arcsec\n"
     ]
    }
   ],
   "source": [
    "spec2d_file_list = []\n",
    "#var2d_file_list = []\n",
    "#out_file = []\n",
    "for i,p in enumerate(glob.glob(file_loc3)):\n",
    "    if 'bgsub' in p and 'J0147' in p :\n",
    "        spec2d_file_list.append(p)\n",
    "        sp = fits.open(p)\n",
    "        hd = sp[0].header\n",
    "        #print(hd['TARGNAME'], hd['RA'], hd['DEC'], hd['EXPOSURE'])\n",
    "        print(hd['TARGNAME'], hd['RA'], hd['DEC'], hd['EXPOSURE'], hd['ROTPOSN'], hd['DATE-OBS'],\n",
    "             hd['SLMSKNAM'])"
   ]
  },
  {
   "cell_type": "code",
   "execution_count": 31,
   "metadata": {},
   "outputs": [
    {
     "name": "stdout",
     "output_type": "stream",
     "text": [
      "J0924+0219 09:24:55.76 +02:19:19.9 2400 10.00013619 2018-12-01 1.00_arcsec\n",
      "J0924+0219 09:24:55.88 +02:19:29.7 2400 10.00013677 2018-12-01 1.00_arcsec\n",
      "J0924+0219 09:24:55.82 +02:19:24.8 2400 10.00001503 2018-12-01 1.00_arcsec\n"
     ]
    }
   ],
   "source": [
    "spec2d_file_list = []\n",
    "#var2d_file_list = []\n",
    "#out_file = []\n",
    "for i,p in enumerate(glob.glob(file_loc3)):\n",
    "    if 'bgsub' in p and 'J0924' in p :\n",
    "        spec2d_file_list.append(p)\n",
    "        sp = fits.open(p)\n",
    "        hd = sp[0].header\n",
    "        #print(hd['TARGNAME'], hd['RA'], hd['DEC'], hd['EXPOSURE'])\n",
    "        print(hd['TARGNAME'], hd['RA'], hd['DEC'], hd['EXPOSURE'], hd['ROTPOSN'], hd['DATE-OBS'],\n",
    "             hd['SLMSKNAM'])"
   ]
  },
  {
   "cell_type": "code",
   "execution_count": 34,
   "metadata": {},
   "outputs": [],
   "source": [
    "file_loc4 = '../galaxy_spectra/ESI_data/2019_04/*'"
   ]
  },
  {
   "cell_type": "code",
   "execution_count": 35,
   "metadata": {},
   "outputs": [
    {
     "name": "stdout",
     "output_type": "stream",
     "text": [
      "J1433+6007 14:33:22.80 +60:07:15.6 2400 88.00006071 2019-04-10 1.00_arcsec\n",
      "J1433+6007 14:33:22.13 +60:07:15.4 2400 87.99949221 2019-04-10 1.00_arcsec\n",
      "J1433+6007 14:33:23.47 +60:07:15.8 2400 87.99967257 2019-04-10 1.00_arcsec\n"
     ]
    }
   ],
   "source": [
    "spec2d_file_list = []\n",
    "#var2d_file_list = []\n",
    "#out_file = []\n",
    "for i,p in enumerate(glob.glob(file_loc4)):\n",
    "    if 'bgsub' in p and 'J1433' in p :\n",
    "        spec2d_file_list.append(p)\n",
    "        sp = fits.open(p)\n",
    "        hd = sp[0].header\n",
    "        #print(hd['TARGNAME'], hd['RA'], hd['DEC'], hd['EXPOSURE'])\n",
    "        print(hd['TARGNAME'], hd['RA'], hd['DEC'], hd['EXPOSURE'], hd['ROTPOSN'], hd['DATE-OBS'],\n",
    "             hd['SLMSKNAM'])"
   ]
  },
  {
   "cell_type": "code",
   "execution_count": 36,
   "metadata": {},
   "outputs": [
    {
     "name": "stdout",
     "output_type": "stream",
     "text": [
      "J0818-2613 08:18:28.24 -26:13:24.8 1800 89.99947584 2019-04-10 1.00_arcsec\n",
      "J0818-2613 08:18:28.62 -26:13:24.8 1800 89.99969238 2019-04-10 1.00_arcsec\n"
     ]
    }
   ],
   "source": [
    "spec2d_file_list = []\n",
    "#var2d_file_list = []\n",
    "#out_file = []\n",
    "for i,p in enumerate(glob.glob(file_loc4)):\n",
    "    if 'bgsub' in p and 'J0818' in p :\n",
    "        spec2d_file_list.append(p)\n",
    "        sp = fits.open(p)\n",
    "        hd = sp[0].header\n",
    "        #print(hd['TARGNAME'], hd['RA'], hd['DEC'], hd['EXPOSURE'])\n",
    "        print(hd['TARGNAME'], hd['RA'], hd['DEC'], hd['EXPOSURE'], hd['ROTPOSN'], hd['DATE-OBS'],\n",
    "             hd['SLMSKNAM'])"
   ]
  },
  {
   "cell_type": "code",
   "execution_count": 37,
   "metadata": {},
   "outputs": [
    {
     "name": "stdout",
     "output_type": "stream",
     "text": [
      "J1817+2729 18:17:30.68 +27:29:43.5 2400 314.99972374 2019-04-10 1.00_arcsec\n",
      "J1817+2729 18:17:30.95 +27:29:39.9 2400 314.99998741 2019-04-10 1.00_arcsec\n"
     ]
    }
   ],
   "source": [
    "spec2d_file_list = []\n",
    "#var2d_file_list = []\n",
    "#out_file = []\n",
    "for i,p in enumerate(glob.glob(file_loc4)):\n",
    "    if 'bgsub' in p and 'J1817' in p :\n",
    "        spec2d_file_list.append(p)\n",
    "        sp = fits.open(p)\n",
    "        hd = sp[0].header\n",
    "        #print(hd['TARGNAME'], hd['RA'], hd['DEC'], hd['EXPOSURE'])\n",
    "        print(hd['TARGNAME'], hd['RA'], hd['DEC'], hd['EXPOSURE'], hd['ROTPOSN'], hd['DATE-OBS'],\n",
    "             hd['SLMSKNAM'])"
   ]
  },
  {
   "cell_type": "code",
   "execution_count": 2,
   "metadata": {},
   "outputs": [],
   "source": [
    "file_loc5 = '../galaxy_spectra/LRIS_data/J0659/*'"
   ]
  },
  {
   "cell_type": "code",
   "execution_count": 7,
   "metadata": {},
   "outputs": [
    {
     "name": "stdout",
     "output_type": "stream",
     "text": [
      "hilt600 06:45:13.24 +02:08:13.6 59.99559784 -119.99985532 2018-10-03 long_1.0 -29.9999\n",
      "gral3_17 06:59:03.92 +16:29:09.7 600.00799561 -50.00004769 2018-10-03 long_1.0 40.0\n",
      "hilt600 06:45:13.24 +02:08:13.6 59.99440002 -120.00004023 2018-10-03 long_1.0 -30.0\n",
      "gral3_17 06:59:04.00 +16:29:08.7 599.99957275 -89.99996822 2018-10-03 long_1.0 3.05176e-05\n"
     ]
    }
   ],
   "source": [
    "spec2d_file_list = []\n",
    "#var2d_file_list = []\n",
    "#out_file = []\n",
    "for i,p in enumerate(glob.glob(file_loc5)):\n",
    "    if 'szfpr' in p:\n",
    "        spec2d_file_list.append(p)\n",
    "        sp = fits.open(p)\n",
    "        hd = sp[0].header\n",
    "        #print(hd['TARGNAME'], hd['RA'], hd['DEC'], hd['EXPOSURE'])\n",
    "        print(hd['TARGNAME'], hd['RA'], hd['DEC'], hd['EXPTIME'], hd['ROTPOSN'], hd['DATE-OBS'],\n",
    "             hd['SLITNAME'], hd['SLITPA'])"
   ]
  },
  {
   "cell_type": "code",
   "execution_count": 8,
   "metadata": {},
   "outputs": [
    {
     "data": {
      "text/plain": [
       "['../galaxy_spectra/LRIS_data/J0659/szfpr181003_0065r.fits',\n",
       " '../galaxy_spectra/LRIS_data/J0659/szfpr181003_0063r.fits',\n",
       " '../galaxy_spectra/LRIS_data/J0659/szfpr181003_0066r.fits',\n",
       " '../galaxy_spectra/LRIS_data/J0659/szfpr181003_0062r.fits']"
      ]
     },
     "execution_count": 8,
     "metadata": {},
     "output_type": "execute_result"
    }
   ],
   "source": [
    "spec2d_file_list"
   ]
  },
  {
   "cell_type": "markdown",
   "metadata": {},
   "source": [
    "## DEIMOS data"
   ]
  },
  {
   "cell_type": "code",
   "execution_count": 79,
   "metadata": {},
   "outputs": [],
   "source": [
    "file = '../galaxy_spectra/DEIMOS_data/night1_log.txt'"
   ]
  },
  {
   "cell_type": "code",
   "execution_count": 80,
   "metadata": {},
   "outputs": [],
   "source": [
    "f = pd.read_csv(file, delim_whitespace=True, header=0, skiprows=[1])"
   ]
  },
  {
   "cell_type": "code",
   "execution_count": 81,
   "metadata": {},
   "outputs": [],
   "source": [
    "m = f['t_exp'] > 1000"
   ]
  },
  {
   "cell_type": "code",
   "execution_count": 82,
   "metadata": {},
   "outputs": [
    {
     "data": {
      "text/plain": [
       "72     2M1310m1\n",
       "73     2M1310m1\n",
       "76      J1251m1\n",
       "77      J1251m1\n",
       "84      J1330m1\n",
       "85      J1330m1\n",
       "88       1606m1\n",
       "89       1606m1\n",
       "94       1817m2\n",
       "95       1817m2\n",
       "98       2145m1\n",
       "99       2145m1\n",
       "103      2145m2\n",
       "104      2145m2\n",
       "Name: Object, dtype: object"
      ]
     },
     "execution_count": 82,
     "metadata": {},
     "output_type": "execute_result"
    }
   ],
   "source": [
    "f['Object'][m]"
   ]
  },
  {
   "cell_type": "code",
   "execution_count": 2,
   "metadata": {},
   "outputs": [],
   "source": [
    "file_loc = '../galaxy_spectra/ESI_data/2017/*'"
   ]
  },
  {
   "cell_type": "code",
   "execution_count": 4,
   "metadata": {},
   "outputs": [
    {
     "name": "stdout",
     "output_type": "stream",
     "text": [
      "2M1134-2103AD 11:34:40.51 -21:03:22.9 600\n",
      "2M1134-2103BC 11:34:40.28 -21:03:25.5 600\n",
      "2M1134-2103BC 11:34:40.48 -21:03:22.6 600\n",
      "2M1134-2103AD 11:34:40.46 -21:03:23.5 600\n",
      "2M1134-2103AD 11:34:40.51 -21:03:22.9 600\n",
      "2M1134-2103AD 11:34:40.32 -21:03:19.9 600\n",
      "2M1134-2103BC 11:34:40.69 -21:03:20.0 600\n",
      "2M1134-2103AD 11:34:40.70 -21:03:25.8 600\n"
     ]
    }
   ],
   "source": [
    "for i,p in enumerate(glob.glob(file_loc)):\n",
    "    if 'bgsub' in p:\n",
    "        #spec2d_file_list.append(p)\n",
    "        sp = fits.open(p)\n",
    "        hd = sp[0].header\n",
    "        print(hd['TARGNAME'], hd['RA'], hd['DEC'], hd['EXPOSURE'])\n",
    "        #print(hd['TARGNAME'], hd['RA'], hd['DEC'], hd['EXPTIME'])"
   ]
  },
  {
   "cell_type": "code",
   "execution_count": null,
   "metadata": {},
   "outputs": [],
   "source": []
  }
 ],
 "metadata": {
  "kernelspec": {
   "display_name": "Python 3",
   "language": "python",
   "name": "python3"
  },
  "language_info": {
   "codemirror_mode": {
    "name": "ipython",
    "version": 3
   },
   "file_extension": ".py",
   "mimetype": "text/x-python",
   "name": "python",
   "nbconvert_exporter": "python",
   "pygments_lexer": "ipython3",
   "version": "3.8.5"
  }
 },
 "nbformat": 4,
 "nbformat_minor": 4
}
