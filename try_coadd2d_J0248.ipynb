{
 "cells": [
  {
   "cell_type": "code",
   "execution_count": 1,
   "metadata": {},
   "outputs": [],
   "source": [
    "import numpy as np\n",
    "import matplotlib.pyplot as plt\n",
    "import glob\n",
    "\n",
    "from astropy.io import fits as pf\n",
    "from keckcode_test.keckcode.esiredux import esi2d, esi1d\n",
    "from specim_test.specim.specfuncs import spec2d, spec1d"
   ]
  },
  {
   "cell_type": "code",
   "execution_count": 2,
   "metadata": {},
   "outputs": [],
   "source": [
    "file_loc = '../galaxy_spectra/ESI_data/*'"
   ]
  },
  {
   "cell_type": "code",
   "execution_count": 3,
   "metadata": {},
   "outputs": [],
   "source": [
    "spec2d_file_list = []\n",
    "var2d_file_list = []\n",
    "#out_file = []\n",
    "for i,p in enumerate(glob.glob(file_loc)):\n",
    "    if 'J0248' in p:\n",
    "        if 'bgsub.fits' in p:\n",
    "            spec2d_file_list.append(p)\n",
    "        elif 'var.fits' in p:\n",
    "            var2d_file_list.append(p)"
   ]
  },
  {
   "cell_type": "code",
   "execution_count": 4,
   "metadata": {},
   "outputs": [
    {
     "data": {
      "text/plain": [
       "['../galaxy_spectra/ESI_data/J0248+1913_0035_bgsub.fits',\n",
       " '../galaxy_spectra/ESI_data/J0248+1913_0034_bgsub.fits',\n",
       " '../galaxy_spectra/ESI_data/J0248+1913_0036_bgsub.fits']"
      ]
     },
     "execution_count": 4,
     "metadata": {},
     "output_type": "execute_result"
    }
   ],
   "source": [
    "spec2d_file_list"
   ]
  },
  {
   "cell_type": "code",
   "execution_count": 5,
   "metadata": {},
   "outputs": [
    {
     "data": {
      "text/plain": [
       "['../galaxy_spectra/ESI_data/J0248+1913_0035_var.fits',\n",
       " '../galaxy_spectra/ESI_data/J0248+1913_0036_var.fits',\n",
       " '../galaxy_spectra/ESI_data/J0248+1913_0034_var.fits']"
      ]
     },
     "execution_count": 5,
     "metadata": {},
     "output_type": "execute_result"
    }
   ],
   "source": [
    "var2d_file_list"
   ]
  },
  {
   "cell_type": "code",
   "execution_count": 6,
   "metadata": {},
   "outputs": [
    {
     "name": "stdout",
     "output_type": "stream",
     "text": [
      "Order  Shape    Dispaxis\n",
      "----- --------- --------\n",
      "  1   3461x165     x\n",
      "  2   4093x145     x\n",
      "  3   4096x146     x\n",
      "  4   4096x141     x\n",
      "  5   4096x130     x\n",
      "  6   4096x127     x\n",
      "  7   4096x124     x\n",
      "  8   4096x121     x\n",
      "  9   4096x117     x\n",
      " 10   4096x111     x\n",
      "../galaxy_spectra/ESI_data/J0248+1913_0034_bgsub.fits\n",
      "../galaxy_spectra/ESI_data/J0248+1913_0034_var.fits\n"
     ]
    }
   ],
   "source": [
    "spec = esi2d.Esi2d(spec2d_file_list[1], varfile=var2d_file_list[2])\n",
    "print(spec2d_file_list[1])\n",
    "print(var2d_file_list[2])"
   ]
  },
  {
   "cell_type": "markdown",
   "metadata": {},
   "source": [
    "## WFC3 instrument in HST has a pixel scale of 0.04 arcsec/pix."
   ]
  },
  {
   "cell_type": "markdown",
   "metadata": {},
   "source": [
    "### According to header file the slit position for J0630 is -47.999 deg (north through east). A vector parallel to the slit shows that the distance from around the middle of quasar image 'A' and 'B', and the image 'E'  is 1.830 arc sec. Then a vector from the center of the deflector near image 'E' and to the image itself shows that the angle is 42.863 (angle calculated from due east) and the distance is 0.357. The center to center distance between image 'E' and 'D' is 1.07 arc sec if the vector is almost parallel to slit (-47 deg north through east). And the distance between the deflector near image 'D' and the image itself is 0.358 arc sec if a vector is drawn from the deflector with an angle 25.409 deg (angle calculated from due east)."
   ]
  },
  {
   "cell_type": "markdown",
   "metadata": {},
   "source": [
    "### According to header file the slit position for J0147 is 7.3 deg (north through east).  If we draw vectors from the deflector to quasar images 'A'(up-middle) and  'D' (down) parallel to the slit then the center to center distances between deflector and these images are around 1.95 and 1.2 arc sec (according to HST image)."
   ]
  },
  {
   "cell_type": "markdown",
   "metadata": {},
   "source": [
    "### Acording to the header the slit position angle for J0248 system is 100 deg (north to east). If we draw vectors from the deflector to quasar images 'A'(down-right), 'B'(up-right), 'C' (down-left) and 'D' (up-left), then the angles of the vectors are around (north through east) 252.5, 322, 156  and 33.5 deg  respectively. And the center to center distances between deflector and these images are around 0.72, 0.843, 0.9 and 0.765 arc sec (according to HST image)."
   ]
  },
  {
   "cell_type": "code",
   "execution_count": 7,
   "metadata": {
    "scrolled": false
   },
   "outputs": [
    {
     "name": "stdout",
     "output_type": "stream",
     "text": [
      "Profile max value (before normalization) 29.680112\n"
     ]
    },
    {
     "data": {
      "image/png": "[encoded data removed]",
      "text/plain": [
       "<Figure size 432x288 with 1 Axes>"
      ]
     },
     "metadata": {
      "needs_background": "light"
     },
     "output_type": "display_data"
    },
    {
     "name": "stdout",
     "output_type": "stream",
     "text": [
      "\n",
      "To create an initial model you first need to enter degree of background polynomial(<3) and number of Gaussian and Moffat profile as integers.\n",
      "Order of background polynomial : 0\n",
      "Number of Gaussian profile : 3\n",
      "Number of Moffat profile : 0\n",
      "\n",
      "Now enter constants of the background polynomial upto degree 0\n",
      "c0 : 0.5\n",
      "\n",
      "Enter parameter values for a Gaussian profile in following format...\n",
      "amplitude_value, mu_value, sigma_value\n",
      "\n",
      "Parameters of Gaussian profile 1 : 8, 63, 2\n",
      "\n",
      "amplitude=8.000000, mu=63.000000, sigma=2.000000\n",
      "\n",
      "Parameters of Gaussian profile 2 : 15, 68, 2\n",
      "\n",
      "amplitude=15.000000, mu=68.000000, sigma=2.000000\n",
      "\n",
      "Parameters of Gaussian profile 3 : 27, 76, 2\n",
      "\n",
      "amplitude=27.000000, mu=76.000000, sigma=2.000000\n",
      "\n",
      "Fitted model\n",
      "-------------\n",
      "Model: CompoundModel\n",
      "Inputs: ('x',)\n",
      "Outputs: ('y',)\n",
      "Model set size: 1\n",
      "Expression: [0] + [1] + [2] + [3]\n",
      "Components: \n",
      "    [0]: <Polynomial1D(0, c0=-0.02786412)>\n",
      "\n",
      "    [1]: <Gaussian1D(amplitude=5.33954985, mean=65.03318823, stddev=2.99309025)>\n",
      "\n",
      "    [2]: <Gaussian1D(amplitude=5.32274095, mean=68.601109, stddev=1.41554918)>\n",
      "\n",
      "    [3]: <Gaussian1D(amplitude=28.25899895, mean=75.79094018, stddev=4.07759133)>\n",
      "Parameters:\n",
      "             c0_0            amplitude_1    ...       mean_3           stddev_3     \n",
      "    --------------------- ----------------- ... ----------------- ------------------\n",
      "    -0.027864115290527375 5.339549849977551 ... 75.79094018390256 4.0775913284381335\n",
      "\n",
      "-------------------------------------------\n",
      "\n"
     ]
    },
    {
     "name": "stderr",
     "output_type": "stream",
     "text": [
      "WARNING: The fit may be unsuccessful; check fit_info['message'] for more information. [astropy.modeling.fitting]\n"
     ]
    },
    {
     "data": {
      "image/png": "[encoded data removed]",
      "text/plain": [
       "<Figure size 432x288 with 2 Axes>"
      ]
     },
     "metadata": {
      "needs_background": "light"
     },
     "output_type": "display_data"
    },
    {
     "data": {
      "image/png": "[encoded data removed]",
      "text/plain": [
       "<Figure size 432x288 with 1 Axes>"
      ]
     },
     "metadata": {
      "needs_background": "light"
     },
     "output_type": "display_data"
    },
    {
     "name": "stdout",
     "output_type": "stream",
     "text": [
      "\n",
      "Do you want to start over ? : type yes/no\n",
      "no\n",
      "Profile max value (before normalization) 20.751202\n"
     ]
    },
    {
     "data": {
      "image/png": "[encoded data removed]",
      "text/plain": [
       "<Figure size 432x288 with 1 Axes>"
      ]
     },
     "metadata": {
      "needs_background": "light"
     },
     "output_type": "display_data"
    },
    {
     "name": "stdout",
     "output_type": "stream",
     "text": [
      "\n",
      "To create an initial model you first need to enter degree of background polynomial(<3) and number of Gaussian and Moffat profile as integers.\n",
      "Order of background polynomial : 0\n",
      "Number of Gaussian profile : 3\n",
      "Number of Moffat profile : 0\n",
      "\n",
      "Now enter constants of the background polynomial upto degree 0\n"
     ]
    },
    {
     "ename": "KeyboardInterrupt",
     "evalue": "Interrupted by user",
     "output_type": "error",
     "traceback": [
      "\u001b[0;31m---------------------------------------------------------------------------\u001b[0m",
      "\u001b[0;31mKeyboardInterrupt\u001b[0m                         Traceback (most recent call last)",
      "\u001b[0;32m<ipython-input-7-ff04b3c0f695>\u001b[0m in \u001b[0;36m<module>\u001b[0;34m\u001b[0m\n\u001b[1;32m      4\u001b[0m     \u001b[0msp\u001b[0m\u001b[0;34m.\u001b[0m\u001b[0mspatial_profile\u001b[0m\u001b[0;34m(\u001b[0m\u001b[0mpixrange\u001b[0m\u001b[0;34m=\u001b[0m\u001b[0mpixrange\u001b[0m\u001b[0;34m,\u001b[0m \u001b[0mtitle\u001b[0m\u001b[0;34m=\u001b[0m\u001b[0mtitle\u001b[0m\u001b[0;34m)\u001b[0m\u001b[0;34m\u001b[0m\u001b[0;34m\u001b[0m\u001b[0m\n\u001b[1;32m      5\u001b[0m     \u001b[0mplt\u001b[0m\u001b[0;34m.\u001b[0m\u001b[0mshow\u001b[0m\u001b[0;34m(\u001b[0m\u001b[0;34m)\u001b[0m\u001b[0;34m\u001b[0m\u001b[0;34m\u001b[0m\u001b[0m\n\u001b[0;32m----> 6\u001b[0;31m     \u001b[0msp\u001b[0m\u001b[0;34m.\u001b[0m\u001b[0minitial_model\u001b[0m\u001b[0;34m(\u001b[0m\u001b[0;34m)\u001b[0m\u001b[0;34m\u001b[0m\u001b[0;34m\u001b[0m\u001b[0m\n\u001b[0m",
      "\u001b[0;32m~/Project/new_project/spectra_extraction/specim_test/specim/specfuncs/spec2d.py\u001b[0m in \u001b[0;36minitial_model\u001b[0;34m(self, profile, verbose)\u001b[0m\n\u001b[1;32m   1192\u001b[0m \u001b[0;34m\u001b[0m\u001b[0m\n\u001b[1;32m   1193\u001b[0m                 \u001b[0;32mfor\u001b[0m \u001b[0mi\u001b[0m \u001b[0;32min\u001b[0m \u001b[0mrange\u001b[0m\u001b[0;34m(\u001b[0m\u001b[0mbackground_order\u001b[0m\u001b[0;34m+\u001b[0m\u001b[0;36m1\u001b[0m\u001b[0;34m)\u001b[0m\u001b[0;34m:\u001b[0m\u001b[0;34m\u001b[0m\u001b[0;34m\u001b[0m\u001b[0m\n\u001b[0;32m-> 1194\u001b[0;31m                     \u001b[0mbg_const\u001b[0m\u001b[0;34m.\u001b[0m\u001b[0mappend\u001b[0m\u001b[0;34m(\u001b[0m\u001b[0mfloat\u001b[0m\u001b[0;34m(\u001b[0m\u001b[0minput\u001b[0m\u001b[0;34m(\u001b[0m\u001b[0;34m'c%d : '\u001b[0m\u001b[0;34m%\u001b[0m\u001b[0mi\u001b[0m\u001b[0;34m)\u001b[0m\u001b[0;34m)\u001b[0m\u001b[0;34m)\u001b[0m\u001b[0;34m\u001b[0m\u001b[0;34m\u001b[0m\u001b[0m\n\u001b[0m\u001b[1;32m   1195\u001b[0m \u001b[0;34m\u001b[0m\u001b[0m\n\u001b[1;32m   1196\u001b[0m                 \u001b[0;32mif\u001b[0m \u001b[0mbackground_order\u001b[0m\u001b[0;34m==\u001b[0m\u001b[0;36m0\u001b[0m\u001b[0;34m:\u001b[0m\u001b[0;34m\u001b[0m\u001b[0;34m\u001b[0m\u001b[0m\n",
      "\u001b[0;32m~/anaconda3/lib/python3.8/site-packages/ipykernel/kernelbase.py\u001b[0m in \u001b[0;36mraw_input\u001b[0;34m(self, prompt)\u001b[0m\n\u001b[1;32m    858\u001b[0m                 \u001b[0;34m\"raw_input was called, but this frontend does not support input requests.\"\u001b[0m\u001b[0;34m\u001b[0m\u001b[0;34m\u001b[0m\u001b[0m\n\u001b[1;32m    859\u001b[0m             )\n\u001b[0;32m--> 860\u001b[0;31m         return self._input_request(str(prompt),\n\u001b[0m\u001b[1;32m    861\u001b[0m             \u001b[0mself\u001b[0m\u001b[0;34m.\u001b[0m\u001b[0m_parent_ident\u001b[0m\u001b[0;34m,\u001b[0m\u001b[0;34m\u001b[0m\u001b[0;34m\u001b[0m\u001b[0m\n\u001b[1;32m    862\u001b[0m             \u001b[0mself\u001b[0m\u001b[0;34m.\u001b[0m\u001b[0m_parent_header\u001b[0m\u001b[0;34m,\u001b[0m\u001b[0;34m\u001b[0m\u001b[0;34m\u001b[0m\u001b[0m\n",
      "\u001b[0;32m~/anaconda3/lib/python3.8/site-packages/ipykernel/kernelbase.py\u001b[0m in \u001b[0;36m_input_request\u001b[0;34m(self, prompt, ident, parent, password)\u001b[0m\n\u001b[1;32m    902\u001b[0m             \u001b[0;32mexcept\u001b[0m \u001b[0mKeyboardInterrupt\u001b[0m\u001b[0;34m:\u001b[0m\u001b[0;34m\u001b[0m\u001b[0;34m\u001b[0m\u001b[0m\n\u001b[1;32m    903\u001b[0m                 \u001b[0;31m# re-raise KeyboardInterrupt, to truncate traceback\u001b[0m\u001b[0;34m\u001b[0m\u001b[0;34m\u001b[0m\u001b[0;34m\u001b[0m\u001b[0m\n\u001b[0;32m--> 904\u001b[0;31m                 \u001b[0;32mraise\u001b[0m \u001b[0mKeyboardInterrupt\u001b[0m\u001b[0;34m(\u001b[0m\u001b[0;34m\"Interrupted by user\"\u001b[0m\u001b[0;34m)\u001b[0m \u001b[0;32mfrom\u001b[0m \u001b[0;32mNone\u001b[0m\u001b[0;34m\u001b[0m\u001b[0;34m\u001b[0m\u001b[0m\n\u001b[0m\u001b[1;32m    905\u001b[0m             \u001b[0;32mexcept\u001b[0m \u001b[0mException\u001b[0m \u001b[0;32mas\u001b[0m \u001b[0me\u001b[0m\u001b[0;34m:\u001b[0m\u001b[0;34m\u001b[0m\u001b[0;34m\u001b[0m\u001b[0m\n\u001b[1;32m    906\u001b[0m                 \u001b[0mself\u001b[0m\u001b[0;34m.\u001b[0m\u001b[0mlog\u001b[0m\u001b[0;34m.\u001b[0m\u001b[0mwarning\u001b[0m\u001b[0;34m(\u001b[0m\u001b[0;34m\"Invalid Message:\"\u001b[0m\u001b[0;34m,\u001b[0m \u001b[0mexc_info\u001b[0m\u001b[0;34m=\u001b[0m\u001b[0;32mTrue\u001b[0m\u001b[0;34m)\u001b[0m\u001b[0;34m\u001b[0m\u001b[0;34m\u001b[0m\u001b[0m\n",
      "\u001b[0;31mKeyboardInterrupt\u001b[0m: Interrupted by user"
     ]
    }
   ],
   "source": [
    "pixrange = [1900, 2400]\n",
    "for sp, info in zip(spec, spec.ordinfo):\n",
    "    title = 'Spatial profile for ' + str(info['name'])\n",
    "    sp.spatial_profile(pixrange=pixrange, title=title)\n",
    "    plt.show()\n",
    "    sp.initial_model()"
   ]
  },
  {
   "cell_type": "markdown",
   "metadata": {},
   "source": [
    "### The left most Gaussian profile is from two left images. As they are not directly in the slit so I have used the avarage of their projected distances parallel to the slit from the deflector which is 0.5*(0.9cos56 + .0.765cos66.5)=0.404. The pixel scale of the HST (WFC3) instrument is 0.04 arcsec/pixel. So according to the image that means 10.104 pixel.\n",
    "### Similarly the right most Gaussian profile is from the right two images. As both of them are partly on the slit I have also used the avarage projected distance along the slit from the deflector which is 0.5(0.72cos27.5 +0.843cos42)=0.633. "
   ]
  },
  {
   "cell_type": "code",
   "execution_count": null,
   "metadata": {
    "scrolled": false
   },
   "outputs": [],
   "source": [
    "def tie_pos1_gauss_1(model):\n",
    "    return model.mean_3 - (1.037 / spec.ordinfo[0]['pixscale'])\n",
    "\n",
    "def tie_pos2_gauss_1(model):\n",
    "    return model.mean_3 - (0.633 / spec.ordinfo[0]['pixscale'])\n",
    "\n",
    "def tie_pos1_gauss_2(model):\n",
    "    return model.mean_3 - (1.037 / spec.ordinfo[1]['pixscale'])\n",
    "\n",
    "def tie_pos2_gauss_2(model):\n",
    "    return model.mean_3 - (0.633 / spec.ordinfo[1]['pixscale'])\n",
    "\n",
    "def tie_pos1_gauss_5(model):\n",
    "    return model.mean_3 - (1.037 / spec.ordinfo[4]['pixscale'])  \n",
    "\n",
    "def tie_pos2_gauss_5(model):\n",
    "    return model.mean_3 - (0.633 / spec.ordinfo[4]['pixscale'])\n",
    "\n",
    "def tie_pos1_gauss_8(model):\n",
    "    return model.mean_3 - (1.037 / spec.ordinfo[7]['pixscale'])\n",
    "\n",
    "def tie_pos2_gauss_8(model):\n",
    "    return model.mean_3 - (0.633 / spec.ordinfo[7]['pixscale'])\n",
    "\n",
    "def tie_pos1_gauss_9(model):\n",
    "    return model.mean_3 - (1.037 / spec.ordinfo[8]['pixscale'])\n",
    "\n",
    "def tie_pos2_gauss_9(model):\n",
    "    return model.mean_3 - (0.633 / spec.ordinfo[8]['pixscale'])\n",
    "\n",
    "\n",
    "def tie_stddev(model):\n",
    "    return model.stddev_3\n",
    "\n",
    "\n",
    "func_dict = {'1_1' : tie_pos1_gauss_1, '1_2' : tie_pos2_gauss_1,\n",
    "             '2_1' : tie_pos1_gauss_2, '2_2' : tie_pos2_gauss_2,\n",
    "             #'3_1' : tie_pos1_gauss_3, '3_2' : tie_pos2_gauss_3,\n",
    "             #'4_1' : tie_pos1_gauss_4, '4_2' : tie_pos2_gauss_4,\n",
    "             '5_1' : tie_pos1_gauss_5, '5_2' : tie_pos2_gauss_5,\n",
    "             #'6_1' : tie_pos1_gauss_6, '6_2' : tie_pos2_gauss_6,\n",
    "             #'7_1' : tie_pos1_gauss_7, '7_2' : tie_pos2_gauss_7,\n",
    "             '8_1' : tie_pos1_gauss_8, '8_2' : tie_pos2_gauss_8,\n",
    "             '9_1' : tie_pos1_gauss_9, '9_2' : tie_pos2_gauss_9,\n",
    "             #'10_1' : tie_pos1_gauss_10, '10_2' : tie_pos2_gauss_10\n",
    "            }\n",
    "    \n",
    "for sp, info in zip(spec, spec.ordinfo):\n",
    "    if sp.mod0 is not None:\n",
    "        print(info['pixscale'])\n",
    "        #sp.mod0[1].mean.tied = func_dict['%d_%d' %(info['order'], 1)] #tie_pos1_gauss_\n",
    "        #sp.mod0[2].mean.tied = func_dict['%d_%d' %(info['order'], 2)] #tie_pos2_gauss\n",
    "        sp.mod0[1].stddev.tied = tie_stddev\n",
    "        sp.refined_model(sp.mod0)"
   ]
  },
  {
   "cell_type": "code",
   "execution_count": null,
   "metadata": {},
   "outputs": [],
   "source": []
  },
  {
   "cell_type": "code",
   "execution_count": null,
   "metadata": {},
   "outputs": [],
   "source": []
  }
 ],
 "metadata": {
  "kernelspec": {
   "display_name": "Python 3",
   "language": "python",
   "name": "python3"
  },
  "language_info": {
   "codemirror_mode": {
    "name": "ipython",
    "version": 3
   },
   "file_extension": ".py",
   "mimetype": "text/x-python",
   "name": "python",
   "nbconvert_exporter": "python",
   "pygments_lexer": "ipython3",
   "version": "3.8.5"
  }
 },
 "nbformat": 4,
 "nbformat_minor": 4
}
